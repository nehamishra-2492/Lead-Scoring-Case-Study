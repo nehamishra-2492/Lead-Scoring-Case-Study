{
 "cells": [
  {
   "cell_type": "markdown",
   "id": "d091aa8e",
   "metadata": {},
   "source": [
    "**Problem Statement** \n",
    "\n",
    "An education company named X Education sells online courses to industry professionals. On any given day, many professionals who are interested in the courses land on their website and browse for courses. \n",
    "\n",
    "The company markets its courses on several websites and search engines like Google. Once these people land on the website, they might browse the courses or fill up a form for the course or watch some videos. When these people fill up a form providing their email address or phone number, they are classified to be a lead. Moreover, the company also gets leads through past referrals. Once these leads are acquired, employees from the sales team start making calls, writing emails, etc. Through this process, some of the leads get converted while most do not. The typical lead conversion rate at X education is around 30%. \n",
    "\n",
    "Although X Education gets a lot of leads, its lead conversion rate is very poor. For example, if, say, they acquire 100 leads in a day, only about 30 of them are converted. To make this process more efficient, the company wishes to identify the most potential leads, also known as ‘Hot Leads’. If they successfully identify this set of leads, the lead conversion rate should go up as the sales team will now be focusing more on communicating with the potential leads rather than making calls to everyone.\n",
    "X Education has appointed you to help them select the most promising leads, i.e. the leads that are most likely to convert into paying customers. The company requires you to build a model wherein you need to assign a lead score to each of the leads such that the customers with a higher lead score have a higher conversion chance and the customers with a lower lead score have a lower conversion chance. The CEO, in particular, has given a ballpark of the target lead conversion rate to be around 80%."
   ]
  },
  {
   "cell_type": "code",
   "execution_count": 1,
   "id": "838d265d",
   "metadata": {},
   "outputs": [],
   "source": [
    "#Importing neccesary libraries\n",
    "import numpy as np\n",
    "import pandas as pd\n",
    "import matplotlib.pyplot as plt\n",
    "import seaborn as sns\n",
    "import warnings\n",
    "warnings.filterwarnings('ignore')\n",
    "from sklearn.model_selection import train_test_split\n",
    "from sklearn.preprocessing import StandardScaler\n",
    "import statsmodels.api as sm\n",
    "from sklearn.linear_model import LogisticRegression\n",
    "from sklearn.feature_selection import RFE\n",
    "from statsmodels.stats.outliers_influence import variance_inflation_factor\n",
    "from sklearn import metrics\n",
    "from sklearn.metrics import precision_score, recall_score\n",
    "from sklearn.metrics import precision_recall_curve"
   ]
  },
  {
   "cell_type": "markdown",
   "id": "f4519a3b",
   "metadata": {},
   "source": [
    "### Importing the dataset"
   ]
  },
  {
   "cell_type": "code",
   "execution_count": 2,
   "id": "49e0f67e",
   "metadata": {},
   "outputs": [],
   "source": [
    "leads = pd.read_csv('leads.csv')"
   ]
  },
  {
   "cell_type": "markdown",
   "id": "b9f9b2ca",
   "metadata": {},
   "source": [
    "## Viewing the datset"
   ]
  },
  {
   "cell_type": "code",
   "execution_count": 3,
   "id": "d9ac6876",
   "metadata": {},
   "outputs": [
    {
     "data": {
      "text/html": [
       "<div>\n",
       "<style scoped>\n",
       "    .dataframe tbody tr th:only-of-type {\n",
       "        vertical-align: middle;\n",
       "    }\n",
       "\n",
       "    .dataframe tbody tr th {\n",
       "        vertical-align: top;\n",
       "    }\n",
       "\n",
       "    .dataframe thead th {\n",
       "        text-align: right;\n",
       "    }\n",
       "</style>\n",
       "<table border=\"1\" class=\"dataframe\">\n",
       "  <thead>\n",
       "    <tr style=\"text-align: right;\">\n",
       "      <th></th>\n",
       "      <th>Prospect ID</th>\n",
       "      <th>Lead Number</th>\n",
       "      <th>Lead Origin</th>\n",
       "      <th>Lead Source</th>\n",
       "      <th>Do Not Email</th>\n",
       "      <th>Do Not Call</th>\n",
       "      <th>Converted</th>\n",
       "      <th>TotalVisits</th>\n",
       "      <th>Total Time Spent on Website</th>\n",
       "      <th>Page Views Per Visit</th>\n",
       "      <th>...</th>\n",
       "      <th>Get updates on DM Content</th>\n",
       "      <th>Lead Profile</th>\n",
       "      <th>City</th>\n",
       "      <th>Asymmetrique Activity Index</th>\n",
       "      <th>Asymmetrique Profile Index</th>\n",
       "      <th>Asymmetrique Activity Score</th>\n",
       "      <th>Asymmetrique Profile Score</th>\n",
       "      <th>I agree to pay the amount through cheque</th>\n",
       "      <th>A free copy of Mastering The Interview</th>\n",
       "      <th>Last Notable Activity</th>\n",
       "    </tr>\n",
       "  </thead>\n",
       "  <tbody>\n",
       "    <tr>\n",
       "      <th>0</th>\n",
       "      <td>7927b2df-8bba-4d29-b9a2-b6e0beafe620</td>\n",
       "      <td>660737</td>\n",
       "      <td>API</td>\n",
       "      <td>Olark Chat</td>\n",
       "      <td>No</td>\n",
       "      <td>No</td>\n",
       "      <td>0</td>\n",
       "      <td>0.0</td>\n",
       "      <td>0</td>\n",
       "      <td>0.0</td>\n",
       "      <td>...</td>\n",
       "      <td>No</td>\n",
       "      <td>Select</td>\n",
       "      <td>Select</td>\n",
       "      <td>02.Medium</td>\n",
       "      <td>02.Medium</td>\n",
       "      <td>15.0</td>\n",
       "      <td>15.0</td>\n",
       "      <td>No</td>\n",
       "      <td>No</td>\n",
       "      <td>Modified</td>\n",
       "    </tr>\n",
       "    <tr>\n",
       "      <th>1</th>\n",
       "      <td>2a272436-5132-4136-86fa-dcc88c88f482</td>\n",
       "      <td>660728</td>\n",
       "      <td>API</td>\n",
       "      <td>Organic Search</td>\n",
       "      <td>No</td>\n",
       "      <td>No</td>\n",
       "      <td>0</td>\n",
       "      <td>5.0</td>\n",
       "      <td>674</td>\n",
       "      <td>2.5</td>\n",
       "      <td>...</td>\n",
       "      <td>No</td>\n",
       "      <td>Select</td>\n",
       "      <td>Select</td>\n",
       "      <td>02.Medium</td>\n",
       "      <td>02.Medium</td>\n",
       "      <td>15.0</td>\n",
       "      <td>15.0</td>\n",
       "      <td>No</td>\n",
       "      <td>No</td>\n",
       "      <td>Email Opened</td>\n",
       "    </tr>\n",
       "    <tr>\n",
       "      <th>2</th>\n",
       "      <td>8cc8c611-a219-4f35-ad23-fdfd2656bd8a</td>\n",
       "      <td>660727</td>\n",
       "      <td>Landing Page Submission</td>\n",
       "      <td>Direct Traffic</td>\n",
       "      <td>No</td>\n",
       "      <td>No</td>\n",
       "      <td>1</td>\n",
       "      <td>2.0</td>\n",
       "      <td>1532</td>\n",
       "      <td>2.0</td>\n",
       "      <td>...</td>\n",
       "      <td>No</td>\n",
       "      <td>Potential Lead</td>\n",
       "      <td>Mumbai</td>\n",
       "      <td>02.Medium</td>\n",
       "      <td>01.High</td>\n",
       "      <td>14.0</td>\n",
       "      <td>20.0</td>\n",
       "      <td>No</td>\n",
       "      <td>Yes</td>\n",
       "      <td>Email Opened</td>\n",
       "    </tr>\n",
       "    <tr>\n",
       "      <th>3</th>\n",
       "      <td>0cc2df48-7cf4-4e39-9de9-19797f9b38cc</td>\n",
       "      <td>660719</td>\n",
       "      <td>Landing Page Submission</td>\n",
       "      <td>Direct Traffic</td>\n",
       "      <td>No</td>\n",
       "      <td>No</td>\n",
       "      <td>0</td>\n",
       "      <td>1.0</td>\n",
       "      <td>305</td>\n",
       "      <td>1.0</td>\n",
       "      <td>...</td>\n",
       "      <td>No</td>\n",
       "      <td>Select</td>\n",
       "      <td>Mumbai</td>\n",
       "      <td>02.Medium</td>\n",
       "      <td>01.High</td>\n",
       "      <td>13.0</td>\n",
       "      <td>17.0</td>\n",
       "      <td>No</td>\n",
       "      <td>No</td>\n",
       "      <td>Modified</td>\n",
       "    </tr>\n",
       "    <tr>\n",
       "      <th>4</th>\n",
       "      <td>3256f628-e534-4826-9d63-4a8b88782852</td>\n",
       "      <td>660681</td>\n",
       "      <td>Landing Page Submission</td>\n",
       "      <td>Google</td>\n",
       "      <td>No</td>\n",
       "      <td>No</td>\n",
       "      <td>1</td>\n",
       "      <td>2.0</td>\n",
       "      <td>1428</td>\n",
       "      <td>1.0</td>\n",
       "      <td>...</td>\n",
       "      <td>No</td>\n",
       "      <td>Select</td>\n",
       "      <td>Mumbai</td>\n",
       "      <td>02.Medium</td>\n",
       "      <td>01.High</td>\n",
       "      <td>15.0</td>\n",
       "      <td>18.0</td>\n",
       "      <td>No</td>\n",
       "      <td>No</td>\n",
       "      <td>Modified</td>\n",
       "    </tr>\n",
       "  </tbody>\n",
       "</table>\n",
       "<p>5 rows × 37 columns</p>\n",
       "</div>"
      ],
      "text/plain": [
       "                            Prospect ID  Lead Number              Lead Origin  \\\n",
       "0  7927b2df-8bba-4d29-b9a2-b6e0beafe620       660737                      API   \n",
       "1  2a272436-5132-4136-86fa-dcc88c88f482       660728                      API   \n",
       "2  8cc8c611-a219-4f35-ad23-fdfd2656bd8a       660727  Landing Page Submission   \n",
       "3  0cc2df48-7cf4-4e39-9de9-19797f9b38cc       660719  Landing Page Submission   \n",
       "4  3256f628-e534-4826-9d63-4a8b88782852       660681  Landing Page Submission   \n",
       "\n",
       "      Lead Source Do Not Email Do Not Call  Converted  TotalVisits  \\\n",
       "0      Olark Chat           No          No          0          0.0   \n",
       "1  Organic Search           No          No          0          5.0   \n",
       "2  Direct Traffic           No          No          1          2.0   \n",
       "3  Direct Traffic           No          No          0          1.0   \n",
       "4          Google           No          No          1          2.0   \n",
       "\n",
       "   Total Time Spent on Website  Page Views Per Visit  ...  \\\n",
       "0                            0                   0.0  ...   \n",
       "1                          674                   2.5  ...   \n",
       "2                         1532                   2.0  ...   \n",
       "3                          305                   1.0  ...   \n",
       "4                         1428                   1.0  ...   \n",
       "\n",
       "  Get updates on DM Content    Lead Profile    City  \\\n",
       "0                        No          Select  Select   \n",
       "1                        No          Select  Select   \n",
       "2                        No  Potential Lead  Mumbai   \n",
       "3                        No          Select  Mumbai   \n",
       "4                        No          Select  Mumbai   \n",
       "\n",
       "  Asymmetrique Activity Index Asymmetrique Profile Index  \\\n",
       "0                   02.Medium                  02.Medium   \n",
       "1                   02.Medium                  02.Medium   \n",
       "2                   02.Medium                    01.High   \n",
       "3                   02.Medium                    01.High   \n",
       "4                   02.Medium                    01.High   \n",
       "\n",
       "  Asymmetrique Activity Score Asymmetrique Profile Score  \\\n",
       "0                        15.0                       15.0   \n",
       "1                        15.0                       15.0   \n",
       "2                        14.0                       20.0   \n",
       "3                        13.0                       17.0   \n",
       "4                        15.0                       18.0   \n",
       "\n",
       "  I agree to pay the amount through cheque  \\\n",
       "0                                       No   \n",
       "1                                       No   \n",
       "2                                       No   \n",
       "3                                       No   \n",
       "4                                       No   \n",
       "\n",
       "  A free copy of Mastering The Interview Last Notable Activity  \n",
       "0                                     No              Modified  \n",
       "1                                     No          Email Opened  \n",
       "2                                    Yes          Email Opened  \n",
       "3                                     No              Modified  \n",
       "4                                     No              Modified  \n",
       "\n",
       "[5 rows x 37 columns]"
      ]
     },
     "execution_count": 3,
     "metadata": {},
     "output_type": "execute_result"
    }
   ],
   "source": [
    "leads.head()"
   ]
  },
  {
   "cell_type": "code",
   "execution_count": 4,
   "id": "d1dd3fc7",
   "metadata": {},
   "outputs": [
    {
     "data": {
      "text/plain": [
       "(9240, 37)"
      ]
     },
     "execution_count": 4,
     "metadata": {},
     "output_type": "execute_result"
    }
   ],
   "source": [
    "leads.shape"
   ]
  },
  {
   "cell_type": "code",
   "execution_count": 5,
   "id": "d9e6b06d",
   "metadata": {},
   "outputs": [
    {
     "name": "stdout",
     "output_type": "stream",
     "text": [
      "<class 'pandas.core.frame.DataFrame'>\n",
      "RangeIndex: 9240 entries, 0 to 9239\n",
      "Data columns (total 37 columns):\n",
      " #   Column                                         Non-Null Count  Dtype  \n",
      "---  ------                                         --------------  -----  \n",
      " 0   Prospect ID                                    9240 non-null   object \n",
      " 1   Lead Number                                    9240 non-null   int64  \n",
      " 2   Lead Origin                                    9240 non-null   object \n",
      " 3   Lead Source                                    9204 non-null   object \n",
      " 4   Do Not Email                                   9240 non-null   object \n",
      " 5   Do Not Call                                    9240 non-null   object \n",
      " 6   Converted                                      9240 non-null   int64  \n",
      " 7   TotalVisits                                    9103 non-null   float64\n",
      " 8   Total Time Spent on Website                    9240 non-null   int64  \n",
      " 9   Page Views Per Visit                           9103 non-null   float64\n",
      " 10  Last Activity                                  9137 non-null   object \n",
      " 11  Country                                        6779 non-null   object \n",
      " 12  Specialization                                 7802 non-null   object \n",
      " 13  How did you hear about X Education             7033 non-null   object \n",
      " 14  What is your current occupation                6550 non-null   object \n",
      " 15  What matters most to you in choosing a course  6531 non-null   object \n",
      " 16  Search                                         9240 non-null   object \n",
      " 17  Magazine                                       9240 non-null   object \n",
      " 18  Newspaper Article                              9240 non-null   object \n",
      " 19  X Education Forums                             9240 non-null   object \n",
      " 20  Newspaper                                      9240 non-null   object \n",
      " 21  Digital Advertisement                          9240 non-null   object \n",
      " 22  Through Recommendations                        9240 non-null   object \n",
      " 23  Receive More Updates About Our Courses         9240 non-null   object \n",
      " 24  Tags                                           5887 non-null   object \n",
      " 25  Lead Quality                                   4473 non-null   object \n",
      " 26  Update me on Supply Chain Content              9240 non-null   object \n",
      " 27  Get updates on DM Content                      9240 non-null   object \n",
      " 28  Lead Profile                                   6531 non-null   object \n",
      " 29  City                                           7820 non-null   object \n",
      " 30  Asymmetrique Activity Index                    5022 non-null   object \n",
      " 31  Asymmetrique Profile Index                     5022 non-null   object \n",
      " 32  Asymmetrique Activity Score                    5022 non-null   float64\n",
      " 33  Asymmetrique Profile Score                     5022 non-null   float64\n",
      " 34  I agree to pay the amount through cheque       9240 non-null   object \n",
      " 35  A free copy of Mastering The Interview         9240 non-null   object \n",
      " 36  Last Notable Activity                          9240 non-null   object \n",
      "dtypes: float64(4), int64(3), object(30)\n",
      "memory usage: 2.6+ MB\n"
     ]
    }
   ],
   "source": [
    "#Checking the information of the dataset.\n",
    "leads.info()"
   ]
  },
  {
   "cell_type": "markdown",
   "id": "a3290612",
   "metadata": {},
   "source": [
    "## Data Cleaning"
   ]
  },
  {
   "cell_type": "markdown",
   "id": "e66f3d4b",
   "metadata": {},
   "source": [
    "### We can see that there are null values which needs to be treated accordingly."
   ]
  },
  {
   "cell_type": "code",
   "execution_count": 6,
   "id": "12f8c4f4",
   "metadata": {},
   "outputs": [
    {
     "data": {
      "text/plain": [
       "Prospect ID                                         0\n",
       "Lead Number                                         0\n",
       "Lead Origin                                         0\n",
       "Lead Source                                        36\n",
       "Do Not Email                                        0\n",
       "Do Not Call                                         0\n",
       "Converted                                           0\n",
       "TotalVisits                                       137\n",
       "Total Time Spent on Website                         0\n",
       "Page Views Per Visit                              137\n",
       "Last Activity                                     103\n",
       "Country                                          2461\n",
       "Specialization                                   1438\n",
       "How did you hear about X Education               2207\n",
       "What is your current occupation                  2690\n",
       "What matters most to you in choosing a course    2709\n",
       "Search                                              0\n",
       "Magazine                                            0\n",
       "Newspaper Article                                   0\n",
       "X Education Forums                                  0\n",
       "Newspaper                                           0\n",
       "Digital Advertisement                               0\n",
       "Through Recommendations                             0\n",
       "Receive More Updates About Our Courses              0\n",
       "Tags                                             3353\n",
       "Lead Quality                                     4767\n",
       "Update me on Supply Chain Content                   0\n",
       "Get updates on DM Content                           0\n",
       "Lead Profile                                     2709\n",
       "City                                             1420\n",
       "Asymmetrique Activity Index                      4218\n",
       "Asymmetrique Profile Index                       4218\n",
       "Asymmetrique Activity Score                      4218\n",
       "Asymmetrique Profile Score                       4218\n",
       "I agree to pay the amount through cheque            0\n",
       "A free copy of Mastering The Interview              0\n",
       "Last Notable Activity                               0\n",
       "dtype: int64"
      ]
     },
     "execution_count": 6,
     "metadata": {},
     "output_type": "execute_result"
    }
   ],
   "source": [
    "#checking the null values in the dataframe.\n",
    "leads.isnull().sum()"
   ]
  },
  {
   "cell_type": "code",
   "execution_count": 7,
   "id": "2643a8c7",
   "metadata": {},
   "outputs": [],
   "source": [
    "#repalcing the select values with null values of the entire lead dataframe as we can see it occuring multiple times.\n",
    "leads = leads.replace('Select',np.nan)"
   ]
  },
  {
   "cell_type": "code",
   "execution_count": 8,
   "id": "542c76fd",
   "metadata": {},
   "outputs": [
    {
     "data": {
      "text/plain": [
       "How did you hear about X Education               78.46\n",
       "Lead Profile                                     74.19\n",
       "Lead Quality                                     51.59\n",
       "Asymmetrique Profile Score                       45.65\n",
       "Asymmetrique Activity Score                      45.65\n",
       "Asymmetrique Activity Index                      45.65\n",
       "Asymmetrique Profile Index                       45.65\n",
       "City                                             39.71\n",
       "Specialization                                   36.58\n",
       "Tags                                             36.29\n",
       "What matters most to you in choosing a course    29.32\n",
       "What is your current occupation                  29.11\n",
       "Country                                          26.63\n",
       "Page Views Per Visit                              1.48\n",
       "TotalVisits                                       1.48\n",
       "Last Activity                                     1.11\n",
       "Lead Source                                       0.39\n",
       "Receive More Updates About Our Courses            0.00\n",
       "I agree to pay the amount through cheque          0.00\n",
       "Get updates on DM Content                         0.00\n",
       "Update me on Supply Chain Content                 0.00\n",
       "A free copy of Mastering The Interview            0.00\n",
       "Prospect ID                                       0.00\n",
       "Newspaper Article                                 0.00\n",
       "Through Recommendations                           0.00\n",
       "Digital Advertisement                             0.00\n",
       "Newspaper                                         0.00\n",
       "X Education Forums                                0.00\n",
       "Lead Number                                       0.00\n",
       "Magazine                                          0.00\n",
       "Search                                            0.00\n",
       "Total Time Spent on Website                       0.00\n",
       "Converted                                         0.00\n",
       "Do Not Call                                       0.00\n",
       "Do Not Email                                      0.00\n",
       "Lead Origin                                       0.00\n",
       "Last Notable Activity                             0.00\n",
       "dtype: float64"
      ]
     },
     "execution_count": 8,
     "metadata": {},
     "output_type": "execute_result"
    }
   ],
   "source": [
    "#Now checking the percentage of null values w.r.t. the total column entries\n",
    "nulls_percent = round(leads.isnull().sum()/len(leads)*100,2).sort_values(ascending=False)\n",
    "nulls_percent"
   ]
  },
  {
   "cell_type": "code",
   "execution_count": 9,
   "id": "5cab66e3",
   "metadata": {},
   "outputs": [
    {
     "data": {
      "text/plain": [
       "How did you hear about X Education    78.46\n",
       "Lead Profile                          74.19\n",
       "Lead Quality                          51.59\n",
       "Asymmetrique Profile Score            45.65\n",
       "Asymmetrique Activity Score           45.65\n",
       "Asymmetrique Activity Index           45.65\n",
       "Asymmetrique Profile Index            45.65\n",
       "dtype: float64"
      ]
     },
     "execution_count": 9,
     "metadata": {},
     "output_type": "execute_result"
    }
   ],
   "source": [
    "#Droping the columns having more than 40% of the null values\n",
    "to_drop = nulls_percent[nulls_percent>40]\n",
    "to_drop"
   ]
  },
  {
   "cell_type": "code",
   "execution_count": 10,
   "id": "637d32f8",
   "metadata": {},
   "outputs": [],
   "source": [
    "leads.drop(labels = list(to_drop.index),axis=1,inplace=True)"
   ]
  },
  {
   "cell_type": "code",
   "execution_count": 11,
   "id": "a1c16e66",
   "metadata": {
    "scrolled": true
   },
   "outputs": [
    {
     "data": {
      "text/plain": [
       "City                                             39.71\n",
       "Specialization                                   36.58\n",
       "Tags                                             36.29\n",
       "What matters most to you in choosing a course    29.32\n",
       "What is your current occupation                  29.11\n",
       "Country                                          26.63\n",
       "Page Views Per Visit                              1.48\n",
       "TotalVisits                                       1.48\n",
       "Last Activity                                     1.11\n",
       "Lead Source                                       0.39\n",
       "Through Recommendations                           0.00\n",
       "Receive More Updates About Our Courses            0.00\n",
       "Prospect ID                                       0.00\n",
       "Newspaper                                         0.00\n",
       "Update me on Supply Chain Content                 0.00\n",
       "Get updates on DM Content                         0.00\n",
       "I agree to pay the amount through cheque          0.00\n",
       "A free copy of Mastering The Interview            0.00\n",
       "Digital Advertisement                             0.00\n",
       "Search                                            0.00\n",
       "X Education Forums                                0.00\n",
       "Newspaper Article                                 0.00\n",
       "Magazine                                          0.00\n",
       "Lead Number                                       0.00\n",
       "Total Time Spent on Website                       0.00\n",
       "Converted                                         0.00\n",
       "Do Not Call                                       0.00\n",
       "Do Not Email                                      0.00\n",
       "Lead Origin                                       0.00\n",
       "Last Notable Activity                             0.00\n",
       "dtype: float64"
      ]
     },
     "execution_count": 11,
     "metadata": {},
     "output_type": "execute_result"
    }
   ],
   "source": [
    "round(leads.isnull().sum()/len(leads)*100,2).sort_values(ascending=False)"
   ]
  },
  {
   "cell_type": "code",
   "execution_count": 12,
   "id": "be419fd9",
   "metadata": {},
   "outputs": [],
   "source": [
    "#more than 40%null values columns are droped now we will treat null values for remaining columns as well"
   ]
  },
  {
   "cell_type": "code",
   "execution_count": 13,
   "id": "f4f619ff",
   "metadata": {},
   "outputs": [
    {
     "data": {
      "text/plain": [
       "Better Career Prospects      6528\n",
       "NaN                          2709\n",
       "Flexibility & Convenience       2\n",
       "Other                           1\n",
       "Name: What matters most to you in choosing a course, dtype: int64"
      ]
     },
     "execution_count": 13,
     "metadata": {},
     "output_type": "execute_result"
    }
   ],
   "source": [
    "#treating What matters most to you in choosing a course column\n",
    "leads['What matters most to you in choosing a course'].value_counts(dropna=False)"
   ]
  },
  {
   "cell_type": "code",
   "execution_count": 14,
   "id": "cec6ba19",
   "metadata": {},
   "outputs": [],
   "source": [
    "#we can drop What matters most to you in choosing a course column as most of the values are better career prospects or null\n",
    "leads.drop('What matters most to you in choosing a course',axis=1,inplace=True)"
   ]
  },
  {
   "cell_type": "code",
   "execution_count": 15,
   "id": "9405f698",
   "metadata": {},
   "outputs": [
    {
     "data": {
      "text/plain": [
       "Unemployed              5600\n",
       "NaN                     2690\n",
       "Working Professional     706\n",
       "Student                  210\n",
       "Other                     16\n",
       "Housewife                 10\n",
       "Businessman                8\n",
       "Name: What is your current occupation, dtype: int64"
      ]
     },
     "execution_count": 15,
     "metadata": {},
     "output_type": "execute_result"
    }
   ],
   "source": [
    "#Treating What is your current occupation column\n",
    "leads['What is your current occupation'].value_counts(dropna=False)"
   ]
  },
  {
   "cell_type": "code",
   "execution_count": 16,
   "id": "a80aa06b",
   "metadata": {},
   "outputs": [],
   "source": [
    "#replacing null values with Not specified and grouping low values column to others\n",
    "leads['What is your current occupation'].replace(np.nan,'not specified',inplace=True)\n",
    "leads['What is your current occupation'].replace(['Businessman','Housewife'],'Other',inplace=True)"
   ]
  },
  {
   "cell_type": "code",
   "execution_count": 17,
   "id": "3ea31a31",
   "metadata": {},
   "outputs": [
    {
     "data": {
      "text/plain": [
       "Unemployed              5600\n",
       "not specified           2690\n",
       "Working Professional     706\n",
       "Student                  210\n",
       "Other                     34\n",
       "Name: What is your current occupation, dtype: int64"
      ]
     },
     "execution_count": 17,
     "metadata": {},
     "output_type": "execute_result"
    }
   ],
   "source": [
    "leads['What is your current occupation'].value_counts(dropna=False)"
   ]
  },
  {
   "cell_type": "code",
   "execution_count": 18,
   "id": "43943cf4",
   "metadata": {},
   "outputs": [
    {
     "data": {
      "text/plain": [
       "India                   6492\n",
       "NaN                     2461\n",
       "United States             69\n",
       "United Arab Emirates      53\n",
       "Singapore                 24\n",
       "Saudi Arabia              21\n",
       "United Kingdom            15\n",
       "Australia                 13\n",
       "Qatar                     10\n",
       "Bahrain                    7\n",
       "Hong Kong                  7\n",
       "Oman                       6\n",
       "France                     6\n",
       "unknown                    5\n",
       "Kuwait                     4\n",
       "South Africa               4\n",
       "Canada                     4\n",
       "Nigeria                    4\n",
       "Germany                    4\n",
       "Sweden                     3\n",
       "Philippines                2\n",
       "Uganda                     2\n",
       "Italy                      2\n",
       "Bangladesh                 2\n",
       "Netherlands                2\n",
       "Asia/Pacific Region        2\n",
       "China                      2\n",
       "Belgium                    2\n",
       "Ghana                      2\n",
       "Kenya                      1\n",
       "Sri Lanka                  1\n",
       "Tanzania                   1\n",
       "Malaysia                   1\n",
       "Liberia                    1\n",
       "Switzerland                1\n",
       "Denmark                    1\n",
       "Russia                     1\n",
       "Vietnam                    1\n",
       "Indonesia                  1\n",
       "Name: Country, dtype: int64"
      ]
     },
     "execution_count": 18,
     "metadata": {},
     "output_type": "execute_result"
    }
   ],
   "source": [
    "#Treating Country column\n",
    "leads.Country.value_counts(dropna=False)"
   ]
  },
  {
   "cell_type": "code",
   "execution_count": 19,
   "id": "bef634cf",
   "metadata": {},
   "outputs": [],
   "source": [
    "#droping country as most values are either India or Null values which will not help much in our analysis\n",
    "leads.drop('Country',axis=1,inplace=True)"
   ]
  },
  {
   "cell_type": "code",
   "execution_count": 20,
   "id": "3aeb15f1",
   "metadata": {},
   "outputs": [
    {
     "data": {
      "text/plain": [
       "NaN                                  3380\n",
       "Finance Management                    976\n",
       "Human Resource Management             848\n",
       "Marketing Management                  838\n",
       "Operations Management                 503\n",
       "Business Administration               403\n",
       "IT Projects Management                366\n",
       "Supply Chain Management               349\n",
       "Banking, Investment And Insurance     338\n",
       "Travel and Tourism                    203\n",
       "Media and Advertising                 203\n",
       "International Business                178\n",
       "Healthcare Management                 159\n",
       "Hospitality Management                114\n",
       "E-COMMERCE                            112\n",
       "Retail Management                     100\n",
       "Rural and Agribusiness                 73\n",
       "E-Business                             57\n",
       "Services Excellence                    40\n",
       "Name: Specialization, dtype: int64"
      ]
     },
     "execution_count": 20,
     "metadata": {},
     "output_type": "execute_result"
    }
   ],
   "source": [
    "#treating Specialization\n",
    "leads.Specialization.value_counts(dropna=False)"
   ]
  },
  {
   "cell_type": "code",
   "execution_count": 21,
   "id": "5eb62b97",
   "metadata": {},
   "outputs": [],
   "source": [
    "#replacing NaN values with not spcifie since it may happen that students specialization may not be in the list\n",
    "leads.Specialization.replace(np.nan,'not specified',inplace=True)"
   ]
  },
  {
   "cell_type": "code",
   "execution_count": 22,
   "id": "96b52dfd",
   "metadata": {},
   "outputs": [
    {
     "data": {
      "text/plain": [
       "not specified                        3380\n",
       "Finance Management                    976\n",
       "Human Resource Management             848\n",
       "Marketing Management                  838\n",
       "Operations Management                 503\n",
       "Business Administration               403\n",
       "IT Projects Management                366\n",
       "Supply Chain Management               349\n",
       "Banking, Investment And Insurance     338\n",
       "Travel and Tourism                    203\n",
       "Media and Advertising                 203\n",
       "International Business                178\n",
       "Healthcare Management                 159\n",
       "Hospitality Management                114\n",
       "E-COMMERCE                            112\n",
       "Retail Management                     100\n",
       "Rural and Agribusiness                 73\n",
       "E-Business                             57\n",
       "Services Excellence                    40\n",
       "Name: Specialization, dtype: int64"
      ]
     },
     "execution_count": 22,
     "metadata": {},
     "output_type": "execute_result"
    }
   ],
   "source": [
    "leads.Specialization.value_counts(dropna=False)"
   ]
  },
  {
   "cell_type": "code",
   "execution_count": 23,
   "id": "fac19753",
   "metadata": {},
   "outputs": [],
   "source": [
    "#WE can group management course into Management specialisation and business related to business specialisation\n",
    "leads.Specialization.replace(['Finance Management','Human Resource Management','Marketing Management',\n",
    "                              'Operations Management','IT Projects Management','Supply Chain Management',\n",
    "                             'Healthcare Management','Hospitality Management','Retail Management'],\n",
    "                             'Management Specialization',inplace=True)\n",
    "leads.Specialization.replace(['E-Business','Rural and Agribusiness','International Business'],\n",
    "                             'Business Specialization',inplace=True)"
   ]
  },
  {
   "cell_type": "code",
   "execution_count": 24,
   "id": "52c2745a",
   "metadata": {},
   "outputs": [
    {
     "data": {
      "text/plain": [
       "NaN                                                  3353\n",
       "Will revert after reading the email                  2072\n",
       "Ringing                                              1203\n",
       "Interested in other courses                           513\n",
       "Already a student                                     465\n",
       "Closed by Horizzon                                    358\n",
       "switched off                                          240\n",
       "Busy                                                  186\n",
       "Lost to EINS                                          175\n",
       "Not doing further education                           145\n",
       "Interested  in full time MBA                          117\n",
       "Graduation in progress                                111\n",
       "invalid number                                         83\n",
       "Diploma holder (Not Eligible)                          63\n",
       "wrong number given                                     47\n",
       "opp hangup                                             33\n",
       "number not provided                                    27\n",
       "in touch with EINS                                     12\n",
       "Lost to Others                                          7\n",
       "Still Thinking                                          6\n",
       "Want to take admission but has financial problems       6\n",
       "In confusion whether part time or DLP                   5\n",
       "Interested in Next batch                                5\n",
       "Lateral student                                         3\n",
       "Shall take in the next coming month                     2\n",
       "University not recognized                               2\n",
       "Recognition issue (DEC approval)                        1\n",
       "Name: Tags, dtype: int64"
      ]
     },
     "execution_count": 24,
     "metadata": {},
     "output_type": "execute_result"
    }
   ],
   "source": [
    "#Treating tags columns\n",
    "leads.Tags.value_counts(dropna=False)"
   ]
  },
  {
   "cell_type": "code",
   "execution_count": 25,
   "id": "6ce40930",
   "metadata": {},
   "outputs": [],
   "source": [
    "#replacing nan values with others\n",
    "leads.Tags.replace(np.nan,'not specified',inplace=True)\n",
    "#Replacing low frequencies tags to one tag i.e. other tags\n",
    "leads.Tags.replace(['Recognition issue (DEC approval)','University not recognized','Shall take in the next coming month',\n",
    "                   'Lateral student','Interested in Next batch','In confusion whether part time or DLP',\n",
    "                   'Want to take admission but has financial problems','Still Thinking','Lost to Others',\n",
    "                   'in touch with EINS','number not provided','opp hangup','wrong number given','Diploma holder (Not Eligible)',\n",
    "                   'invalid number','Graduation in progress','Interested  in full time MBA','Not doing further education',\n",
    "                   'Switched off'],'Other Tags',inplace=True)"
   ]
  },
  {
   "cell_type": "code",
   "execution_count": 26,
   "id": "39b8521d",
   "metadata": {},
   "outputs": [
    {
     "data": {
      "text/plain": [
       "City                                        39.71\n",
       "TotalVisits                                  1.48\n",
       "Page Views Per Visit                         1.48\n",
       "Last Activity                                1.11\n",
       "Lead Source                                  0.39\n",
       "Prospect ID                                  0.00\n",
       "X Education Forums                           0.00\n",
       "A free copy of Mastering The Interview       0.00\n",
       "I agree to pay the amount through cheque     0.00\n",
       "Get updates on DM Content                    0.00\n",
       "Update me on Supply Chain Content            0.00\n",
       "Tags                                         0.00\n",
       "Receive More Updates About Our Courses       0.00\n",
       "Through Recommendations                      0.00\n",
       "Digital Advertisement                        0.00\n",
       "Newspaper                                    0.00\n",
       "Magazine                                     0.00\n",
       "Newspaper Article                            0.00\n",
       "Lead Number                                  0.00\n",
       "Search                                       0.00\n",
       "What is your current occupation              0.00\n",
       "Specialization                               0.00\n",
       "Total Time Spent on Website                  0.00\n",
       "Converted                                    0.00\n",
       "Do Not Call                                  0.00\n",
       "Do Not Email                                 0.00\n",
       "Lead Origin                                  0.00\n",
       "Last Notable Activity                        0.00\n",
       "dtype: float64"
      ]
     },
     "execution_count": 26,
     "metadata": {},
     "output_type": "execute_result"
    }
   ],
   "source": [
    "#again checking the amount of null values still present\n",
    "round(leads.isnull().sum()/len(leads)*100,2).sort_values(ascending=False)"
   ]
  },
  {
   "cell_type": "code",
   "execution_count": 27,
   "id": "f7fc7428",
   "metadata": {},
   "outputs": [
    {
     "data": {
      "text/plain": [
       "NaN                            3669\n",
       "Mumbai                         3222\n",
       "Thane & Outskirts               752\n",
       "Other Cities                    686\n",
       "Other Cities of Maharashtra     457\n",
       "Other Metro Cities              380\n",
       "Tier II Cities                   74\n",
       "Name: City, dtype: int64"
      ]
     },
     "execution_count": 27,
     "metadata": {},
     "output_type": "execute_result"
    }
   ],
   "source": [
    "leads.City.value_counts(dropna=False)"
   ]
  },
  {
   "cell_type": "markdown",
   "id": "e95f991a",
   "metadata": {},
   "source": [
    "#### Maximum numbers are that of mumbai and places in it or Unknown.So this column is not helpful for us we can drop it.\n"
   ]
  },
  {
   "cell_type": "code",
   "execution_count": 28,
   "id": "b3d4339a",
   "metadata": {},
   "outputs": [],
   "source": [
    "leads.drop('City',axis=1,inplace=True)"
   ]
  },
  {
   "cell_type": "code",
   "execution_count": 29,
   "id": "f1157325",
   "metadata": {},
   "outputs": [
    {
     "data": {
      "text/plain": [
       "Google               2868\n",
       "Direct Traffic       2543\n",
       "Olark Chat           1755\n",
       "Organic Search       1154\n",
       "Reference             534\n",
       "Welingak Website      142\n",
       "Referral Sites        125\n",
       "Facebook               55\n",
       "NaN                    36\n",
       "bing                    6\n",
       "google                  5\n",
       "Click2call              4\n",
       "Press_Release           2\n",
       "Social Media            2\n",
       "Live Chat               2\n",
       "youtubechannel          1\n",
       "testone                 1\n",
       "Pay per Click Ads       1\n",
       "welearnblog_Home        1\n",
       "WeLearn                 1\n",
       "blog                    1\n",
       "NC_EDM                  1\n",
       "Name: Lead Source, dtype: int64"
      ]
     },
     "execution_count": 29,
     "metadata": {},
     "output_type": "execute_result"
    }
   ],
   "source": [
    "#checking lead source clumn once\n",
    "leads['Lead Source'].value_counts(dropna=False)"
   ]
  },
  {
   "cell_type": "code",
   "execution_count": 30,
   "id": "d516d45a",
   "metadata": {},
   "outputs": [],
   "source": [
    "#replacing google with Google and facebook with social media and low frequencies to others\n",
    "leads['Lead Source']=leads['Lead Source'].replace(np.nan,'others')\n",
    "leads['Lead Source']=leads['Lead Source'].replace('google','Google')\n",
    "leads['Lead Source']=leads['Lead Source'].replace('Social Media','Facebook')\n",
    "leads['Lead Source']=leads['Lead Source'].replace(['NC_EDM','blog','WeLearn','welearnblog_Home','Pay per Click Ads',\n",
    "                                                  'testone','youtubechannel','Press_Release',\n",
    "                                                  'Click2call','bing'],'others')"
   ]
  },
  {
   "cell_type": "code",
   "execution_count": 31,
   "id": "6b58f19c",
   "metadata": {},
   "outputs": [
    {
     "data": {
      "text/plain": [
       "Email Opened                    3437\n",
       "SMS Sent                        2745\n",
       "Olark Chat Conversation          973\n",
       "Page Visited on Website          640\n",
       "Converted to Lead                428\n",
       "Email Bounced                    326\n",
       "Email Link Clicked               267\n",
       "Form Submitted on Website        116\n",
       "NaN                              103\n",
       "Unreachable                       93\n",
       "Unsubscribed                      61\n",
       "Had a Phone Conversation          30\n",
       "Approached upfront                 9\n",
       "View in browser link Clicked       6\n",
       "Email Received                     2\n",
       "Email Marked Spam                  2\n",
       "Visited Booth in Tradeshow         1\n",
       "Resubscribed to emails             1\n",
       "Name: Last Activity, dtype: int64"
      ]
     },
     "execution_count": 31,
     "metadata": {},
     "output_type": "execute_result"
    }
   ],
   "source": [
    "# Treating last Activity columns\n",
    "leads['Last Activity'].value_counts(dropna=False)"
   ]
  },
  {
   "cell_type": "code",
   "execution_count": 32,
   "id": "f4e73614",
   "metadata": {},
   "outputs": [],
   "source": [
    "#replacing nan values to others and grouping the low frequencies data to others aswell.\n",
    "leads['Last Activity']=leads['Last Activity'].replace(np.nan,'others')\n",
    "leads['Last Activity']=leads['Last Activity'].replace(['Resubscribed to emails','Visited Booth in Tradeshow',\n",
    "                                                      'Email Marked Spam','Email Received','View in browser link Clicked',\n",
    "                                                      'Approached upfront','Had a Phone Conversation','Unsubscribed',\n",
    "                                                      'Unreachable'],'others')"
   ]
  },
  {
   "cell_type": "code",
   "execution_count": 33,
   "id": "50bce59c",
   "metadata": {},
   "outputs": [],
   "source": [
    "# Grouping values with low count in order to remove bias\n",
    "leads['Last Notable Activity'] = leads['Last Notable Activity'].replace(['Email Bounced', 'Email Link Clicked',\n",
    "                                                                         'Unreachable', 'Had a Phone Conversation',\n",
    "                                                                        'Olark Chat Conversation', 'Approached upfront',\n",
    "                                                                        'Resubscribed to emails', 'Unsubscribed',\n",
    "                                                                         'View in browser link Clicked',\n",
    "                                                                        'Form Submitted on Website', 'Email Received',\n",
    "                                                                         'Email Marked Spam'], 'others')"
   ]
  },
  {
   "cell_type": "code",
   "execution_count": 34,
   "id": "67b4bae5",
   "metadata": {},
   "outputs": [
    {
     "data": {
      "text/plain": [
       "Prospect ID                                 0.000000\n",
       "Lead Number                                 0.000000\n",
       "Lead Origin                                 0.000000\n",
       "Lead Source                                 0.000000\n",
       "Do Not Email                                0.000000\n",
       "Do Not Call                                 0.000000\n",
       "Converted                                   0.000000\n",
       "TotalVisits                                 0.014827\n",
       "Total Time Spent on Website                 0.000000\n",
       "Page Views Per Visit                        0.014827\n",
       "Last Activity                               0.000000\n",
       "Specialization                              0.000000\n",
       "What is your current occupation             0.000000\n",
       "Search                                      0.000000\n",
       "Magazine                                    0.000000\n",
       "Newspaper Article                           0.000000\n",
       "X Education Forums                          0.000000\n",
       "Newspaper                                   0.000000\n",
       "Digital Advertisement                       0.000000\n",
       "Through Recommendations                     0.000000\n",
       "Receive More Updates About Our Courses      0.000000\n",
       "Tags                                        0.000000\n",
       "Update me on Supply Chain Content           0.000000\n",
       "Get updates on DM Content                   0.000000\n",
       "I agree to pay the amount through cheque    0.000000\n",
       "A free copy of Mastering The Interview      0.000000\n",
       "Last Notable Activity                       0.000000\n",
       "dtype: float64"
      ]
     },
     "execution_count": 34,
     "metadata": {},
     "output_type": "execute_result"
    }
   ],
   "source": [
    "leads.isnull().sum()/len(leads)"
   ]
  },
  {
   "cell_type": "code",
   "execution_count": 35,
   "id": "7aea81c4",
   "metadata": {},
   "outputs": [],
   "source": [
    "#imputing the values with meadian of the column\n",
    "leads['TotalVisits'] = leads['TotalVisits'].replace(np.nan,leads['TotalVisits'].median())"
   ]
  },
  {
   "cell_type": "code",
   "execution_count": 36,
   "id": "b69e4ec7",
   "metadata": {},
   "outputs": [],
   "source": [
    "leads['Page Views Per Visit'] = leads['Page Views Per Visit'].replace(np.nan,leads['Page Views Per Visit'].median())"
   ]
  },
  {
   "cell_type": "code",
   "execution_count": 37,
   "id": "4825f871",
   "metadata": {},
   "outputs": [
    {
     "name": "stdout",
     "output_type": "stream",
     "text": [
      "<class 'pandas.core.frame.DataFrame'>\n",
      "RangeIndex: 9240 entries, 0 to 9239\n",
      "Data columns (total 27 columns):\n",
      " #   Column                                    Non-Null Count  Dtype  \n",
      "---  ------                                    --------------  -----  \n",
      " 0   Prospect ID                               9240 non-null   object \n",
      " 1   Lead Number                               9240 non-null   int64  \n",
      " 2   Lead Origin                               9240 non-null   object \n",
      " 3   Lead Source                               9240 non-null   object \n",
      " 4   Do Not Email                              9240 non-null   object \n",
      " 5   Do Not Call                               9240 non-null   object \n",
      " 6   Converted                                 9240 non-null   int64  \n",
      " 7   TotalVisits                               9240 non-null   float64\n",
      " 8   Total Time Spent on Website               9240 non-null   int64  \n",
      " 9   Page Views Per Visit                      9240 non-null   float64\n",
      " 10  Last Activity                             9240 non-null   object \n",
      " 11  Specialization                            9240 non-null   object \n",
      " 12  What is your current occupation           9240 non-null   object \n",
      " 13  Search                                    9240 non-null   object \n",
      " 14  Magazine                                  9240 non-null   object \n",
      " 15  Newspaper Article                         9240 non-null   object \n",
      " 16  X Education Forums                        9240 non-null   object \n",
      " 17  Newspaper                                 9240 non-null   object \n",
      " 18  Digital Advertisement                     9240 non-null   object \n",
      " 19  Through Recommendations                   9240 non-null   object \n",
      " 20  Receive More Updates About Our Courses    9240 non-null   object \n",
      " 21  Tags                                      9240 non-null   object \n",
      " 22  Update me on Supply Chain Content         9240 non-null   object \n",
      " 23  Get updates on DM Content                 9240 non-null   object \n",
      " 24  I agree to pay the amount through cheque  9240 non-null   object \n",
      " 25  A free copy of Mastering The Interview    9240 non-null   object \n",
      " 26  Last Notable Activity                     9240 non-null   object \n",
      "dtypes: float64(2), int64(3), object(22)\n",
      "memory usage: 1.9+ MB\n"
     ]
    }
   ],
   "source": [
    "leads.info()"
   ]
  },
  {
   "cell_type": "code",
   "execution_count": 38,
   "id": "38bedb7e",
   "metadata": {},
   "outputs": [
    {
     "data": {
      "text/plain": [
       "No    9240\n",
       "Name: Receive More Updates About Our Courses, dtype: int64"
      ]
     },
     "execution_count": 38,
     "metadata": {},
     "output_type": "execute_result"
    }
   ],
   "source": [
    "leads['Receive More Updates About Our Courses'].value_counts()"
   ]
  },
  {
   "cell_type": "code",
   "execution_count": 39,
   "id": "816ceb46",
   "metadata": {},
   "outputs": [
    {
     "data": {
      "text/plain": [
       "No     9233\n",
       "Yes       7\n",
       "Name: Through Recommendations, dtype: int64"
      ]
     },
     "execution_count": 39,
     "metadata": {},
     "output_type": "execute_result"
    }
   ],
   "source": [
    "leads['Through Recommendations'].value_counts()"
   ]
  },
  {
   "cell_type": "code",
   "execution_count": 40,
   "id": "8cac31ec",
   "metadata": {},
   "outputs": [
    {
     "data": {
      "text/plain": [
       "No     9236\n",
       "Yes       4\n",
       "Name: Digital Advertisement, dtype: int64"
      ]
     },
     "execution_count": 40,
     "metadata": {},
     "output_type": "execute_result"
    }
   ],
   "source": [
    "leads['Digital Advertisement'].value_counts()"
   ]
  },
  {
   "cell_type": "code",
   "execution_count": 41,
   "id": "8b4da81f",
   "metadata": {},
   "outputs": [
    {
     "data": {
      "text/plain": [
       "No     9238\n",
       "Yes       2\n",
       "Name: Do Not Call, dtype: int64"
      ]
     },
     "execution_count": 41,
     "metadata": {},
     "output_type": "execute_result"
    }
   ],
   "source": [
    "leads['Do Not Call'].value_counts()"
   ]
  },
  {
   "cell_type": "code",
   "execution_count": 42,
   "id": "631f8e76",
   "metadata": {},
   "outputs": [
    {
     "data": {
      "text/plain": [
       "No     8506\n",
       "Yes     734\n",
       "Name: Do Not Email, dtype: int64"
      ]
     },
     "execution_count": 42,
     "metadata": {},
     "output_type": "execute_result"
    }
   ],
   "source": [
    "leads['Do Not Email'].value_counts()"
   ]
  },
  {
   "cell_type": "code",
   "execution_count": 43,
   "id": "7c2dc6a5",
   "metadata": {},
   "outputs": [
    {
     "data": {
      "text/plain": [
       "No    9240\n",
       "Name: I agree to pay the amount through cheque, dtype: int64"
      ]
     },
     "execution_count": 43,
     "metadata": {},
     "output_type": "execute_result"
    }
   ],
   "source": [
    "leads['I agree to pay the amount through cheque'].value_counts()"
   ]
  },
  {
   "cell_type": "code",
   "execution_count": 44,
   "id": "bef46bfb",
   "metadata": {},
   "outputs": [
    {
     "data": {
      "text/plain": [
       "No     6352\n",
       "Yes    2888\n",
       "Name: A free copy of Mastering The Interview, dtype: int64"
      ]
     },
     "execution_count": 44,
     "metadata": {},
     "output_type": "execute_result"
    }
   ],
   "source": [
    "leads['A free copy of Mastering The Interview'].value_counts()"
   ]
  },
  {
   "cell_type": "markdown",
   "id": "73d1130a",
   "metadata": {},
   "source": [
    "#### After analysing the the dataset we have several columns like Do not call, Digital advertisement which seems unnecessary for our analysis as it contains majority of 1 values only."
   ]
  },
  {
   "cell_type": "code",
   "execution_count": 45,
   "id": "02691f2b",
   "metadata": {},
   "outputs": [],
   "source": [
    "cols_to_drop = ['Receive More Updates About Our Courses','Through Recommendations','Digital Advertisement',\n",
    "               'Newspaper','Search','Newspaper Article','X Education Forums','Prospect ID',\n",
    "               'I agree to pay the amount through cheque','Do Not Call',\n",
    "               'Get updates on DM Content','Update me on Supply Chain Content','Magazine','Lead Number']"
   ]
  },
  {
   "cell_type": "code",
   "execution_count": 46,
   "id": "89350f31",
   "metadata": {},
   "outputs": [],
   "source": [
    "leads = leads.drop(cols_to_drop,axis=1)"
   ]
  },
  {
   "cell_type": "markdown",
   "id": "50fb02d1",
   "metadata": {},
   "source": [
    "#### Now checking the info of leads datset after treating all the null values accordingly."
   ]
  },
  {
   "cell_type": "code",
   "execution_count": 47,
   "id": "9c7222aa",
   "metadata": {},
   "outputs": [
    {
     "name": "stdout",
     "output_type": "stream",
     "text": [
      "<class 'pandas.core.frame.DataFrame'>\n",
      "RangeIndex: 9240 entries, 0 to 9239\n",
      "Data columns (total 13 columns):\n",
      " #   Column                                  Non-Null Count  Dtype  \n",
      "---  ------                                  --------------  -----  \n",
      " 0   Lead Origin                             9240 non-null   object \n",
      " 1   Lead Source                             9240 non-null   object \n",
      " 2   Do Not Email                            9240 non-null   object \n",
      " 3   Converted                               9240 non-null   int64  \n",
      " 4   TotalVisits                             9240 non-null   float64\n",
      " 5   Total Time Spent on Website             9240 non-null   int64  \n",
      " 6   Page Views Per Visit                    9240 non-null   float64\n",
      " 7   Last Activity                           9240 non-null   object \n",
      " 8   Specialization                          9240 non-null   object \n",
      " 9   What is your current occupation         9240 non-null   object \n",
      " 10  Tags                                    9240 non-null   object \n",
      " 11  A free copy of Mastering The Interview  9240 non-null   object \n",
      " 12  Last Notable Activity                   9240 non-null   object \n",
      "dtypes: float64(2), int64(2), object(9)\n",
      "memory usage: 938.6+ KB\n"
     ]
    }
   ],
   "source": [
    "leads.info()"
   ]
  },
  {
   "cell_type": "markdown",
   "id": "df849cd0",
   "metadata": {},
   "source": [
    "## Univariate Analysis"
   ]
  },
  {
   "cell_type": "code",
   "execution_count": 48,
   "id": "1708b0b4",
   "metadata": {},
   "outputs": [
    {
     "data": {
      "text/html": [
       "<div>\n",
       "<style scoped>\n",
       "    .dataframe tbody tr th:only-of-type {\n",
       "        vertical-align: middle;\n",
       "    }\n",
       "\n",
       "    .dataframe tbody tr th {\n",
       "        vertical-align: top;\n",
       "    }\n",
       "\n",
       "    .dataframe thead th {\n",
       "        text-align: right;\n",
       "    }\n",
       "</style>\n",
       "<table border=\"1\" class=\"dataframe\">\n",
       "  <thead>\n",
       "    <tr style=\"text-align: right;\">\n",
       "      <th></th>\n",
       "      <th>Lead Origin</th>\n",
       "      <th>Lead Source</th>\n",
       "      <th>Do Not Email</th>\n",
       "      <th>Converted</th>\n",
       "      <th>TotalVisits</th>\n",
       "      <th>Total Time Spent on Website</th>\n",
       "      <th>Page Views Per Visit</th>\n",
       "      <th>Last Activity</th>\n",
       "      <th>Specialization</th>\n",
       "      <th>What is your current occupation</th>\n",
       "      <th>Tags</th>\n",
       "      <th>A free copy of Mastering The Interview</th>\n",
       "      <th>Last Notable Activity</th>\n",
       "    </tr>\n",
       "  </thead>\n",
       "  <tbody>\n",
       "    <tr>\n",
       "      <th>0</th>\n",
       "      <td>API</td>\n",
       "      <td>Olark Chat</td>\n",
       "      <td>No</td>\n",
       "      <td>0</td>\n",
       "      <td>0.0</td>\n",
       "      <td>0</td>\n",
       "      <td>0.0</td>\n",
       "      <td>Page Visited on Website</td>\n",
       "      <td>not specified</td>\n",
       "      <td>Unemployed</td>\n",
       "      <td>Interested in other courses</td>\n",
       "      <td>No</td>\n",
       "      <td>Modified</td>\n",
       "    </tr>\n",
       "    <tr>\n",
       "      <th>1</th>\n",
       "      <td>API</td>\n",
       "      <td>Organic Search</td>\n",
       "      <td>No</td>\n",
       "      <td>0</td>\n",
       "      <td>5.0</td>\n",
       "      <td>674</td>\n",
       "      <td>2.5</td>\n",
       "      <td>Email Opened</td>\n",
       "      <td>not specified</td>\n",
       "      <td>Unemployed</td>\n",
       "      <td>Ringing</td>\n",
       "      <td>No</td>\n",
       "      <td>Email Opened</td>\n",
       "    </tr>\n",
       "    <tr>\n",
       "      <th>2</th>\n",
       "      <td>Landing Page Submission</td>\n",
       "      <td>Direct Traffic</td>\n",
       "      <td>No</td>\n",
       "      <td>1</td>\n",
       "      <td>2.0</td>\n",
       "      <td>1532</td>\n",
       "      <td>2.0</td>\n",
       "      <td>Email Opened</td>\n",
       "      <td>Business Administration</td>\n",
       "      <td>Student</td>\n",
       "      <td>Will revert after reading the email</td>\n",
       "      <td>Yes</td>\n",
       "      <td>Email Opened</td>\n",
       "    </tr>\n",
       "    <tr>\n",
       "      <th>3</th>\n",
       "      <td>Landing Page Submission</td>\n",
       "      <td>Direct Traffic</td>\n",
       "      <td>No</td>\n",
       "      <td>0</td>\n",
       "      <td>1.0</td>\n",
       "      <td>305</td>\n",
       "      <td>1.0</td>\n",
       "      <td>others</td>\n",
       "      <td>Media and Advertising</td>\n",
       "      <td>Unemployed</td>\n",
       "      <td>Ringing</td>\n",
       "      <td>No</td>\n",
       "      <td>Modified</td>\n",
       "    </tr>\n",
       "    <tr>\n",
       "      <th>4</th>\n",
       "      <td>Landing Page Submission</td>\n",
       "      <td>Google</td>\n",
       "      <td>No</td>\n",
       "      <td>1</td>\n",
       "      <td>2.0</td>\n",
       "      <td>1428</td>\n",
       "      <td>1.0</td>\n",
       "      <td>Converted to Lead</td>\n",
       "      <td>not specified</td>\n",
       "      <td>Unemployed</td>\n",
       "      <td>Will revert after reading the email</td>\n",
       "      <td>No</td>\n",
       "      <td>Modified</td>\n",
       "    </tr>\n",
       "  </tbody>\n",
       "</table>\n",
       "</div>"
      ],
      "text/plain": [
       "               Lead Origin     Lead Source Do Not Email  Converted  \\\n",
       "0                      API      Olark Chat           No          0   \n",
       "1                      API  Organic Search           No          0   \n",
       "2  Landing Page Submission  Direct Traffic           No          1   \n",
       "3  Landing Page Submission  Direct Traffic           No          0   \n",
       "4  Landing Page Submission          Google           No          1   \n",
       "\n",
       "   TotalVisits  Total Time Spent on Website  Page Views Per Visit  \\\n",
       "0          0.0                            0                   0.0   \n",
       "1          5.0                          674                   2.5   \n",
       "2          2.0                         1532                   2.0   \n",
       "3          1.0                          305                   1.0   \n",
       "4          2.0                         1428                   1.0   \n",
       "\n",
       "             Last Activity           Specialization  \\\n",
       "0  Page Visited on Website            not specified   \n",
       "1             Email Opened            not specified   \n",
       "2             Email Opened  Business Administration   \n",
       "3                   others    Media and Advertising   \n",
       "4        Converted to Lead            not specified   \n",
       "\n",
       "  What is your current occupation                                 Tags  \\\n",
       "0                      Unemployed          Interested in other courses   \n",
       "1                      Unemployed                              Ringing   \n",
       "2                         Student  Will revert after reading the email   \n",
       "3                      Unemployed                              Ringing   \n",
       "4                      Unemployed  Will revert after reading the email   \n",
       "\n",
       "  A free copy of Mastering The Interview Last Notable Activity  \n",
       "0                                     No              Modified  \n",
       "1                                     No          Email Opened  \n",
       "2                                    Yes          Email Opened  \n",
       "3                                     No              Modified  \n",
       "4                                     No              Modified  "
      ]
     },
     "execution_count": 48,
     "metadata": {},
     "output_type": "execute_result"
    }
   ],
   "source": [
    "leads.head()"
   ]
  },
  {
   "cell_type": "code",
   "execution_count": 49,
   "id": "eb8958a8",
   "metadata": {},
   "outputs": [
    {
     "data": {
      "text/plain": [
       "Index(['Lead Origin', 'Lead Source', 'Do Not Email', 'Converted',\n",
       "       'TotalVisits', 'Total Time Spent on Website', 'Page Views Per Visit',\n",
       "       'Last Activity', 'Specialization', 'What is your current occupation',\n",
       "       'Tags', 'A free copy of Mastering The Interview',\n",
       "       'Last Notable Activity'],\n",
       "      dtype='object')"
      ]
     },
     "execution_count": 49,
     "metadata": {},
     "output_type": "execute_result"
    }
   ],
   "source": [
    "leads.columns"
   ]
  },
  {
   "cell_type": "code",
   "execution_count": 50,
   "id": "537ce6de",
   "metadata": {},
   "outputs": [],
   "source": [
    "#defining a function to make plotting easy for us.\n",
    "def uniplot(var1):\n",
    "    plt.figure(figsize=(12,8))\n",
    "    sns.countplot(x=var1,hue='Converted',data=leads,palette='rocket')\n",
    "    plt.xticks(rotation=90)\n",
    "    plt.show()"
   ]
  },
  {
   "cell_type": "code",
   "execution_count": 51,
   "id": "1b4ac4f7",
   "metadata": {},
   "outputs": [
    {
     "data": {
      "image/png": "[encoded data removed]",
      "text/plain": [
       "<Figure size 864x576 with 1 Axes>"
      ]
     },
     "metadata": {
      "needs_background": "light"
     },
     "output_type": "display_data"
    }
   ],
   "source": [
    "#visualizing lead Origin column w.r.t. converted column i.e. our target column\n",
    "uniplot('Lead Origin')"
   ]
  },
  {
   "cell_type": "markdown",
   "id": "9334ea84",
   "metadata": {},
   "source": [
    "<!-- ### Inferences -->\n"
   ]
  },
  {
   "cell_type": "markdown",
   "id": "b6fbd9f0",
   "metadata": {},
   "source": [
    "### Inferences of Lead Origin:-\n",
    "#### 1. lead Ad form has the highest lead coversion percentage amongst all.\n",
    "#### 2. Landing page submission has highest negative coversion rate. "
   ]
  },
  {
   "cell_type": "code",
   "execution_count": 52,
   "id": "a4eb42ac",
   "metadata": {},
   "outputs": [
    {
     "data": {
      "image/png": "[encoded data removed]",
      "text/plain": [
       "<Figure size 864x576 with 1 Axes>"
      ]
     },
     "metadata": {
      "needs_background": "light"
     },
     "output_type": "display_data"
    }
   ],
   "source": [
    "uniplot('Lead Source')"
   ]
  },
  {
   "cell_type": "markdown",
   "id": "20bdf5ec",
   "metadata": {},
   "source": [
    "### Inferences of Lead Source\n",
    "#### 1.google and irect traffic has many negative leads.\n",
    "#### 2.Highest postive leads conversion are from references. "
   ]
  },
  {
   "cell_type": "code",
   "execution_count": 53,
   "id": "15b7deb4",
   "metadata": {},
   "outputs": [
    {
     "data": {
      "image/png": "[encoded data removed]",
      "text/plain": [
       "<Figure size 864x576 with 1 Axes>"
      ]
     },
     "metadata": {
      "needs_background": "light"
     },
     "output_type": "display_data"
    }
   ],
   "source": [
    "uniplot('What is your current occupation')"
   ]
  },
  {
   "cell_type": "markdown",
   "id": "9816b6f5",
   "metadata": {},
   "source": [
    "### Infernces for Occupation:-\n",
    "#### 1.If a customer happens to be unemployed their chances of enrolling in any program is good.\n",
    "#### 2.working profesional has the highest conversion rate. \n",
    "#### 3.Not specified happens to be negative leads collector as its conversion rate is very low."
   ]
  },
  {
   "cell_type": "code",
   "execution_count": 54,
   "id": "ec323de7",
   "metadata": {},
   "outputs": [
    {
     "data": {
      "image/png": "[encoded data removed]",
      "text/plain": [
       "<Figure size 864x576 with 1 Axes>"
      ]
     },
     "metadata": {
      "needs_background": "light"
     },
     "output_type": "display_data"
    }
   ],
   "source": [
    "uniplot('Last Activity')"
   ]
  },
  {
   "cell_type": "markdown",
   "id": "079d4982",
   "metadata": {},
   "source": [
    "### Inferences of Last Activity:-\n",
    "#### 1.If last activity of a customer is email opened, then it likely be negative lead as it holds highest numer for the same.\n",
    "#### 2.If last activity happens to be SMS sent,then it is liely to be a positive lead as it has highest percentage of lead conversion."
   ]
  },
  {
   "cell_type": "code",
   "execution_count": 55,
   "id": "6766511d",
   "metadata": {},
   "outputs": [
    {
     "data": {
      "image/png": "[encoded data removed]",
      "text/plain": [
       "<Figure size 864x576 with 1 Axes>"
      ]
     },
     "metadata": {
      "needs_background": "light"
     },
     "output_type": "display_data"
    }
   ],
   "source": [
    "uniplot('Specialization')"
   ]
  },
  {
   "cell_type": "markdown",
   "id": "e275bffc",
   "metadata": {},
   "source": [
    "#### Management specialization seems to attract most leads whose conversion rate is roughly more than 70%"
   ]
  },
  {
   "cell_type": "code",
   "execution_count": 56,
   "id": "bdaeb57b",
   "metadata": {},
   "outputs": [
    {
     "data": {
      "image/png": "[encoded data removed]",
      "text/plain": [
       "<Figure size 864x576 with 2 Axes>"
      ]
     },
     "metadata": {
      "needs_background": "light"
     },
     "output_type": "display_data"
    }
   ],
   "source": [
    "### Checking correlation of Numerical columns of the dataset with heatmap.\n",
    "plt.figure(figsize=(12,8))\n",
    "sns.heatmap(leads.corr(),annot=True)\n",
    "plt.show()"
   ]
  },
  {
   "cell_type": "markdown",
   "id": "69adbc28",
   "metadata": {},
   "source": [
    "### Inferences of numerical column:\n",
    "#### 1.the numerical columns show less correlation between them."
   ]
  },
  {
   "cell_type": "markdown",
   "id": "7a843edc",
   "metadata": {},
   "source": [
    "### Outliers treatment"
   ]
  },
  {
   "cell_type": "code",
   "execution_count": 57,
   "id": "67cbfbe6",
   "metadata": {},
   "outputs": [
    {
     "data": {
      "image/png": "[encoded data removed]",
      "text/plain": [
       "<Figure size 432x288 with 1 Axes>"
      ]
     },
     "metadata": {
      "needs_background": "light"
     },
     "output_type": "display_data"
    }
   ],
   "source": [
    "#TotalVisits column\n",
    "sns.boxplot(y = 'TotalVisits',data=leads)\n",
    "plt.show()"
   ]
  },
  {
   "cell_type": "code",
   "execution_count": 58,
   "id": "dd771f4e",
   "metadata": {},
   "outputs": [
    {
     "data": {
      "text/plain": [
       "count    9240.000000\n",
       "mean        3.438636\n",
       "std         4.819024\n",
       "min         0.000000\n",
       "10%         0.000000\n",
       "25%         1.000000\n",
       "50%         3.000000\n",
       "75%         5.000000\n",
       "99%        17.000000\n",
       "max       251.000000\n",
       "Name: TotalVisits, dtype: float64"
      ]
     },
     "execution_count": 58,
     "metadata": {},
     "output_type": "execute_result"
    }
   ],
   "source": [
    "#since outliers are present so we need to treat the outliers aswell.\n",
    "leads['TotalVisits'].describe(percentiles=[0.1,0.25,0.50,0.75,0.99])"
   ]
  },
  {
   "cell_type": "code",
   "execution_count": 59,
   "id": "69957d1a",
   "metadata": {},
   "outputs": [],
   "source": [
    "leads = leads[(leads['TotalVisits'] <= leads['TotalVisits'].quantile(0.99))]"
   ]
  },
  {
   "cell_type": "code",
   "execution_count": 60,
   "id": "6dd92b86",
   "metadata": {},
   "outputs": [
    {
     "data": {
      "image/png": "[encoded data removed]",
      "text/plain": [
       "<Figure size 432x288 with 1 Axes>"
      ]
     },
     "metadata": {
      "needs_background": "light"
     },
     "output_type": "display_data"
    }
   ],
   "source": [
    "#visualising again\n",
    "sns.boxplot(y=leads['TotalVisits'])\n",
    "plt.show()"
   ]
  },
  {
   "cell_type": "code",
   "execution_count": 61,
   "id": "522e2932",
   "metadata": {},
   "outputs": [
    {
     "data": {
      "image/png": "[encoded data removed]",
      "text/plain": [
       "<Figure size 432x288 with 1 Axes>"
      ]
     },
     "metadata": {
      "needs_background": "light"
     },
     "output_type": "display_data"
    }
   ],
   "source": [
    "##Total time sent on websites column\n",
    "sns.boxplot(y=leads['Total Time Spent on Website'])\n",
    "plt.show()"
   ]
  },
  {
   "cell_type": "markdown",
   "id": "73fbb283",
   "metadata": {},
   "source": [
    "#### There is no possible outliers that we need to treat for this column"
   ]
  },
  {
   "cell_type": "code",
   "execution_count": 62,
   "id": "df8a26e4",
   "metadata": {},
   "outputs": [
    {
     "data": {
      "image/png": "[encoded data removed]",
      "text/plain": [
       "<Figure size 432x288 with 1 Axes>"
      ]
     },
     "metadata": {
      "needs_background": "light"
     },
     "output_type": "display_data"
    }
   ],
   "source": [
    "#treating Page Views Per Visit column\n",
    "sns.boxplot(y=leads['Page Views Per Visit'])\n",
    "plt.show()"
   ]
  },
  {
   "cell_type": "code",
   "execution_count": 63,
   "id": "24243ef6",
   "metadata": {},
   "outputs": [
    {
     "data": {
      "text/plain": [
       "count    9157.000000\n",
       "mean        2.332225\n",
       "std         2.047285\n",
       "min         0.000000\n",
       "10%         0.000000\n",
       "25%         1.000000\n",
       "50%         2.000000\n",
       "75%         3.000000\n",
       "99%         9.000000\n",
       "max        16.000000\n",
       "Name: Page Views Per Visit, dtype: float64"
      ]
     },
     "execution_count": 63,
     "metadata": {},
     "output_type": "execute_result"
    }
   ],
   "source": [
    "leads['Page Views Per Visit'].describe(percentiles=[0.1,0.25,0.50,0.75,0.99])"
   ]
  },
  {
   "cell_type": "code",
   "execution_count": 64,
   "id": "9f81cd36",
   "metadata": {},
   "outputs": [
    {
     "data": {
      "image/png": "[encoded data removed]",
      "text/plain": [
       "<Figure size 432x288 with 1 Axes>"
      ]
     },
     "metadata": {
      "needs_background": "light"
     },
     "output_type": "display_data"
    }
   ],
   "source": [
    "#there is outlier we need to treat by removing top 1% of values\n",
    "leads = leads[(leads['Page Views Per Visit'] <= leads['Page Views Per Visit'].quantile(0.99))]\n",
    "sns.boxplot(y=leads['Page Views Per Visit'])\n",
    "plt.show()"
   ]
  },
  {
   "cell_type": "markdown",
   "id": "544f8ebf",
   "metadata": {},
   "source": [
    "### Visualizing Numerical columns w.r.t. target column"
   ]
  },
  {
   "cell_type": "code",
   "execution_count": 65,
   "id": "4530a55b",
   "metadata": {},
   "outputs": [],
   "source": [
    "#defing a function for that \n",
    "def numplot(var1):\n",
    "    plt.figure(figsize=(12,8))\n",
    "    sns.boxplot(x='Converted',y=var1,data=leads,palette='rocket')\n",
    "    plt.show()"
   ]
  },
  {
   "cell_type": "code",
   "execution_count": 66,
   "id": "a241ca1d",
   "metadata": {},
   "outputs": [
    {
     "data": {
      "image/png": "[encoded data removed]",
      "text/plain": [
       "<Figure size 864x576 with 1 Axes>"
      ]
     },
     "metadata": {
      "needs_background": "light"
     },
     "output_type": "display_data"
    }
   ],
   "source": [
    "numplot('TotalVisits')"
   ]
  },
  {
   "cell_type": "markdown",
   "id": "5de87aec",
   "metadata": {},
   "source": [
    "#### Median of both the cases seems to be too close for any infernces."
   ]
  },
  {
   "cell_type": "code",
   "execution_count": 67,
   "id": "85605968",
   "metadata": {},
   "outputs": [
    {
     "data": {
      "image/png": "[encoded data removed]",
      "text/plain": [
       "<Figure size 864x576 with 1 Axes>"
      ]
     },
     "metadata": {
      "needs_background": "light"
     },
     "output_type": "display_data"
    }
   ],
   "source": [
    "numplot('Total Time Spent on Website')"
   ]
  },
  {
   "cell_type": "markdown",
   "id": "0eef9dac",
   "metadata": {},
   "source": [
    "#### Person spending more time in webiste are more likely to be converted."
   ]
  },
  {
   "cell_type": "code",
   "execution_count": 68,
   "id": "001bde0d",
   "metadata": {},
   "outputs": [
    {
     "data": {
      "image/png": "[encoded data removed]",
      "text/plain": [
       "<Figure size 864x576 with 1 Axes>"
      ]
     },
     "metadata": {
      "needs_background": "light"
     },
     "output_type": "display_data"
    }
   ],
   "source": [
    "numplot('Page Views Per Visit')"
   ]
  },
  {
   "cell_type": "markdown",
   "id": "fe5b4bc2",
   "metadata": {},
   "source": [
    "#### Median of both the cases seems to be too close for any infernces."
   ]
  },
  {
   "cell_type": "markdown",
   "id": "b57ddc45",
   "metadata": {},
   "source": [
    "## Dummy creation"
   ]
  },
  {
   "cell_type": "code",
   "execution_count": 69,
   "id": "dad1e7f2",
   "metadata": {},
   "outputs": [
    {
     "name": "stdout",
     "output_type": "stream",
     "text": [
      "<class 'pandas.core.frame.DataFrame'>\n",
      "Int64Index: 9090 entries, 0 to 9239\n",
      "Data columns (total 13 columns):\n",
      " #   Column                                  Non-Null Count  Dtype  \n",
      "---  ------                                  --------------  -----  \n",
      " 0   Lead Origin                             9090 non-null   object \n",
      " 1   Lead Source                             9090 non-null   object \n",
      " 2   Do Not Email                            9090 non-null   object \n",
      " 3   Converted                               9090 non-null   int64  \n",
      " 4   TotalVisits                             9090 non-null   float64\n",
      " 5   Total Time Spent on Website             9090 non-null   int64  \n",
      " 6   Page Views Per Visit                    9090 non-null   float64\n",
      " 7   Last Activity                           9090 non-null   object \n",
      " 8   Specialization                          9090 non-null   object \n",
      " 9   What is your current occupation         9090 non-null   object \n",
      " 10  Tags                                    9090 non-null   object \n",
      " 11  A free copy of Mastering The Interview  9090 non-null   object \n",
      " 12  Last Notable Activity                   9090 non-null   object \n",
      "dtypes: float64(2), int64(2), object(9)\n",
      "memory usage: 994.2+ KB\n"
     ]
    }
   ],
   "source": [
    "leads.info()"
   ]
  },
  {
   "cell_type": "code",
   "execution_count": 70,
   "id": "e40e07e5",
   "metadata": {},
   "outputs": [],
   "source": [
    "#Lead Origin\n",
    "dummy_lo = pd.get_dummies(leads['Lead Origin'],prefix='Lead_Origin')\n",
    "leads = pd.concat([leads,dummy_lo],axis=1)"
   ]
  },
  {
   "cell_type": "code",
   "execution_count": 71,
   "id": "a7b4820e",
   "metadata": {},
   "outputs": [],
   "source": [
    "#Lead Source\n",
    "dummy_ls=pd.get_dummies(leads['Lead Source'],prefix='Lead_Source')\n",
    "dummy_ls = dummy_ls.drop('Lead_Source_others',axis=1)\n",
    "leads = pd.concat([leads,dummy_ls],axis=1)"
   ]
  },
  {
   "cell_type": "code",
   "execution_count": 72,
   "id": "98cad4ee",
   "metadata": {},
   "outputs": [],
   "source": [
    "#Last Activity\n",
    "dummy_la = pd.get_dummies(leads['Last Activity'], prefix = 'Last_Activity')\n",
    "dummy_la = dummy_la.drop('Last_Activity_others',axis=1)\n",
    "leads = pd.concat([leads,dummy_la],axis=1)"
   ]
  },
  {
   "cell_type": "code",
   "execution_count": 73,
   "id": "58245039",
   "metadata": {},
   "outputs": [],
   "source": [
    "#Specialization\n",
    "dummy_s = pd.get_dummies(leads['Specialization'],prefix='Specialization')\n",
    "dummy_s = dummy_s.drop('Specialization_not specified',axis=1)\n",
    "leads = pd.concat([leads,dummy_s],axis=1)"
   ]
  },
  {
   "cell_type": "code",
   "execution_count": 74,
   "id": "2f3d3b66",
   "metadata": {},
   "outputs": [],
   "source": [
    "#What is your current occupation\n",
    "dummy_o = pd.get_dummies(leads['What is your current occupation'],prefix='Occupation')\n",
    "dummy_o = dummy_o.drop('Occupation_Other',axis=1)\n",
    "leads=pd.concat([leads,dummy_o],axis=1)\n"
   ]
  },
  {
   "cell_type": "code",
   "execution_count": 75,
   "id": "c35b57bc",
   "metadata": {},
   "outputs": [],
   "source": [
    "#Tags\n",
    "dummy_t = pd.get_dummies(leads['Tags'],prefix='Tags')\n",
    "dummy_t = dummy_t.drop('Tags_not specified',axis=1)\n",
    "leads=pd.concat([leads,dummy_t],axis=1)"
   ]
  },
  {
   "cell_type": "code",
   "execution_count": 76,
   "id": "11720443",
   "metadata": {},
   "outputs": [],
   "source": [
    "#Last Notable Activity\n",
    "dummy_lna = pd.get_dummies(leads['Last Notable Activity'],prefix='Last_Notable_Activity')\n",
    "dummy_lna = dummy_lna.drop('Last_Notable_Activity_others',axis=1)\n",
    "leads=pd.concat([leads,dummy_lna],axis=1)"
   ]
  },
  {
   "cell_type": "code",
   "execution_count": 77,
   "id": "568e8312",
   "metadata": {
    "scrolled": true
   },
   "outputs": [
    {
     "data": {
      "text/plain": [
       "Modified                   3361\n",
       "Email Opened               2789\n",
       "SMS Sent                   2143\n",
       "others                      509\n",
       "Page Visited on Website     288\n",
       "Name: Last Notable Activity, dtype: int64"
      ]
     },
     "execution_count": 77,
     "metadata": {},
     "output_type": "execute_result"
    }
   ],
   "source": [
    "leads['Last Notable Activity'].value_counts(dropna=False)"
   ]
  },
  {
   "cell_type": "code",
   "execution_count": 78,
   "id": "fb6ade44",
   "metadata": {},
   "outputs": [],
   "source": [
    "#Converting yes/no to 1/0 for two columns\n",
    "def binary_map(x):\n",
    "    return x.map({'Yes': 1,'No': 0})\n",
    "cols = ['A free copy of Mastering The Interview','Do Not Email']\n",
    "leads[cols] = leads[cols].apply(binary_map)"
   ]
  },
  {
   "cell_type": "code",
   "execution_count": 79,
   "id": "c48d19cc",
   "metadata": {},
   "outputs": [
    {
     "data": {
      "text/plain": [
       "Index(['Lead Origin', 'Lead Source', 'Last Activity', 'Specialization',\n",
       "       'What is your current occupation', 'Tags', 'Last Notable Activity'],\n",
       "      dtype='object')"
      ]
     },
     "execution_count": 79,
     "metadata": {},
     "output_type": "execute_result"
    }
   ],
   "source": [
    "columns_todrop = leads.select_dtypes(include = 'object').columns\n",
    "columns_todrop"
   ]
  },
  {
   "cell_type": "code",
   "execution_count": 80,
   "id": "1ac7ef22",
   "metadata": {},
   "outputs": [],
   "source": [
    "#removing duplicate columns\n",
    "leads.drop(columns_todrop,axis=1,inplace=True)"
   ]
  },
  {
   "cell_type": "code",
   "execution_count": 81,
   "id": "b368636d",
   "metadata": {},
   "outputs": [
    {
     "data": {
      "text/html": [
       "<div>\n",
       "<style scoped>\n",
       "    .dataframe tbody tr th:only-of-type {\n",
       "        vertical-align: middle;\n",
       "    }\n",
       "\n",
       "    .dataframe tbody tr th {\n",
       "        vertical-align: top;\n",
       "    }\n",
       "\n",
       "    .dataframe thead th {\n",
       "        text-align: right;\n",
       "    }\n",
       "</style>\n",
       "<table border=\"1\" class=\"dataframe\">\n",
       "  <thead>\n",
       "    <tr style=\"text-align: right;\">\n",
       "      <th></th>\n",
       "      <th>Do Not Email</th>\n",
       "      <th>Converted</th>\n",
       "      <th>TotalVisits</th>\n",
       "      <th>Total Time Spent on Website</th>\n",
       "      <th>Page Views Per Visit</th>\n",
       "      <th>A free copy of Mastering The Interview</th>\n",
       "      <th>Lead_Origin_API</th>\n",
       "      <th>Lead_Origin_Landing Page Submission</th>\n",
       "      <th>Lead_Origin_Lead Add Form</th>\n",
       "      <th>Lead_Origin_Lead Import</th>\n",
       "      <th>...</th>\n",
       "      <th>Tags_Interested in other courses</th>\n",
       "      <th>Tags_Lost to EINS</th>\n",
       "      <th>Tags_Other Tags</th>\n",
       "      <th>Tags_Ringing</th>\n",
       "      <th>Tags_Will revert after reading the email</th>\n",
       "      <th>Tags_switched off</th>\n",
       "      <th>Last_Notable_Activity_Email Opened</th>\n",
       "      <th>Last_Notable_Activity_Modified</th>\n",
       "      <th>Last_Notable_Activity_Page Visited on Website</th>\n",
       "      <th>Last_Notable_Activity_SMS Sent</th>\n",
       "    </tr>\n",
       "  </thead>\n",
       "  <tbody>\n",
       "    <tr>\n",
       "      <th>0</th>\n",
       "      <td>0</td>\n",
       "      <td>0</td>\n",
       "      <td>0.0</td>\n",
       "      <td>0</td>\n",
       "      <td>0.0</td>\n",
       "      <td>0</td>\n",
       "      <td>1</td>\n",
       "      <td>0</td>\n",
       "      <td>0</td>\n",
       "      <td>0</td>\n",
       "      <td>...</td>\n",
       "      <td>1</td>\n",
       "      <td>0</td>\n",
       "      <td>0</td>\n",
       "      <td>0</td>\n",
       "      <td>0</td>\n",
       "      <td>0</td>\n",
       "      <td>0</td>\n",
       "      <td>1</td>\n",
       "      <td>0</td>\n",
       "      <td>0</td>\n",
       "    </tr>\n",
       "    <tr>\n",
       "      <th>1</th>\n",
       "      <td>0</td>\n",
       "      <td>0</td>\n",
       "      <td>5.0</td>\n",
       "      <td>674</td>\n",
       "      <td>2.5</td>\n",
       "      <td>0</td>\n",
       "      <td>1</td>\n",
       "      <td>0</td>\n",
       "      <td>0</td>\n",
       "      <td>0</td>\n",
       "      <td>...</td>\n",
       "      <td>0</td>\n",
       "      <td>0</td>\n",
       "      <td>0</td>\n",
       "      <td>1</td>\n",
       "      <td>0</td>\n",
       "      <td>0</td>\n",
       "      <td>1</td>\n",
       "      <td>0</td>\n",
       "      <td>0</td>\n",
       "      <td>0</td>\n",
       "    </tr>\n",
       "    <tr>\n",
       "      <th>2</th>\n",
       "      <td>0</td>\n",
       "      <td>1</td>\n",
       "      <td>2.0</td>\n",
       "      <td>1532</td>\n",
       "      <td>2.0</td>\n",
       "      <td>1</td>\n",
       "      <td>0</td>\n",
       "      <td>1</td>\n",
       "      <td>0</td>\n",
       "      <td>0</td>\n",
       "      <td>...</td>\n",
       "      <td>0</td>\n",
       "      <td>0</td>\n",
       "      <td>0</td>\n",
       "      <td>0</td>\n",
       "      <td>1</td>\n",
       "      <td>0</td>\n",
       "      <td>1</td>\n",
       "      <td>0</td>\n",
       "      <td>0</td>\n",
       "      <td>0</td>\n",
       "    </tr>\n",
       "    <tr>\n",
       "      <th>3</th>\n",
       "      <td>0</td>\n",
       "      <td>0</td>\n",
       "      <td>1.0</td>\n",
       "      <td>305</td>\n",
       "      <td>1.0</td>\n",
       "      <td>0</td>\n",
       "      <td>0</td>\n",
       "      <td>1</td>\n",
       "      <td>0</td>\n",
       "      <td>0</td>\n",
       "      <td>...</td>\n",
       "      <td>0</td>\n",
       "      <td>0</td>\n",
       "      <td>0</td>\n",
       "      <td>1</td>\n",
       "      <td>0</td>\n",
       "      <td>0</td>\n",
       "      <td>0</td>\n",
       "      <td>1</td>\n",
       "      <td>0</td>\n",
       "      <td>0</td>\n",
       "    </tr>\n",
       "    <tr>\n",
       "      <th>4</th>\n",
       "      <td>0</td>\n",
       "      <td>1</td>\n",
       "      <td>2.0</td>\n",
       "      <td>1428</td>\n",
       "      <td>1.0</td>\n",
       "      <td>0</td>\n",
       "      <td>0</td>\n",
       "      <td>1</td>\n",
       "      <td>0</td>\n",
       "      <td>0</td>\n",
       "      <td>...</td>\n",
       "      <td>0</td>\n",
       "      <td>0</td>\n",
       "      <td>0</td>\n",
       "      <td>0</td>\n",
       "      <td>1</td>\n",
       "      <td>0</td>\n",
       "      <td>0</td>\n",
       "      <td>1</td>\n",
       "      <td>0</td>\n",
       "      <td>0</td>\n",
       "    </tr>\n",
       "  </tbody>\n",
       "</table>\n",
       "<p>5 rows × 53 columns</p>\n",
       "</div>"
      ],
      "text/plain": [
       "   Do Not Email  Converted  TotalVisits  Total Time Spent on Website  \\\n",
       "0             0          0          0.0                            0   \n",
       "1             0          0          5.0                          674   \n",
       "2             0          1          2.0                         1532   \n",
       "3             0          0          1.0                          305   \n",
       "4             0          1          2.0                         1428   \n",
       "\n",
       "   Page Views Per Visit  A free copy of Mastering The Interview  \\\n",
       "0                   0.0                                       0   \n",
       "1                   2.5                                       0   \n",
       "2                   2.0                                       1   \n",
       "3                   1.0                                       0   \n",
       "4                   1.0                                       0   \n",
       "\n",
       "   Lead_Origin_API  Lead_Origin_Landing Page Submission  \\\n",
       "0                1                                    0   \n",
       "1                1                                    0   \n",
       "2                0                                    1   \n",
       "3                0                                    1   \n",
       "4                0                                    1   \n",
       "\n",
       "   Lead_Origin_Lead Add Form  Lead_Origin_Lead Import  ...  \\\n",
       "0                          0                        0  ...   \n",
       "1                          0                        0  ...   \n",
       "2                          0                        0  ...   \n",
       "3                          0                        0  ...   \n",
       "4                          0                        0  ...   \n",
       "\n",
       "   Tags_Interested in other courses  Tags_Lost to EINS  Tags_Other Tags  \\\n",
       "0                                 1                  0                0   \n",
       "1                                 0                  0                0   \n",
       "2                                 0                  0                0   \n",
       "3                                 0                  0                0   \n",
       "4                                 0                  0                0   \n",
       "\n",
       "   Tags_Ringing  Tags_Will revert after reading the email  Tags_switched off  \\\n",
       "0             0                                         0                  0   \n",
       "1             1                                         0                  0   \n",
       "2             0                                         1                  0   \n",
       "3             1                                         0                  0   \n",
       "4             0                                         1                  0   \n",
       "\n",
       "   Last_Notable_Activity_Email Opened  Last_Notable_Activity_Modified  \\\n",
       "0                                   0                               1   \n",
       "1                                   1                               0   \n",
       "2                                   1                               0   \n",
       "3                                   0                               1   \n",
       "4                                   0                               1   \n",
       "\n",
       "   Last_Notable_Activity_Page Visited on Website  \\\n",
       "0                                              0   \n",
       "1                                              0   \n",
       "2                                              0   \n",
       "3                                              0   \n",
       "4                                              0   \n",
       "\n",
       "   Last_Notable_Activity_SMS Sent  \n",
       "0                               0  \n",
       "1                               0  \n",
       "2                               0  \n",
       "3                               0  \n",
       "4                               0  \n",
       "\n",
       "[5 rows x 53 columns]"
      ]
     },
     "execution_count": 81,
     "metadata": {},
     "output_type": "execute_result"
    }
   ],
   "source": [
    "#Viewing the hed to see if columns are in proper manner or not.\n",
    "leads.head()"
   ]
  },
  {
   "cell_type": "code",
   "execution_count": 82,
   "id": "4fd42320",
   "metadata": {},
   "outputs": [
    {
     "name": "stdout",
     "output_type": "stream",
     "text": [
      "<class 'pandas.core.frame.DataFrame'>\n",
      "Int64Index: 9090 entries, 0 to 9239\n",
      "Data columns (total 53 columns):\n",
      " #   Column                                            Non-Null Count  Dtype  \n",
      "---  ------                                            --------------  -----  \n",
      " 0   Do Not Email                                      9090 non-null   int64  \n",
      " 1   Converted                                         9090 non-null   int64  \n",
      " 2   TotalVisits                                       9090 non-null   float64\n",
      " 3   Total Time Spent on Website                       9090 non-null   int64  \n",
      " 4   Page Views Per Visit                              9090 non-null   float64\n",
      " 5   A free copy of Mastering The Interview            9090 non-null   int64  \n",
      " 6   Lead_Origin_API                                   9090 non-null   uint8  \n",
      " 7   Lead_Origin_Landing Page Submission               9090 non-null   uint8  \n",
      " 8   Lead_Origin_Lead Add Form                         9090 non-null   uint8  \n",
      " 9   Lead_Origin_Lead Import                           9090 non-null   uint8  \n",
      " 10  Lead_Origin_Quick Add Form                        9090 non-null   uint8  \n",
      " 11  Lead_Source_Direct Traffic                        9090 non-null   uint8  \n",
      " 12  Lead_Source_Facebook                              9090 non-null   uint8  \n",
      " 13  Lead_Source_Google                                9090 non-null   uint8  \n",
      " 14  Lead_Source_Live Chat                             9090 non-null   uint8  \n",
      " 15  Lead_Source_Olark Chat                            9090 non-null   uint8  \n",
      " 16  Lead_Source_Organic Search                        9090 non-null   uint8  \n",
      " 17  Lead_Source_Reference                             9090 non-null   uint8  \n",
      " 18  Lead_Source_Referral Sites                        9090 non-null   uint8  \n",
      " 19  Lead_Source_Welingak Website                      9090 non-null   uint8  \n",
      " 20  Last_Activity_Converted to Lead                   9090 non-null   uint8  \n",
      " 21  Last_Activity_Email Bounced                       9090 non-null   uint8  \n",
      " 22  Last_Activity_Email Link Clicked                  9090 non-null   uint8  \n",
      " 23  Last_Activity_Email Opened                        9090 non-null   uint8  \n",
      " 24  Last_Activity_Form Submitted on Website           9090 non-null   uint8  \n",
      " 25  Last_Activity_Olark Chat Conversation             9090 non-null   uint8  \n",
      " 26  Last_Activity_Page Visited on Website             9090 non-null   uint8  \n",
      " 27  Last_Activity_SMS Sent                            9090 non-null   uint8  \n",
      " 28  Specialization_Banking, Investment And Insurance  9090 non-null   uint8  \n",
      " 29  Specialization_Business Administration            9090 non-null   uint8  \n",
      " 30  Specialization_Business Specialization            9090 non-null   uint8  \n",
      " 31  Specialization_E-COMMERCE                         9090 non-null   uint8  \n",
      " 32  Specialization_Management Specialization          9090 non-null   uint8  \n",
      " 33  Specialization_Media and Advertising              9090 non-null   uint8  \n",
      " 34  Specialization_Services Excellence                9090 non-null   uint8  \n",
      " 35  Specialization_Travel and Tourism                 9090 non-null   uint8  \n",
      " 36  Occupation_Student                                9090 non-null   uint8  \n",
      " 37  Occupation_Unemployed                             9090 non-null   uint8  \n",
      " 38  Occupation_Working Professional                   9090 non-null   uint8  \n",
      " 39  Occupation_not specified                          9090 non-null   uint8  \n",
      " 40  Tags_Already a student                            9090 non-null   uint8  \n",
      " 41  Tags_Busy                                         9090 non-null   uint8  \n",
      " 42  Tags_Closed by Horizzon                           9090 non-null   uint8  \n",
      " 43  Tags_Interested in other courses                  9090 non-null   uint8  \n",
      " 44  Tags_Lost to EINS                                 9090 non-null   uint8  \n",
      " 45  Tags_Other Tags                                   9090 non-null   uint8  \n",
      " 46  Tags_Ringing                                      9090 non-null   uint8  \n",
      " 47  Tags_Will revert after reading the email          9090 non-null   uint8  \n",
      " 48  Tags_switched off                                 9090 non-null   uint8  \n",
      " 49  Last_Notable_Activity_Email Opened                9090 non-null   uint8  \n",
      " 50  Last_Notable_Activity_Modified                    9090 non-null   uint8  \n",
      " 51  Last_Notable_Activity_Page Visited on Website     9090 non-null   uint8  \n",
      " 52  Last_Notable_Activity_SMS Sent                    9090 non-null   uint8  \n",
      "dtypes: float64(2), int64(4), uint8(47)\n",
      "memory usage: 914.3 KB\n"
     ]
    }
   ],
   "source": [
    "leads.info()"
   ]
  },
  {
   "cell_type": "markdown",
   "id": "28955201",
   "metadata": {},
   "source": [
    "### Spliting the leads dataframe into train-test split"
   ]
  },
  {
   "cell_type": "code",
   "execution_count": 83,
   "id": "0fe886b3",
   "metadata": {},
   "outputs": [],
   "source": [
    "y = leads.pop('Converted')\n",
    "X = leads"
   ]
  },
  {
   "cell_type": "code",
   "execution_count": 84,
   "id": "89095477",
   "metadata": {},
   "outputs": [],
   "source": [
    "X_train,X_test,y_train,y_test = train_test_split(X,y, train_size=0.70,random_state=100)"
   ]
  },
  {
   "cell_type": "code",
   "execution_count": 85,
   "id": "b2a66c51",
   "metadata": {},
   "outputs": [
    {
     "data": {
      "text/html": [
       "<div>\n",
       "<style scoped>\n",
       "    .dataframe tbody tr th:only-of-type {\n",
       "        vertical-align: middle;\n",
       "    }\n",
       "\n",
       "    .dataframe tbody tr th {\n",
       "        vertical-align: top;\n",
       "    }\n",
       "\n",
       "    .dataframe thead th {\n",
       "        text-align: right;\n",
       "    }\n",
       "</style>\n",
       "<table border=\"1\" class=\"dataframe\">\n",
       "  <thead>\n",
       "    <tr style=\"text-align: right;\">\n",
       "      <th></th>\n",
       "      <th>Do Not Email</th>\n",
       "      <th>TotalVisits</th>\n",
       "      <th>Total Time Spent on Website</th>\n",
       "      <th>Page Views Per Visit</th>\n",
       "      <th>A free copy of Mastering The Interview</th>\n",
       "      <th>Lead_Origin_API</th>\n",
       "      <th>Lead_Origin_Landing Page Submission</th>\n",
       "      <th>Lead_Origin_Lead Add Form</th>\n",
       "      <th>Lead_Origin_Lead Import</th>\n",
       "      <th>Lead_Origin_Quick Add Form</th>\n",
       "      <th>...</th>\n",
       "      <th>Tags_Interested in other courses</th>\n",
       "      <th>Tags_Lost to EINS</th>\n",
       "      <th>Tags_Other Tags</th>\n",
       "      <th>Tags_Ringing</th>\n",
       "      <th>Tags_Will revert after reading the email</th>\n",
       "      <th>Tags_switched off</th>\n",
       "      <th>Last_Notable_Activity_Email Opened</th>\n",
       "      <th>Last_Notable_Activity_Modified</th>\n",
       "      <th>Last_Notable_Activity_Page Visited on Website</th>\n",
       "      <th>Last_Notable_Activity_SMS Sent</th>\n",
       "    </tr>\n",
       "  </thead>\n",
       "  <tbody>\n",
       "    <tr>\n",
       "      <th>302</th>\n",
       "      <td>0</td>\n",
       "      <td>7.0</td>\n",
       "      <td>250</td>\n",
       "      <td>2.33</td>\n",
       "      <td>0</td>\n",
       "      <td>1</td>\n",
       "      <td>0</td>\n",
       "      <td>0</td>\n",
       "      <td>0</td>\n",
       "      <td>0</td>\n",
       "      <td>...</td>\n",
       "      <td>0</td>\n",
       "      <td>0</td>\n",
       "      <td>0</td>\n",
       "      <td>0</td>\n",
       "      <td>0</td>\n",
       "      <td>0</td>\n",
       "      <td>1</td>\n",
       "      <td>0</td>\n",
       "      <td>0</td>\n",
       "      <td>0</td>\n",
       "    </tr>\n",
       "    <tr>\n",
       "      <th>6087</th>\n",
       "      <td>1</td>\n",
       "      <td>0.0</td>\n",
       "      <td>0</td>\n",
       "      <td>0.00</td>\n",
       "      <td>0</td>\n",
       "      <td>1</td>\n",
       "      <td>0</td>\n",
       "      <td>0</td>\n",
       "      <td>0</td>\n",
       "      <td>0</td>\n",
       "      <td>...</td>\n",
       "      <td>0</td>\n",
       "      <td>0</td>\n",
       "      <td>0</td>\n",
       "      <td>0</td>\n",
       "      <td>0</td>\n",
       "      <td>0</td>\n",
       "      <td>0</td>\n",
       "      <td>1</td>\n",
       "      <td>0</td>\n",
       "      <td>0</td>\n",
       "    </tr>\n",
       "    <tr>\n",
       "      <th>1033</th>\n",
       "      <td>0</td>\n",
       "      <td>5.0</td>\n",
       "      <td>470</td>\n",
       "      <td>5.00</td>\n",
       "      <td>0</td>\n",
       "      <td>1</td>\n",
       "      <td>0</td>\n",
       "      <td>0</td>\n",
       "      <td>0</td>\n",
       "      <td>0</td>\n",
       "      <td>...</td>\n",
       "      <td>0</td>\n",
       "      <td>0</td>\n",
       "      <td>0</td>\n",
       "      <td>0</td>\n",
       "      <td>0</td>\n",
       "      <td>0</td>\n",
       "      <td>1</td>\n",
       "      <td>0</td>\n",
       "      <td>0</td>\n",
       "      <td>0</td>\n",
       "    </tr>\n",
       "    <tr>\n",
       "      <th>7656</th>\n",
       "      <td>1</td>\n",
       "      <td>6.0</td>\n",
       "      <td>352</td>\n",
       "      <td>6.00</td>\n",
       "      <td>1</td>\n",
       "      <td>0</td>\n",
       "      <td>1</td>\n",
       "      <td>0</td>\n",
       "      <td>0</td>\n",
       "      <td>0</td>\n",
       "      <td>...</td>\n",
       "      <td>0</td>\n",
       "      <td>0</td>\n",
       "      <td>0</td>\n",
       "      <td>1</td>\n",
       "      <td>0</td>\n",
       "      <td>0</td>\n",
       "      <td>0</td>\n",
       "      <td>0</td>\n",
       "      <td>0</td>\n",
       "      <td>1</td>\n",
       "    </tr>\n",
       "    <tr>\n",
       "      <th>3241</th>\n",
       "      <td>0</td>\n",
       "      <td>4.0</td>\n",
       "      <td>973</td>\n",
       "      <td>1.33</td>\n",
       "      <td>1</td>\n",
       "      <td>0</td>\n",
       "      <td>1</td>\n",
       "      <td>0</td>\n",
       "      <td>0</td>\n",
       "      <td>0</td>\n",
       "      <td>...</td>\n",
       "      <td>0</td>\n",
       "      <td>0</td>\n",
       "      <td>0</td>\n",
       "      <td>0</td>\n",
       "      <td>1</td>\n",
       "      <td>0</td>\n",
       "      <td>0</td>\n",
       "      <td>0</td>\n",
       "      <td>0</td>\n",
       "      <td>1</td>\n",
       "    </tr>\n",
       "  </tbody>\n",
       "</table>\n",
       "<p>5 rows × 52 columns</p>\n",
       "</div>"
      ],
      "text/plain": [
       "      Do Not Email  TotalVisits  Total Time Spent on Website  \\\n",
       "302              0          7.0                          250   \n",
       "6087             1          0.0                            0   \n",
       "1033             0          5.0                          470   \n",
       "7656             1          6.0                          352   \n",
       "3241             0          4.0                          973   \n",
       "\n",
       "      Page Views Per Visit  A free copy of Mastering The Interview  \\\n",
       "302                   2.33                                       0   \n",
       "6087                  0.00                                       0   \n",
       "1033                  5.00                                       0   \n",
       "7656                  6.00                                       1   \n",
       "3241                  1.33                                       1   \n",
       "\n",
       "      Lead_Origin_API  Lead_Origin_Landing Page Submission  \\\n",
       "302                 1                                    0   \n",
       "6087                1                                    0   \n",
       "1033                1                                    0   \n",
       "7656                0                                    1   \n",
       "3241                0                                    1   \n",
       "\n",
       "      Lead_Origin_Lead Add Form  Lead_Origin_Lead Import  \\\n",
       "302                           0                        0   \n",
       "6087                          0                        0   \n",
       "1033                          0                        0   \n",
       "7656                          0                        0   \n",
       "3241                          0                        0   \n",
       "\n",
       "      Lead_Origin_Quick Add Form  ...  Tags_Interested in other courses  \\\n",
       "302                            0  ...                                 0   \n",
       "6087                           0  ...                                 0   \n",
       "1033                           0  ...                                 0   \n",
       "7656                           0  ...                                 0   \n",
       "3241                           0  ...                                 0   \n",
       "\n",
       "      Tags_Lost to EINS  Tags_Other Tags  Tags_Ringing  \\\n",
       "302                   0                0             0   \n",
       "6087                  0                0             0   \n",
       "1033                  0                0             0   \n",
       "7656                  0                0             1   \n",
       "3241                  0                0             0   \n",
       "\n",
       "      Tags_Will revert after reading the email  Tags_switched off  \\\n",
       "302                                          0                  0   \n",
       "6087                                         0                  0   \n",
       "1033                                         0                  0   \n",
       "7656                                         0                  0   \n",
       "3241                                         1                  0   \n",
       "\n",
       "      Last_Notable_Activity_Email Opened  Last_Notable_Activity_Modified  \\\n",
       "302                                    1                               0   \n",
       "6087                                   0                               1   \n",
       "1033                                   1                               0   \n",
       "7656                                   0                               0   \n",
       "3241                                   0                               0   \n",
       "\n",
       "      Last_Notable_Activity_Page Visited on Website  \\\n",
       "302                                               0   \n",
       "6087                                              0   \n",
       "1033                                              0   \n",
       "7656                                              0   \n",
       "3241                                              0   \n",
       "\n",
       "      Last_Notable_Activity_SMS Sent  \n",
       "302                                0  \n",
       "6087                               0  \n",
       "1033                               0  \n",
       "7656                               1  \n",
       "3241                               1  \n",
       "\n",
       "[5 rows x 52 columns]"
      ]
     },
     "execution_count": 85,
     "metadata": {},
     "output_type": "execute_result"
    }
   ],
   "source": [
    "X_train.head()"
   ]
  },
  {
   "cell_type": "code",
   "execution_count": 86,
   "id": "64ddb2d9",
   "metadata": {},
   "outputs": [
    {
     "name": "stdout",
     "output_type": "stream",
     "text": [
      "<class 'pandas.core.frame.DataFrame'>\n",
      "Int64Index: 6363 entries, 302 to 5730\n",
      "Data columns (total 52 columns):\n",
      " #   Column                                            Non-Null Count  Dtype  \n",
      "---  ------                                            --------------  -----  \n",
      " 0   Do Not Email                                      6363 non-null   int64  \n",
      " 1   TotalVisits                                       6363 non-null   float64\n",
      " 2   Total Time Spent on Website                       6363 non-null   int64  \n",
      " 3   Page Views Per Visit                              6363 non-null   float64\n",
      " 4   A free copy of Mastering The Interview            6363 non-null   int64  \n",
      " 5   Lead_Origin_API                                   6363 non-null   uint8  \n",
      " 6   Lead_Origin_Landing Page Submission               6363 non-null   uint8  \n",
      " 7   Lead_Origin_Lead Add Form                         6363 non-null   uint8  \n",
      " 8   Lead_Origin_Lead Import                           6363 non-null   uint8  \n",
      " 9   Lead_Origin_Quick Add Form                        6363 non-null   uint8  \n",
      " 10  Lead_Source_Direct Traffic                        6363 non-null   uint8  \n",
      " 11  Lead_Source_Facebook                              6363 non-null   uint8  \n",
      " 12  Lead_Source_Google                                6363 non-null   uint8  \n",
      " 13  Lead_Source_Live Chat                             6363 non-null   uint8  \n",
      " 14  Lead_Source_Olark Chat                            6363 non-null   uint8  \n",
      " 15  Lead_Source_Organic Search                        6363 non-null   uint8  \n",
      " 16  Lead_Source_Reference                             6363 non-null   uint8  \n",
      " 17  Lead_Source_Referral Sites                        6363 non-null   uint8  \n",
      " 18  Lead_Source_Welingak Website                      6363 non-null   uint8  \n",
      " 19  Last_Activity_Converted to Lead                   6363 non-null   uint8  \n",
      " 20  Last_Activity_Email Bounced                       6363 non-null   uint8  \n",
      " 21  Last_Activity_Email Link Clicked                  6363 non-null   uint8  \n",
      " 22  Last_Activity_Email Opened                        6363 non-null   uint8  \n",
      " 23  Last_Activity_Form Submitted on Website           6363 non-null   uint8  \n",
      " 24  Last_Activity_Olark Chat Conversation             6363 non-null   uint8  \n",
      " 25  Last_Activity_Page Visited on Website             6363 non-null   uint8  \n",
      " 26  Last_Activity_SMS Sent                            6363 non-null   uint8  \n",
      " 27  Specialization_Banking, Investment And Insurance  6363 non-null   uint8  \n",
      " 28  Specialization_Business Administration            6363 non-null   uint8  \n",
      " 29  Specialization_Business Specialization            6363 non-null   uint8  \n",
      " 30  Specialization_E-COMMERCE                         6363 non-null   uint8  \n",
      " 31  Specialization_Management Specialization          6363 non-null   uint8  \n",
      " 32  Specialization_Media and Advertising              6363 non-null   uint8  \n",
      " 33  Specialization_Services Excellence                6363 non-null   uint8  \n",
      " 34  Specialization_Travel and Tourism                 6363 non-null   uint8  \n",
      " 35  Occupation_Student                                6363 non-null   uint8  \n",
      " 36  Occupation_Unemployed                             6363 non-null   uint8  \n",
      " 37  Occupation_Working Professional                   6363 non-null   uint8  \n",
      " 38  Occupation_not specified                          6363 non-null   uint8  \n",
      " 39  Tags_Already a student                            6363 non-null   uint8  \n",
      " 40  Tags_Busy                                         6363 non-null   uint8  \n",
      " 41  Tags_Closed by Horizzon                           6363 non-null   uint8  \n",
      " 42  Tags_Interested in other courses                  6363 non-null   uint8  \n",
      " 43  Tags_Lost to EINS                                 6363 non-null   uint8  \n",
      " 44  Tags_Other Tags                                   6363 non-null   uint8  \n",
      " 45  Tags_Ringing                                      6363 non-null   uint8  \n",
      " 46  Tags_Will revert after reading the email          6363 non-null   uint8  \n",
      " 47  Tags_switched off                                 6363 non-null   uint8  \n",
      " 48  Last_Notable_Activity_Email Opened                6363 non-null   uint8  \n",
      " 49  Last_Notable_Activity_Modified                    6363 non-null   uint8  \n",
      " 50  Last_Notable_Activity_Page Visited on Website     6363 non-null   uint8  \n",
      " 51  Last_Notable_Activity_SMS Sent                    6363 non-null   uint8  \n",
      "dtypes: float64(2), int64(3), uint8(47)\n",
      "memory usage: 590.3 KB\n"
     ]
    }
   ],
   "source": [
    "X_train.info()"
   ]
  },
  {
   "cell_type": "markdown",
   "id": "0ce9fa4a",
   "metadata": {},
   "source": [
    "## Feature Scaling"
   ]
  },
  {
   "cell_type": "code",
   "execution_count": 87,
   "id": "226cc3be",
   "metadata": {},
   "outputs": [],
   "source": [
    "scaler = StandardScaler()\n",
    "numeric_cols = ['TotalVisits', 'Total Time Spent on Website', 'Page Views Per Visit']\n",
    "X_train[numeric_cols] = scaler.fit_transform(X_train[numeric_cols])"
   ]
  },
  {
   "cell_type": "code",
   "execution_count": 88,
   "id": "bd60e8be",
   "metadata": {},
   "outputs": [
    {
     "data": {
      "text/html": [
       "<div>\n",
       "<style scoped>\n",
       "    .dataframe tbody tr th:only-of-type {\n",
       "        vertical-align: middle;\n",
       "    }\n",
       "\n",
       "    .dataframe tbody tr th {\n",
       "        vertical-align: top;\n",
       "    }\n",
       "\n",
       "    .dataframe thead th {\n",
       "        text-align: right;\n",
       "    }\n",
       "</style>\n",
       "<table border=\"1\" class=\"dataframe\">\n",
       "  <thead>\n",
       "    <tr style=\"text-align: right;\">\n",
       "      <th></th>\n",
       "      <th>Do Not Email</th>\n",
       "      <th>TotalVisits</th>\n",
       "      <th>Total Time Spent on Website</th>\n",
       "      <th>Page Views Per Visit</th>\n",
       "      <th>A free copy of Mastering The Interview</th>\n",
       "      <th>Lead_Origin_API</th>\n",
       "      <th>Lead_Origin_Landing Page Submission</th>\n",
       "      <th>Lead_Origin_Lead Add Form</th>\n",
       "      <th>Lead_Origin_Lead Import</th>\n",
       "      <th>Lead_Origin_Quick Add Form</th>\n",
       "      <th>...</th>\n",
       "      <th>Tags_Interested in other courses</th>\n",
       "      <th>Tags_Lost to EINS</th>\n",
       "      <th>Tags_Other Tags</th>\n",
       "      <th>Tags_Ringing</th>\n",
       "      <th>Tags_Will revert after reading the email</th>\n",
       "      <th>Tags_switched off</th>\n",
       "      <th>Last_Notable_Activity_Email Opened</th>\n",
       "      <th>Last_Notable_Activity_Modified</th>\n",
       "      <th>Last_Notable_Activity_Page Visited on Website</th>\n",
       "      <th>Last_Notable_Activity_SMS Sent</th>\n",
       "    </tr>\n",
       "  </thead>\n",
       "  <tbody>\n",
       "    <tr>\n",
       "      <th>302</th>\n",
       "      <td>0</td>\n",
       "      <td>1.336782</td>\n",
       "      <td>-0.428736</td>\n",
       "      <td>0.044021</td>\n",
       "      <td>0</td>\n",
       "      <td>1</td>\n",
       "      <td>0</td>\n",
       "      <td>0</td>\n",
       "      <td>0</td>\n",
       "      <td>0</td>\n",
       "      <td>...</td>\n",
       "      <td>0</td>\n",
       "      <td>0</td>\n",
       "      <td>0</td>\n",
       "      <td>0</td>\n",
       "      <td>0</td>\n",
       "      <td>0</td>\n",
       "      <td>1</td>\n",
       "      <td>0</td>\n",
       "      <td>0</td>\n",
       "      <td>0</td>\n",
       "    </tr>\n",
       "    <tr>\n",
       "      <th>6087</th>\n",
       "      <td>1</td>\n",
       "      <td>-1.094877</td>\n",
       "      <td>-0.887355</td>\n",
       "      <td>-1.206716</td>\n",
       "      <td>0</td>\n",
       "      <td>1</td>\n",
       "      <td>0</td>\n",
       "      <td>0</td>\n",
       "      <td>0</td>\n",
       "      <td>0</td>\n",
       "      <td>...</td>\n",
       "      <td>0</td>\n",
       "      <td>0</td>\n",
       "      <td>0</td>\n",
       "      <td>0</td>\n",
       "      <td>0</td>\n",
       "      <td>0</td>\n",
       "      <td>0</td>\n",
       "      <td>1</td>\n",
       "      <td>0</td>\n",
       "      <td>0</td>\n",
       "    </tr>\n",
       "    <tr>\n",
       "      <th>1033</th>\n",
       "      <td>0</td>\n",
       "      <td>0.642022</td>\n",
       "      <td>-0.025151</td>\n",
       "      <td>1.477269</td>\n",
       "      <td>0</td>\n",
       "      <td>1</td>\n",
       "      <td>0</td>\n",
       "      <td>0</td>\n",
       "      <td>0</td>\n",
       "      <td>0</td>\n",
       "      <td>...</td>\n",
       "      <td>0</td>\n",
       "      <td>0</td>\n",
       "      <td>0</td>\n",
       "      <td>0</td>\n",
       "      <td>0</td>\n",
       "      <td>0</td>\n",
       "      <td>1</td>\n",
       "      <td>0</td>\n",
       "      <td>0</td>\n",
       "      <td>0</td>\n",
       "    </tr>\n",
       "    <tr>\n",
       "      <th>7656</th>\n",
       "      <td>1</td>\n",
       "      <td>0.989402</td>\n",
       "      <td>-0.241619</td>\n",
       "      <td>2.014065</td>\n",
       "      <td>1</td>\n",
       "      <td>0</td>\n",
       "      <td>1</td>\n",
       "      <td>0</td>\n",
       "      <td>0</td>\n",
       "      <td>0</td>\n",
       "      <td>...</td>\n",
       "      <td>0</td>\n",
       "      <td>0</td>\n",
       "      <td>0</td>\n",
       "      <td>1</td>\n",
       "      <td>0</td>\n",
       "      <td>0</td>\n",
       "      <td>0</td>\n",
       "      <td>0</td>\n",
       "      <td>0</td>\n",
       "      <td>1</td>\n",
       "    </tr>\n",
       "    <tr>\n",
       "      <th>3241</th>\n",
       "      <td>0</td>\n",
       "      <td>0.294642</td>\n",
       "      <td>0.897591</td>\n",
       "      <td>-0.492776</td>\n",
       "      <td>1</td>\n",
       "      <td>0</td>\n",
       "      <td>1</td>\n",
       "      <td>0</td>\n",
       "      <td>0</td>\n",
       "      <td>0</td>\n",
       "      <td>...</td>\n",
       "      <td>0</td>\n",
       "      <td>0</td>\n",
       "      <td>0</td>\n",
       "      <td>0</td>\n",
       "      <td>1</td>\n",
       "      <td>0</td>\n",
       "      <td>0</td>\n",
       "      <td>0</td>\n",
       "      <td>0</td>\n",
       "      <td>1</td>\n",
       "    </tr>\n",
       "  </tbody>\n",
       "</table>\n",
       "<p>5 rows × 52 columns</p>\n",
       "</div>"
      ],
      "text/plain": [
       "      Do Not Email  TotalVisits  Total Time Spent on Website  \\\n",
       "302              0     1.336782                    -0.428736   \n",
       "6087             1    -1.094877                    -0.887355   \n",
       "1033             0     0.642022                    -0.025151   \n",
       "7656             1     0.989402                    -0.241619   \n",
       "3241             0     0.294642                     0.897591   \n",
       "\n",
       "      Page Views Per Visit  A free copy of Mastering The Interview  \\\n",
       "302               0.044021                                       0   \n",
       "6087             -1.206716                                       0   \n",
       "1033              1.477269                                       0   \n",
       "7656              2.014065                                       1   \n",
       "3241             -0.492776                                       1   \n",
       "\n",
       "      Lead_Origin_API  Lead_Origin_Landing Page Submission  \\\n",
       "302                 1                                    0   \n",
       "6087                1                                    0   \n",
       "1033                1                                    0   \n",
       "7656                0                                    1   \n",
       "3241                0                                    1   \n",
       "\n",
       "      Lead_Origin_Lead Add Form  Lead_Origin_Lead Import  \\\n",
       "302                           0                        0   \n",
       "6087                          0                        0   \n",
       "1033                          0                        0   \n",
       "7656                          0                        0   \n",
       "3241                          0                        0   \n",
       "\n",
       "      Lead_Origin_Quick Add Form  ...  Tags_Interested in other courses  \\\n",
       "302                            0  ...                                 0   \n",
       "6087                           0  ...                                 0   \n",
       "1033                           0  ...                                 0   \n",
       "7656                           0  ...                                 0   \n",
       "3241                           0  ...                                 0   \n",
       "\n",
       "      Tags_Lost to EINS  Tags_Other Tags  Tags_Ringing  \\\n",
       "302                   0                0             0   \n",
       "6087                  0                0             0   \n",
       "1033                  0                0             0   \n",
       "7656                  0                0             1   \n",
       "3241                  0                0             0   \n",
       "\n",
       "      Tags_Will revert after reading the email  Tags_switched off  \\\n",
       "302                                          0                  0   \n",
       "6087                                         0                  0   \n",
       "1033                                         0                  0   \n",
       "7656                                         0                  0   \n",
       "3241                                         1                  0   \n",
       "\n",
       "      Last_Notable_Activity_Email Opened  Last_Notable_Activity_Modified  \\\n",
       "302                                    1                               0   \n",
       "6087                                   0                               1   \n",
       "1033                                   1                               0   \n",
       "7656                                   0                               0   \n",
       "3241                                   0                               0   \n",
       "\n",
       "      Last_Notable_Activity_Page Visited on Website  \\\n",
       "302                                               0   \n",
       "6087                                              0   \n",
       "1033                                              0   \n",
       "7656                                              0   \n",
       "3241                                              0   \n",
       "\n",
       "      Last_Notable_Activity_SMS Sent  \n",
       "302                                0  \n",
       "6087                               0  \n",
       "1033                               0  \n",
       "7656                               1  \n",
       "3241                               1  \n",
       "\n",
       "[5 rows x 52 columns]"
      ]
     },
     "execution_count": 88,
     "metadata": {},
     "output_type": "execute_result"
    }
   ],
   "source": [
    "X_train.head()"
   ]
  },
  {
   "cell_type": "markdown",
   "id": "ee568910",
   "metadata": {},
   "source": [
    "## Model Building"
   ]
  },
  {
   "cell_type": "markdown",
   "id": "0b2557f3",
   "metadata": {},
   "source": [
    "### 1st Model"
   ]
  },
  {
   "cell_type": "code",
   "execution_count": 89,
   "id": "9e501fce",
   "metadata": {},
   "outputs": [
    {
     "data": {
      "text/html": [
       "<table class=\"simpletable\">\n",
       "<caption>Generalized Linear Model Regression Results</caption>\n",
       "<tr>\n",
       "  <th>Dep. Variable:</th>       <td>Converted</td>    <th>  No. Observations:  </th>  <td>  6363</td> \n",
       "</tr>\n",
       "<tr>\n",
       "  <th>Model:</th>                  <td>GLM</td>       <th>  Df Residuals:      </th>  <td>  6311</td> \n",
       "</tr>\n",
       "<tr>\n",
       "  <th>Model Family:</th>        <td>Binomial</td>     <th>  Df Model:          </th>  <td>    51</td> \n",
       "</tr>\n",
       "<tr>\n",
       "  <th>Link Function:</th>         <td>Logit</td>      <th>  Scale:             </th> <td>  1.0000</td>\n",
       "</tr>\n",
       "<tr>\n",
       "  <th>Method:</th>                <td>IRLS</td>       <th>  Log-Likelihood:    </th> <td>     nan</td>\n",
       "</tr>\n",
       "<tr>\n",
       "  <th>Date:</th>            <td>Sun, 22 Jan 2023</td> <th>  Deviance:          </th> <td>  77735.</td>\n",
       "</tr>\n",
       "<tr>\n",
       "  <th>Time:</th>                <td>23:22:53</td>     <th>  Pearson chi2:      </th> <td>3.80e+18</td>\n",
       "</tr>\n",
       "<tr>\n",
       "  <th>No. Iterations:</th>         <td>100</td>       <th>  Pseudo R-squ. (CS):</th>  <td>   nan</td> \n",
       "</tr>\n",
       "<tr>\n",
       "  <th>Covariance Type:</th>     <td>nonrobust</td>    <th>                     </th>     <td> </td>   \n",
       "</tr>\n",
       "</table>\n",
       "<table class=\"simpletable\">\n",
       "<tr>\n",
       "                          <td></td>                            <th>coef</th>     <th>std err</th>      <th>z</th>      <th>P>|z|</th>  <th>[0.025</th>    <th>0.975]</th>  \n",
       "</tr>\n",
       "<tr>\n",
       "  <th>const</th>                                            <td> 7.091e+14</td> <td> 2.11e+07</td> <td> 3.36e+07</td> <td> 0.000</td> <td> 7.09e+14</td> <td> 7.09e+14</td>\n",
       "</tr>\n",
       "<tr>\n",
       "  <th>Do Not Email</th>                                     <td>-3.714e+14</td> <td> 4.24e+06</td> <td>-8.76e+07</td> <td> 0.000</td> <td>-3.71e+14</td> <td>-3.71e+14</td>\n",
       "</tr>\n",
       "<tr>\n",
       "  <th>TotalVisits</th>                                      <td> 7.768e+13</td> <td> 1.31e+06</td> <td> 5.92e+07</td> <td> 0.000</td> <td> 7.77e+13</td> <td> 7.77e+13</td>\n",
       "</tr>\n",
       "<tr>\n",
       "  <th>Total Time Spent on Website</th>                      <td> 3.621e+14</td> <td> 1.02e+06</td> <td> 3.56e+08</td> <td> 0.000</td> <td> 3.62e+14</td> <td> 3.62e+14</td>\n",
       "</tr>\n",
       "<tr>\n",
       "  <th>Page Views Per Visit</th>                             <td>-1.006e+14</td> <td> 1.43e+06</td> <td>-7.05e+07</td> <td> 0.000</td> <td>-1.01e+14</td> <td>-1.01e+14</td>\n",
       "</tr>\n",
       "<tr>\n",
       "  <th>A free copy of Mastering The Interview</th>           <td> -6.26e+13</td> <td> 2.71e+06</td> <td>-2.31e+07</td> <td> 0.000</td> <td>-6.26e+13</td> <td>-6.26e+13</td>\n",
       "</tr>\n",
       "<tr>\n",
       "  <th>Lead_Origin_API</th>                                  <td>-9.663e+14</td> <td>  1.7e+07</td> <td>-5.68e+07</td> <td> 0.000</td> <td>-9.66e+14</td> <td>-9.66e+14</td>\n",
       "</tr>\n",
       "<tr>\n",
       "  <th>Lead_Origin_Landing Page Submission</th>              <td>-1.105e+15</td> <td>  1.7e+07</td> <td>-6.49e+07</td> <td> 0.000</td> <td>-1.11e+15</td> <td>-1.11e+15</td>\n",
       "</tr>\n",
       "<tr>\n",
       "  <th>Lead_Origin_Lead Add Form</th>                        <td>-3.013e+14</td> <td> 2.01e+07</td> <td> -1.5e+07</td> <td> 0.000</td> <td>-3.01e+14</td> <td>-3.01e+14</td>\n",
       "</tr>\n",
       "<tr>\n",
       "  <th>Lead_Origin_Lead Import</th>                          <td> -4.86e+14</td> <td> 3.72e+07</td> <td>-1.31e+07</td> <td> 0.000</td> <td>-4.86e+14</td> <td>-4.86e+14</td>\n",
       "</tr>\n",
       "<tr>\n",
       "  <th>Lead_Origin_Quick Add Form</th>                       <td> 3.568e+15</td> <td>  5.8e+07</td> <td> 6.15e+07</td> <td> 0.000</td> <td> 3.57e+15</td> <td> 3.57e+15</td>\n",
       "</tr>\n",
       "<tr>\n",
       "  <th>Lead_Source_Direct Traffic</th>                       <td>-1.656e+14</td> <td> 2.05e+07</td> <td>-8.09e+06</td> <td> 0.000</td> <td>-1.66e+14</td> <td>-1.66e+14</td>\n",
       "</tr>\n",
       "<tr>\n",
       "  <th>Lead_Source_Facebook</th>                             <td>-8.351e+14</td> <td>  4.4e+07</td> <td> -1.9e+07</td> <td> 0.000</td> <td>-8.35e+14</td> <td>-8.35e+14</td>\n",
       "</tr>\n",
       "<tr>\n",
       "  <th>Lead_Source_Google</th>                               <td>-6.975e+13</td> <td> 2.04e+07</td> <td>-3.42e+06</td> <td> 0.000</td> <td>-6.98e+13</td> <td>-6.98e+13</td>\n",
       "</tr>\n",
       "<tr>\n",
       "  <th>Lead_Source_Live Chat</th>                            <td> 2.068e+15</td> <td> 4.94e+07</td> <td> 4.18e+07</td> <td> 0.000</td> <td> 2.07e+15</td> <td> 2.07e+15</td>\n",
       "</tr>\n",
       "<tr>\n",
       "  <th>Lead_Source_Olark Chat</th>                           <td> 2.161e+14</td> <td> 2.05e+07</td> <td> 1.05e+07</td> <td> 0.000</td> <td> 2.16e+14</td> <td> 2.16e+14</td>\n",
       "</tr>\n",
       "<tr>\n",
       "  <th>Lead_Source_Organic Search</th>                       <td>-1.628e+14</td> <td> 2.06e+07</td> <td>-7.92e+06</td> <td> 0.000</td> <td>-1.63e+14</td> <td>-1.63e+14</td>\n",
       "</tr>\n",
       "<tr>\n",
       "  <th>Lead_Source_Reference</th>                            <td>-8.015e+14</td> <td> 1.44e+07</td> <td>-5.56e+07</td> <td> 0.000</td> <td>-8.02e+14</td> <td>-8.02e+14</td>\n",
       "</tr>\n",
       "<tr>\n",
       "  <th>Lead_Source_Referral Sites</th>                       <td>-1.804e+13</td> <td> 2.18e+07</td> <td>-8.27e+05</td> <td> 0.000</td> <td> -1.8e+13</td> <td> -1.8e+13</td>\n",
       "</tr>\n",
       "<tr>\n",
       "  <th>Lead_Source_Welingak Website</th>                     <td> 7.065e+14</td> <td> 1.54e+07</td> <td>  4.6e+07</td> <td> 0.000</td> <td> 7.07e+14</td> <td> 7.07e+14</td>\n",
       "</tr>\n",
       "<tr>\n",
       "  <th>Last_Activity_Converted to Lead</th>                  <td>-4.223e+14</td> <td> 6.69e+06</td> <td>-6.31e+07</td> <td> 0.000</td> <td>-4.22e+14</td> <td>-4.22e+14</td>\n",
       "</tr>\n",
       "<tr>\n",
       "  <th>Last_Activity_Email Bounced</th>                      <td>-4.196e+14</td> <td> 7.37e+06</td> <td>-5.69e+07</td> <td> 0.000</td> <td> -4.2e+14</td> <td> -4.2e+14</td>\n",
       "</tr>\n",
       "<tr>\n",
       "  <th>Last_Activity_Email Link Clicked</th>                 <td>-1.259e+14</td> <td> 7.17e+06</td> <td>-1.76e+07</td> <td> 0.000</td> <td>-1.26e+14</td> <td>-1.26e+14</td>\n",
       "</tr>\n",
       "<tr>\n",
       "  <th>Last_Activity_Email Opened</th>                       <td>-9.738e+13</td> <td> 6.08e+06</td> <td> -1.6e+07</td> <td> 0.000</td> <td>-9.74e+13</td> <td>-9.74e+13</td>\n",
       "</tr>\n",
       "<tr>\n",
       "  <th>Last_Activity_Form Submitted on Website</th>          <td> -1.59e+14</td> <td> 9.12e+06</td> <td>-1.74e+07</td> <td> 0.000</td> <td>-1.59e+14</td> <td>-1.59e+14</td>\n",
       "</tr>\n",
       "<tr>\n",
       "  <th>Last_Activity_Olark Chat Conversation</th>            <td>-6.164e+14</td> <td> 5.82e+06</td> <td>-1.06e+08</td> <td> 0.000</td> <td>-6.16e+14</td> <td>-6.16e+14</td>\n",
       "</tr>\n",
       "<tr>\n",
       "  <th>Last_Activity_Page Visited on Website</th>            <td>-1.649e+14</td> <td>  6.8e+06</td> <td>-2.42e+07</td> <td> 0.000</td> <td>-1.65e+14</td> <td>-1.65e+14</td>\n",
       "</tr>\n",
       "<tr>\n",
       "  <th>Last_Activity_SMS Sent</th>                           <td> 2.643e+14</td> <td> 6.06e+06</td> <td> 4.36e+07</td> <td> 0.000</td> <td> 2.64e+14</td> <td> 2.64e+14</td>\n",
       "</tr>\n",
       "<tr>\n",
       "  <th>Specialization_Banking, Investment And Insurance</th> <td> 1.115e+14</td> <td> 5.36e+06</td> <td> 2.08e+07</td> <td> 0.000</td> <td> 1.12e+14</td> <td> 1.12e+14</td>\n",
       "</tr>\n",
       "<tr>\n",
       "  <th>Specialization_Business Administration</th>           <td> 7.502e+13</td> <td> 5.05e+06</td> <td> 1.49e+07</td> <td> 0.000</td> <td>  7.5e+13</td> <td>  7.5e+13</td>\n",
       "</tr>\n",
       "<tr>\n",
       "  <th>Specialization_Business Specialization</th>           <td> 1.031e+13</td> <td> 5.57e+06</td> <td> 1.85e+06</td> <td> 0.000</td> <td> 1.03e+13</td> <td> 1.03e+13</td>\n",
       "</tr>\n",
       "<tr>\n",
       "  <th>Specialization_E-COMMERCE</th>                        <td> 2.349e+14</td> <td> 8.45e+06</td> <td> 2.78e+07</td> <td> 0.000</td> <td> 2.35e+14</td> <td> 2.35e+14</td>\n",
       "</tr>\n",
       "<tr>\n",
       "  <th>Specialization_Management Specialization</th>         <td> 2.849e+13</td> <td> 3.27e+06</td> <td> 8.71e+06</td> <td> 0.000</td> <td> 2.85e+13</td> <td> 2.85e+13</td>\n",
       "</tr>\n",
       "<tr>\n",
       "  <th>Specialization_Media and Advertising</th>             <td> 2.931e+12</td> <td> 6.59e+06</td> <td> 4.45e+05</td> <td> 0.000</td> <td> 2.93e+12</td> <td> 2.93e+12</td>\n",
       "</tr>\n",
       "<tr>\n",
       "  <th>Specialization_Services Excellence</th>               <td>   1.1e+14</td> <td> 1.31e+07</td> <td>  8.4e+06</td> <td> 0.000</td> <td>  1.1e+14</td> <td>  1.1e+14</td>\n",
       "</tr>\n",
       "<tr>\n",
       "  <th>Specialization_Travel and Tourism</th>                <td>-2.166e+14</td> <td> 6.73e+06</td> <td>-3.22e+07</td> <td> 0.000</td> <td>-2.17e+14</td> <td>-2.17e+14</td>\n",
       "</tr>\n",
       "<tr>\n",
       "  <th>Occupation_Student</th>                               <td>-5.205e+14</td> <td> 1.51e+07</td> <td>-3.45e+07</td> <td> 0.000</td> <td>-5.21e+14</td> <td>-5.21e+14</td>\n",
       "</tr>\n",
       "<tr>\n",
       "  <th>Occupation_Unemployed</th>                            <td>-5.073e+14</td> <td> 1.39e+07</td> <td>-3.66e+07</td> <td> 0.000</td> <td>-5.07e+14</td> <td>-5.07e+14</td>\n",
       "</tr>\n",
       "<tr>\n",
       "  <th>Occupation_Working Professional</th>                  <td>-3.395e+14</td> <td> 1.41e+07</td> <td> -2.4e+07</td> <td> 0.000</td> <td>-3.39e+14</td> <td>-3.39e+14</td>\n",
       "</tr>\n",
       "<tr>\n",
       "  <th>Occupation_not specified</th>                         <td> 2.822e+14</td> <td> 1.42e+07</td> <td> 1.99e+07</td> <td> 0.000</td> <td> 2.82e+14</td> <td> 2.82e+14</td>\n",
       "</tr>\n",
       "<tr>\n",
       "  <th>Tags_Already a student</th>                           <td> 1.501e+14</td> <td> 5.09e+06</td> <td> 2.95e+07</td> <td> 0.000</td> <td>  1.5e+14</td> <td>  1.5e+14</td>\n",
       "</tr>\n",
       "<tr>\n",
       "  <th>Tags_Busy</th>                                        <td> 2.009e+15</td> <td> 6.72e+06</td> <td> 2.99e+08</td> <td> 0.000</td> <td> 2.01e+15</td> <td> 2.01e+15</td>\n",
       "</tr>\n",
       "<tr>\n",
       "  <th>Tags_Closed by Horizzon</th>                          <td> 1.687e+15</td> <td>  5.8e+06</td> <td> 2.91e+08</td> <td> 0.000</td> <td> 1.69e+15</td> <td> 1.69e+15</td>\n",
       "</tr>\n",
       "<tr>\n",
       "  <th>Tags_Interested in other courses</th>                 <td> 1.822e+14</td> <td> 4.79e+06</td> <td> 3.81e+07</td> <td> 0.000</td> <td> 1.82e+14</td> <td> 1.82e+14</td>\n",
       "</tr>\n",
       "<tr>\n",
       "  <th>Tags_Lost to EINS</th>                                <td>  1.84e+15</td> <td> 6.47e+06</td> <td> 2.84e+08</td> <td> 0.000</td> <td> 1.84e+15</td> <td> 1.84e+15</td>\n",
       "</tr>\n",
       "<tr>\n",
       "  <th>Tags_Other Tags</th>                                  <td> 2.554e+14</td> <td> 4.48e+06</td> <td>  5.7e+07</td> <td> 0.000</td> <td> 2.55e+14</td> <td> 2.55e+14</td>\n",
       "</tr>\n",
       "<tr>\n",
       "  <th>Tags_Ringing</th>                                     <td>-3.716e+14</td> <td> 3.93e+06</td> <td>-9.46e+07</td> <td> 0.000</td> <td>-3.72e+14</td> <td>-3.72e+14</td>\n",
       "</tr>\n",
       "<tr>\n",
       "  <th>Tags_Will revert after reading the email</th>         <td> 1.173e+15</td> <td> 3.76e+06</td> <td> 3.13e+08</td> <td> 0.000</td> <td> 1.17e+15</td> <td> 1.17e+15</td>\n",
       "</tr>\n",
       "<tr>\n",
       "  <th>Tags_switched off</th>                                <td>-6.425e+14</td> <td> 6.01e+06</td> <td>-1.07e+08</td> <td> 0.000</td> <td>-6.42e+14</td> <td>-6.42e+14</td>\n",
       "</tr>\n",
       "<tr>\n",
       "  <th>Last_Notable_Activity_Email Opened</th>               <td> 1.768e+14</td> <td> 5.79e+06</td> <td> 3.05e+07</td> <td> 0.000</td> <td> 1.77e+14</td> <td> 1.77e+14</td>\n",
       "</tr>\n",
       "<tr>\n",
       "  <th>Last_Notable_Activity_Modified</th>                   <td>-1.067e+14</td> <td> 4.52e+06</td> <td>-2.36e+07</td> <td> 0.000</td> <td>-1.07e+14</td> <td>-1.07e+14</td>\n",
       "</tr>\n",
       "<tr>\n",
       "  <th>Last_Notable_Activity_Page Visited on Website</th>    <td> 8.781e+13</td> <td> 7.94e+06</td> <td> 1.11e+07</td> <td> 0.000</td> <td> 8.78e+13</td> <td> 8.78e+13</td>\n",
       "</tr>\n",
       "<tr>\n",
       "  <th>Last_Notable_Activity_SMS Sent</th>                   <td> 8.578e+14</td> <td> 5.96e+06</td> <td> 1.44e+08</td> <td> 0.000</td> <td> 8.58e+14</td> <td> 8.58e+14</td>\n",
       "</tr>\n",
       "</table>"
      ],
      "text/plain": [
       "<class 'statsmodels.iolib.summary.Summary'>\n",
       "\"\"\"\n",
       "                 Generalized Linear Model Regression Results                  \n",
       "==============================================================================\n",
       "Dep. Variable:              Converted   No. Observations:                 6363\n",
       "Model:                            GLM   Df Residuals:                     6311\n",
       "Model Family:                Binomial   Df Model:                           51\n",
       "Link Function:                  Logit   Scale:                          1.0000\n",
       "Method:                          IRLS   Log-Likelihood:                    nan\n",
       "Date:                Sun, 22 Jan 2023   Deviance:                       77735.\n",
       "Time:                        23:22:53   Pearson chi2:                 3.80e+18\n",
       "No. Iterations:                   100   Pseudo R-squ. (CS):                nan\n",
       "Covariance Type:            nonrobust                                         \n",
       "====================================================================================================================\n",
       "                                                       coef    std err          z      P>|z|      [0.025      0.975]\n",
       "--------------------------------------------------------------------------------------------------------------------\n",
       "const                                             7.091e+14   2.11e+07   3.36e+07      0.000    7.09e+14    7.09e+14\n",
       "Do Not Email                                     -3.714e+14   4.24e+06  -8.76e+07      0.000   -3.71e+14   -3.71e+14\n",
       "TotalVisits                                       7.768e+13   1.31e+06   5.92e+07      0.000    7.77e+13    7.77e+13\n",
       "Total Time Spent on Website                       3.621e+14   1.02e+06   3.56e+08      0.000    3.62e+14    3.62e+14\n",
       "Page Views Per Visit                             -1.006e+14   1.43e+06  -7.05e+07      0.000   -1.01e+14   -1.01e+14\n",
       "A free copy of Mastering The Interview            -6.26e+13   2.71e+06  -2.31e+07      0.000   -6.26e+13   -6.26e+13\n",
       "Lead_Origin_API                                  -9.663e+14    1.7e+07  -5.68e+07      0.000   -9.66e+14   -9.66e+14\n",
       "Lead_Origin_Landing Page Submission              -1.105e+15    1.7e+07  -6.49e+07      0.000   -1.11e+15   -1.11e+15\n",
       "Lead_Origin_Lead Add Form                        -3.013e+14   2.01e+07   -1.5e+07      0.000   -3.01e+14   -3.01e+14\n",
       "Lead_Origin_Lead Import                           -4.86e+14   3.72e+07  -1.31e+07      0.000   -4.86e+14   -4.86e+14\n",
       "Lead_Origin_Quick Add Form                        3.568e+15    5.8e+07   6.15e+07      0.000    3.57e+15    3.57e+15\n",
       "Lead_Source_Direct Traffic                       -1.656e+14   2.05e+07  -8.09e+06      0.000   -1.66e+14   -1.66e+14\n",
       "Lead_Source_Facebook                             -8.351e+14    4.4e+07   -1.9e+07      0.000   -8.35e+14   -8.35e+14\n",
       "Lead_Source_Google                               -6.975e+13   2.04e+07  -3.42e+06      0.000   -6.98e+13   -6.98e+13\n",
       "Lead_Source_Live Chat                             2.068e+15   4.94e+07   4.18e+07      0.000    2.07e+15    2.07e+15\n",
       "Lead_Source_Olark Chat                            2.161e+14   2.05e+07   1.05e+07      0.000    2.16e+14    2.16e+14\n",
       "Lead_Source_Organic Search                       -1.628e+14   2.06e+07  -7.92e+06      0.000   -1.63e+14   -1.63e+14\n",
       "Lead_Source_Reference                            -8.015e+14   1.44e+07  -5.56e+07      0.000   -8.02e+14   -8.02e+14\n",
       "Lead_Source_Referral Sites                       -1.804e+13   2.18e+07  -8.27e+05      0.000    -1.8e+13    -1.8e+13\n",
       "Lead_Source_Welingak Website                      7.065e+14   1.54e+07    4.6e+07      0.000    7.07e+14    7.07e+14\n",
       "Last_Activity_Converted to Lead                  -4.223e+14   6.69e+06  -6.31e+07      0.000   -4.22e+14   -4.22e+14\n",
       "Last_Activity_Email Bounced                      -4.196e+14   7.37e+06  -5.69e+07      0.000    -4.2e+14    -4.2e+14\n",
       "Last_Activity_Email Link Clicked                 -1.259e+14   7.17e+06  -1.76e+07      0.000   -1.26e+14   -1.26e+14\n",
       "Last_Activity_Email Opened                       -9.738e+13   6.08e+06   -1.6e+07      0.000   -9.74e+13   -9.74e+13\n",
       "Last_Activity_Form Submitted on Website           -1.59e+14   9.12e+06  -1.74e+07      0.000   -1.59e+14   -1.59e+14\n",
       "Last_Activity_Olark Chat Conversation            -6.164e+14   5.82e+06  -1.06e+08      0.000   -6.16e+14   -6.16e+14\n",
       "Last_Activity_Page Visited on Website            -1.649e+14    6.8e+06  -2.42e+07      0.000   -1.65e+14   -1.65e+14\n",
       "Last_Activity_SMS Sent                            2.643e+14   6.06e+06   4.36e+07      0.000    2.64e+14    2.64e+14\n",
       "Specialization_Banking, Investment And Insurance  1.115e+14   5.36e+06   2.08e+07      0.000    1.12e+14    1.12e+14\n",
       "Specialization_Business Administration            7.502e+13   5.05e+06   1.49e+07      0.000     7.5e+13     7.5e+13\n",
       "Specialization_Business Specialization            1.031e+13   5.57e+06   1.85e+06      0.000    1.03e+13    1.03e+13\n",
       "Specialization_E-COMMERCE                         2.349e+14   8.45e+06   2.78e+07      0.000    2.35e+14    2.35e+14\n",
       "Specialization_Management Specialization          2.849e+13   3.27e+06   8.71e+06      0.000    2.85e+13    2.85e+13\n",
       "Specialization_Media and Advertising              2.931e+12   6.59e+06   4.45e+05      0.000    2.93e+12    2.93e+12\n",
       "Specialization_Services Excellence                  1.1e+14   1.31e+07    8.4e+06      0.000     1.1e+14     1.1e+14\n",
       "Specialization_Travel and Tourism                -2.166e+14   6.73e+06  -3.22e+07      0.000   -2.17e+14   -2.17e+14\n",
       "Occupation_Student                               -5.205e+14   1.51e+07  -3.45e+07      0.000   -5.21e+14   -5.21e+14\n",
       "Occupation_Unemployed                            -5.073e+14   1.39e+07  -3.66e+07      0.000   -5.07e+14   -5.07e+14\n",
       "Occupation_Working Professional                  -3.395e+14   1.41e+07   -2.4e+07      0.000   -3.39e+14   -3.39e+14\n",
       "Occupation_not specified                          2.822e+14   1.42e+07   1.99e+07      0.000    2.82e+14    2.82e+14\n",
       "Tags_Already a student                            1.501e+14   5.09e+06   2.95e+07      0.000     1.5e+14     1.5e+14\n",
       "Tags_Busy                                         2.009e+15   6.72e+06   2.99e+08      0.000    2.01e+15    2.01e+15\n",
       "Tags_Closed by Horizzon                           1.687e+15    5.8e+06   2.91e+08      0.000    1.69e+15    1.69e+15\n",
       "Tags_Interested in other courses                  1.822e+14   4.79e+06   3.81e+07      0.000    1.82e+14    1.82e+14\n",
       "Tags_Lost to EINS                                  1.84e+15   6.47e+06   2.84e+08      0.000    1.84e+15    1.84e+15\n",
       "Tags_Other Tags                                   2.554e+14   4.48e+06    5.7e+07      0.000    2.55e+14    2.55e+14\n",
       "Tags_Ringing                                     -3.716e+14   3.93e+06  -9.46e+07      0.000   -3.72e+14   -3.72e+14\n",
       "Tags_Will revert after reading the email          1.173e+15   3.76e+06   3.13e+08      0.000    1.17e+15    1.17e+15\n",
       "Tags_switched off                                -6.425e+14   6.01e+06  -1.07e+08      0.000   -6.42e+14   -6.42e+14\n",
       "Last_Notable_Activity_Email Opened                1.768e+14   5.79e+06   3.05e+07      0.000    1.77e+14    1.77e+14\n",
       "Last_Notable_Activity_Modified                   -1.067e+14   4.52e+06  -2.36e+07      0.000   -1.07e+14   -1.07e+14\n",
       "Last_Notable_Activity_Page Visited on Website     8.781e+13   7.94e+06   1.11e+07      0.000    8.78e+13    8.78e+13\n",
       "Last_Notable_Activity_SMS Sent                    8.578e+14   5.96e+06   1.44e+08      0.000    8.58e+14    8.58e+14\n",
       "====================================================================================================================\n",
       "\"\"\""
      ]
     },
     "execution_count": 89,
     "metadata": {},
     "output_type": "execute_result"
    }
   ],
   "source": [
    "##Building a model using statsmodels\n",
    "lgrm1 = sm.GLM(y_train,(sm.add_constant(X_train)), family = sm.families.Binomial())\n",
    "lgrm1.fit().summary()"
   ]
  },
  {
   "cell_type": "markdown",
   "id": "f12d3b99",
   "metadata": {},
   "source": [
    "## Using RFE for features selection"
   ]
  },
  {
   "cell_type": "code",
   "execution_count": 90,
   "id": "5c834f4d",
   "metadata": {},
   "outputs": [],
   "source": [
    "#LogisticRegression\n",
    "logreg = LogisticRegression()\n",
    "#running RFE with 15 variables as output\n",
    "rfe = RFE(logreg,n_features_to_select=20)   \n",
    "rfe = rfe.fit(X_train, y_train)"
   ]
  },
  {
   "cell_type": "code",
   "execution_count": 91,
   "id": "1da2c21c",
   "metadata": {},
   "outputs": [
    {
     "data": {
      "text/plain": [
       "array([ True, False,  True, False, False, False, False,  True, False,\n",
       "       False, False, False, False, False,  True, False, False, False,\n",
       "        True, False,  True, False, False, False,  True, False,  True,\n",
       "       False, False, False, False, False, False, False, False, False,\n",
       "       False, False,  True,  True,  True,  True,  True,  True,  True,\n",
       "        True,  True,  True, False,  True, False,  True])"
      ]
     },
     "execution_count": 91,
     "metadata": {},
     "output_type": "execute_result"
    }
   ],
   "source": [
    "rfe.support_"
   ]
  },
  {
   "cell_type": "code",
   "execution_count": 92,
   "id": "5dc8e488",
   "metadata": {},
   "outputs": [
    {
     "data": {
      "text/plain": [
       "[('Do Not Email', True, 1),\n",
       " ('TotalVisits', False, 21),\n",
       " ('Total Time Spent on Website', True, 1),\n",
       " ('Page Views Per Visit', False, 22),\n",
       " ('A free copy of Mastering The Interview', False, 19),\n",
       " ('Lead_Origin_API', False, 6),\n",
       " ('Lead_Origin_Landing Page Submission', False, 5),\n",
       " ('Lead_Origin_Lead Add Form', True, 1),\n",
       " ('Lead_Origin_Lead Import', False, 20),\n",
       " ('Lead_Origin_Quick Add Form', False, 25),\n",
       " ('Lead_Source_Direct Traffic', False, 14),\n",
       " ('Lead_Source_Facebook', False, 7),\n",
       " ('Lead_Source_Google', False, 15),\n",
       " ('Lead_Source_Live Chat', False, 32),\n",
       " ('Lead_Source_Olark Chat', True, 1),\n",
       " ('Lead_Source_Organic Search', False, 13),\n",
       " ('Lead_Source_Reference', False, 3),\n",
       " ('Lead_Source_Referral Sites', False, 16),\n",
       " ('Lead_Source_Welingak Website', True, 1),\n",
       " ('Last_Activity_Converted to Lead', False, 4),\n",
       " ('Last_Activity_Email Bounced', True, 1),\n",
       " ('Last_Activity_Email Link Clicked', False, 9),\n",
       " ('Last_Activity_Email Opened', False, 31),\n",
       " ('Last_Activity_Form Submitted on Website', False, 23),\n",
       " ('Last_Activity_Olark Chat Conversation', True, 1),\n",
       " ('Last_Activity_Page Visited on Website', False, 11),\n",
       " ('Last_Activity_SMS Sent', True, 1),\n",
       " ('Specialization_Banking, Investment And Insurance', False, 27),\n",
       " ('Specialization_Business Administration', False, 24),\n",
       " ('Specialization_Business Specialization', False, 30),\n",
       " ('Specialization_E-COMMERCE', False, 10),\n",
       " ('Specialization_Management Specialization', False, 29),\n",
       " ('Specialization_Media and Advertising', False, 33),\n",
       " ('Specialization_Services Excellence', False, 28),\n",
       " ('Specialization_Travel and Tourism', False, 2),\n",
       " ('Occupation_Student', False, 18),\n",
       " ('Occupation_Unemployed', False, 26),\n",
       " ('Occupation_Working Professional', False, 8),\n",
       " ('Occupation_not specified', True, 1),\n",
       " ('Tags_Already a student', True, 1),\n",
       " ('Tags_Busy', True, 1),\n",
       " ('Tags_Closed by Horizzon', True, 1),\n",
       " ('Tags_Interested in other courses', True, 1),\n",
       " ('Tags_Lost to EINS', True, 1),\n",
       " ('Tags_Other Tags', True, 1),\n",
       " ('Tags_Ringing', True, 1),\n",
       " ('Tags_Will revert after reading the email', True, 1),\n",
       " ('Tags_switched off', True, 1),\n",
       " ('Last_Notable_Activity_Email Opened', False, 17),\n",
       " ('Last_Notable_Activity_Modified', True, 1),\n",
       " ('Last_Notable_Activity_Page Visited on Website', False, 12),\n",
       " ('Last_Notable_Activity_SMS Sent', True, 1)]"
      ]
     },
     "execution_count": 92,
     "metadata": {},
     "output_type": "execute_result"
    }
   ],
   "source": [
    "list(zip(X_train.columns, rfe.support_, rfe.ranking_))"
   ]
  },
  {
   "cell_type": "code",
   "execution_count": 93,
   "id": "26c88b79",
   "metadata": {},
   "outputs": [
    {
     "data": {
      "text/plain": [
       "Index(['Do Not Email', 'Total Time Spent on Website',\n",
       "       'Lead_Origin_Lead Add Form', 'Lead_Source_Olark Chat',\n",
       "       'Lead_Source_Welingak Website', 'Last_Activity_Email Bounced',\n",
       "       'Last_Activity_Olark Chat Conversation', 'Last_Activity_SMS Sent',\n",
       "       'Occupation_not specified', 'Tags_Already a student', 'Tags_Busy',\n",
       "       'Tags_Closed by Horizzon', 'Tags_Interested in other courses',\n",
       "       'Tags_Lost to EINS', 'Tags_Other Tags', 'Tags_Ringing',\n",
       "       'Tags_Will revert after reading the email', 'Tags_switched off',\n",
       "       'Last_Notable_Activity_Modified', 'Last_Notable_Activity_SMS Sent'],\n",
       "      dtype='object')"
      ]
     },
     "execution_count": 93,
     "metadata": {},
     "output_type": "execute_result"
    }
   ],
   "source": [
    "#Variables selected with RFE\n",
    "cols = X_train.columns[rfe.support_]\n",
    "cols"
   ]
  },
  {
   "cell_type": "code",
   "execution_count": 94,
   "id": "e6141ca2",
   "metadata": {},
   "outputs": [
    {
     "data": {
      "text/plain": [
       "Index(['TotalVisits', 'Page Views Per Visit',\n",
       "       'A free copy of Mastering The Interview', 'Lead_Origin_API',\n",
       "       'Lead_Origin_Landing Page Submission', 'Lead_Origin_Lead Import',\n",
       "       'Lead_Origin_Quick Add Form', 'Lead_Source_Direct Traffic',\n",
       "       'Lead_Source_Facebook', 'Lead_Source_Google', 'Lead_Source_Live Chat',\n",
       "       'Lead_Source_Organic Search', 'Lead_Source_Reference',\n",
       "       'Lead_Source_Referral Sites', 'Last_Activity_Converted to Lead',\n",
       "       'Last_Activity_Email Link Clicked', 'Last_Activity_Email Opened',\n",
       "       'Last_Activity_Form Submitted on Website',\n",
       "       'Last_Activity_Page Visited on Website',\n",
       "       'Specialization_Banking, Investment And Insurance',\n",
       "       'Specialization_Business Administration',\n",
       "       'Specialization_Business Specialization', 'Specialization_E-COMMERCE',\n",
       "       'Specialization_Management Specialization',\n",
       "       'Specialization_Media and Advertising',\n",
       "       'Specialization_Services Excellence',\n",
       "       'Specialization_Travel and Tourism', 'Occupation_Student',\n",
       "       'Occupation_Unemployed', 'Occupation_Working Professional',\n",
       "       'Last_Notable_Activity_Email Opened',\n",
       "       'Last_Notable_Activity_Page Visited on Website'],\n",
       "      dtype='object')"
      ]
     },
     "execution_count": 94,
     "metadata": {},
     "output_type": "execute_result"
    }
   ],
   "source": [
    "#Variables not selected\n",
    "X_train.columns[~rfe.support_]"
   ]
  },
  {
   "cell_type": "markdown",
   "id": "e34c7142",
   "metadata": {},
   "source": [
    "### Building 2nd Model"
   ]
  },
  {
   "cell_type": "code",
   "execution_count": 95,
   "id": "7c5e6067",
   "metadata": {},
   "outputs": [
    {
     "data": {
      "text/html": [
       "<table class=\"simpletable\">\n",
       "<caption>Generalized Linear Model Regression Results</caption>\n",
       "<tr>\n",
       "  <th>Dep. Variable:</th>       <td>Converted</td>    <th>  No. Observations:  </th>  <td>  6363</td> \n",
       "</tr>\n",
       "<tr>\n",
       "  <th>Model:</th>                  <td>GLM</td>       <th>  Df Residuals:      </th>  <td>  6342</td> \n",
       "</tr>\n",
       "<tr>\n",
       "  <th>Model Family:</th>        <td>Binomial</td>     <th>  Df Model:          </th>  <td>    20</td> \n",
       "</tr>\n",
       "<tr>\n",
       "  <th>Link Function:</th>         <td>Logit</td>      <th>  Scale:             </th> <td>  1.0000</td>\n",
       "</tr>\n",
       "<tr>\n",
       "  <th>Method:</th>                <td>IRLS</td>       <th>  Log-Likelihood:    </th> <td> -1077.6</td>\n",
       "</tr>\n",
       "<tr>\n",
       "  <th>Date:</th>            <td>Sun, 22 Jan 2023</td> <th>  Deviance:          </th> <td>  2155.3</td>\n",
       "</tr>\n",
       "<tr>\n",
       "  <th>Time:</th>                <td>23:22:55</td>     <th>  Pearson chi2:      </th> <td>1.03e+04</td>\n",
       "</tr>\n",
       "<tr>\n",
       "  <th>No. Iterations:</th>          <td>8</td>        <th>  Pseudo R-squ. (CS):</th>  <td>0.6288</td> \n",
       "</tr>\n",
       "<tr>\n",
       "  <th>Covariance Type:</th>     <td>nonrobust</td>    <th>                     </th>     <td> </td>   \n",
       "</tr>\n",
       "</table>\n",
       "<table class=\"simpletable\">\n",
       "<tr>\n",
       "                      <td></td>                        <th>coef</th>     <th>std err</th>      <th>z</th>      <th>P>|z|</th>  <th>[0.025</th>    <th>0.975]</th>  \n",
       "</tr>\n",
       "<tr>\n",
       "  <th>const</th>                                    <td>    0.0848</td> <td>    0.149</td> <td>    0.568</td> <td> 0.570</td> <td>   -0.208</td> <td>    0.378</td>\n",
       "</tr>\n",
       "<tr>\n",
       "  <th>Do Not Email</th>                             <td>   -0.7861</td> <td>    0.284</td> <td>   -2.770</td> <td> 0.006</td> <td>   -1.342</td> <td>   -0.230</td>\n",
       "</tr>\n",
       "<tr>\n",
       "  <th>Total Time Spent on Website</th>              <td>    1.0529</td> <td>    0.065</td> <td>   16.229</td> <td> 0.000</td> <td>    0.926</td> <td>    1.180</td>\n",
       "</tr>\n",
       "<tr>\n",
       "  <th>Lead_Origin_Lead Add Form</th>                <td>    1.3134</td> <td>    0.349</td> <td>    3.760</td> <td> 0.000</td> <td>    0.629</td> <td>    1.998</td>\n",
       "</tr>\n",
       "<tr>\n",
       "  <th>Lead_Source_Olark Chat</th>                   <td>    1.0539</td> <td>    0.166</td> <td>    6.366</td> <td> 0.000</td> <td>    0.729</td> <td>    1.378</td>\n",
       "</tr>\n",
       "<tr>\n",
       "  <th>Lead_Source_Welingak Website</th>             <td>    3.3165</td> <td>    1.086</td> <td>    3.055</td> <td> 0.002</td> <td>    1.189</td> <td>    5.444</td>\n",
       "</tr>\n",
       "<tr>\n",
       "  <th>Last_Activity_Email Bounced</th>              <td>   -1.3733</td> <td>    0.530</td> <td>   -2.593</td> <td> 0.010</td> <td>   -2.411</td> <td>   -0.335</td>\n",
       "</tr>\n",
       "<tr>\n",
       "  <th>Last_Activity_Olark Chat Conversation</th>    <td>   -0.8343</td> <td>    0.256</td> <td>   -3.257</td> <td> 0.001</td> <td>   -1.336</td> <td>   -0.332</td>\n",
       "</tr>\n",
       "<tr>\n",
       "  <th>Last_Activity_SMS Sent</th>                   <td>    1.2480</td> <td>    0.253</td> <td>    4.932</td> <td> 0.000</td> <td>    0.752</td> <td>    1.744</td>\n",
       "</tr>\n",
       "<tr>\n",
       "  <th>Occupation_not specified</th>                 <td>   -2.6091</td> <td>    0.161</td> <td>  -16.180</td> <td> 0.000</td> <td>   -2.925</td> <td>   -2.293</td>\n",
       "</tr>\n",
       "<tr>\n",
       "  <th>Tags_Already a student</th>                   <td>   -4.8399</td> <td>    0.610</td> <td>   -7.934</td> <td> 0.000</td> <td>   -6.036</td> <td>   -3.644</td>\n",
       "</tr>\n",
       "<tr>\n",
       "  <th>Tags_Busy</th>                                <td>   -1.3788</td> <td>    0.265</td> <td>   -5.201</td> <td> 0.000</td> <td>   -1.898</td> <td>   -0.859</td>\n",
       "</tr>\n",
       "<tr>\n",
       "  <th>Tags_Closed by Horizzon</th>                  <td>    4.7117</td> <td>    0.743</td> <td>    6.339</td> <td> 0.000</td> <td>    3.255</td> <td>    6.169</td>\n",
       "</tr>\n",
       "<tr>\n",
       "  <th>Tags_Interested in other courses</th>         <td>   -3.9834</td> <td>    0.436</td> <td>   -9.141</td> <td> 0.000</td> <td>   -4.837</td> <td>   -3.129</td>\n",
       "</tr>\n",
       "<tr>\n",
       "  <th>Tags_Lost to EINS</th>                        <td>    6.0292</td> <td>    0.780</td> <td>    7.733</td> <td> 0.000</td> <td>    4.501</td> <td>    7.557</td>\n",
       "</tr>\n",
       "<tr>\n",
       "  <th>Tags_Other Tags</th>                          <td>   -3.7037</td> <td>    0.293</td> <td>  -12.640</td> <td> 0.000</td> <td>   -4.278</td> <td>   -3.129</td>\n",
       "</tr>\n",
       "<tr>\n",
       "  <th>Tags_Ringing</th>                             <td>   -5.1808</td> <td>    0.274</td> <td>  -18.939</td> <td> 0.000</td> <td>   -5.717</td> <td>   -4.645</td>\n",
       "</tr>\n",
       "<tr>\n",
       "  <th>Tags_Will revert after reading the email</th> <td>    2.4805</td> <td>    0.205</td> <td>   12.127</td> <td> 0.000</td> <td>    2.080</td> <td>    2.881</td>\n",
       "</tr>\n",
       "<tr>\n",
       "  <th>Tags_switched off</th>                        <td>   -6.2873</td> <td>    0.750</td> <td>   -8.380</td> <td> 0.000</td> <td>   -7.758</td> <td>   -4.817</td>\n",
       "</tr>\n",
       "<tr>\n",
       "  <th>Last_Notable_Activity_Modified</th>           <td>   -0.9615</td> <td>    0.171</td> <td>   -5.624</td> <td> 0.000</td> <td>   -1.297</td> <td>   -0.626</td>\n",
       "</tr>\n",
       "<tr>\n",
       "  <th>Last_Notable_Activity_SMS Sent</th>           <td>    1.0528</td> <td>    0.285</td> <td>    3.693</td> <td> 0.000</td> <td>    0.494</td> <td>    1.612</td>\n",
       "</tr>\n",
       "</table>"
      ],
      "text/plain": [
       "<class 'statsmodels.iolib.summary.Summary'>\n",
       "\"\"\"\n",
       "                 Generalized Linear Model Regression Results                  \n",
       "==============================================================================\n",
       "Dep. Variable:              Converted   No. Observations:                 6363\n",
       "Model:                            GLM   Df Residuals:                     6342\n",
       "Model Family:                Binomial   Df Model:                           20\n",
       "Link Function:                  Logit   Scale:                          1.0000\n",
       "Method:                          IRLS   Log-Likelihood:                -1077.6\n",
       "Date:                Sun, 22 Jan 2023   Deviance:                       2155.3\n",
       "Time:                        23:22:55   Pearson chi2:                 1.03e+04\n",
       "No. Iterations:                     8   Pseudo R-squ. (CS):             0.6288\n",
       "Covariance Type:            nonrobust                                         \n",
       "============================================================================================================\n",
       "                                               coef    std err          z      P>|z|      [0.025      0.975]\n",
       "------------------------------------------------------------------------------------------------------------\n",
       "const                                        0.0848      0.149      0.568      0.570      -0.208       0.378\n",
       "Do Not Email                                -0.7861      0.284     -2.770      0.006      -1.342      -0.230\n",
       "Total Time Spent on Website                  1.0529      0.065     16.229      0.000       0.926       1.180\n",
       "Lead_Origin_Lead Add Form                    1.3134      0.349      3.760      0.000       0.629       1.998\n",
       "Lead_Source_Olark Chat                       1.0539      0.166      6.366      0.000       0.729       1.378\n",
       "Lead_Source_Welingak Website                 3.3165      1.086      3.055      0.002       1.189       5.444\n",
       "Last_Activity_Email Bounced                 -1.3733      0.530     -2.593      0.010      -2.411      -0.335\n",
       "Last_Activity_Olark Chat Conversation       -0.8343      0.256     -3.257      0.001      -1.336      -0.332\n",
       "Last_Activity_SMS Sent                       1.2480      0.253      4.932      0.000       0.752       1.744\n",
       "Occupation_not specified                    -2.6091      0.161    -16.180      0.000      -2.925      -2.293\n",
       "Tags_Already a student                      -4.8399      0.610     -7.934      0.000      -6.036      -3.644\n",
       "Tags_Busy                                   -1.3788      0.265     -5.201      0.000      -1.898      -0.859\n",
       "Tags_Closed by Horizzon                      4.7117      0.743      6.339      0.000       3.255       6.169\n",
       "Tags_Interested in other courses            -3.9834      0.436     -9.141      0.000      -4.837      -3.129\n",
       "Tags_Lost to EINS                            6.0292      0.780      7.733      0.000       4.501       7.557\n",
       "Tags_Other Tags                             -3.7037      0.293    -12.640      0.000      -4.278      -3.129\n",
       "Tags_Ringing                                -5.1808      0.274    -18.939      0.000      -5.717      -4.645\n",
       "Tags_Will revert after reading the email     2.4805      0.205     12.127      0.000       2.080       2.881\n",
       "Tags_switched off                           -6.2873      0.750     -8.380      0.000      -7.758      -4.817\n",
       "Last_Notable_Activity_Modified              -0.9615      0.171     -5.624      0.000      -1.297      -0.626\n",
       "Last_Notable_Activity_SMS Sent               1.0528      0.285      3.693      0.000       0.494       1.612\n",
       "============================================================================================================\n",
       "\"\"\""
      ]
     },
     "execution_count": 95,
     "metadata": {},
     "output_type": "execute_result"
    }
   ],
   "source": [
    "#using statsmodels\n",
    "X_train_sm = sm.add_constant(X_train[cols])\n",
    "lgrm2 = sm.GLM(y_train,X_train_sm, family = sm.families.Binomial())\n",
    "result = lgrm2.fit()\n",
    "result.summary()"
   ]
  },
  {
   "cell_type": "code",
   "execution_count": null,
   "id": "23a93e87",
   "metadata": {},
   "outputs": [],
   "source": []
  },
  {
   "cell_type": "code",
   "execution_count": 96,
   "id": "da52c0d7",
   "metadata": {},
   "outputs": [
    {
     "data": {
      "text/html": [
       "<div>\n",
       "<style scoped>\n",
       "    .dataframe tbody tr th:only-of-type {\n",
       "        vertical-align: middle;\n",
       "    }\n",
       "\n",
       "    .dataframe tbody tr th {\n",
       "        vertical-align: top;\n",
       "    }\n",
       "\n",
       "    .dataframe thead th {\n",
       "        text-align: right;\n",
       "    }\n",
       "</style>\n",
       "<table border=\"1\" class=\"dataframe\">\n",
       "  <thead>\n",
       "    <tr style=\"text-align: right;\">\n",
       "      <th></th>\n",
       "      <th>Features</th>\n",
       "      <th>VIF</th>\n",
       "    </tr>\n",
       "  </thead>\n",
       "  <tbody>\n",
       "    <tr>\n",
       "      <th>19</th>\n",
       "      <td>Last_Notable_Activity_SMS Sent</td>\n",
       "      <td>6.44</td>\n",
       "    </tr>\n",
       "    <tr>\n",
       "      <th>7</th>\n",
       "      <td>Last_Activity_SMS Sent</td>\n",
       "      <td>6.30</td>\n",
       "    </tr>\n",
       "    <tr>\n",
       "      <th>18</th>\n",
       "      <td>Last_Notable_Activity_Modified</td>\n",
       "      <td>2.61</td>\n",
       "    </tr>\n",
       "    <tr>\n",
       "      <th>2</th>\n",
       "      <td>Lead_Origin_Lead Add Form</td>\n",
       "      <td>1.83</td>\n",
       "    </tr>\n",
       "    <tr>\n",
       "      <th>0</th>\n",
       "      <td>Do Not Email</td>\n",
       "      <td>1.79</td>\n",
       "    </tr>\n",
       "    <tr>\n",
       "      <th>5</th>\n",
       "      <td>Last_Activity_Email Bounced</td>\n",
       "      <td>1.77</td>\n",
       "    </tr>\n",
       "    <tr>\n",
       "      <th>3</th>\n",
       "      <td>Lead_Source_Olark Chat</td>\n",
       "      <td>1.73</td>\n",
       "    </tr>\n",
       "    <tr>\n",
       "      <th>16</th>\n",
       "      <td>Tags_Will revert after reading the email</td>\n",
       "      <td>1.68</td>\n",
       "    </tr>\n",
       "    <tr>\n",
       "      <th>6</th>\n",
       "      <td>Last_Activity_Olark Chat Conversation</td>\n",
       "      <td>1.65</td>\n",
       "    </tr>\n",
       "    <tr>\n",
       "      <th>8</th>\n",
       "      <td>Occupation_not specified</td>\n",
       "      <td>1.61</td>\n",
       "    </tr>\n",
       "    <tr>\n",
       "      <th>1</th>\n",
       "      <td>Total Time Spent on Website</td>\n",
       "      <td>1.40</td>\n",
       "    </tr>\n",
       "    <tr>\n",
       "      <th>11</th>\n",
       "      <td>Tags_Closed by Horizzon</td>\n",
       "      <td>1.32</td>\n",
       "    </tr>\n",
       "    <tr>\n",
       "      <th>4</th>\n",
       "      <td>Lead_Source_Welingak Website</td>\n",
       "      <td>1.31</td>\n",
       "    </tr>\n",
       "    <tr>\n",
       "      <th>12</th>\n",
       "      <td>Tags_Interested in other courses</td>\n",
       "      <td>1.16</td>\n",
       "    </tr>\n",
       "    <tr>\n",
       "      <th>14</th>\n",
       "      <td>Tags_Other Tags</td>\n",
       "      <td>1.16</td>\n",
       "    </tr>\n",
       "    <tr>\n",
       "      <th>15</th>\n",
       "      <td>Tags_Ringing</td>\n",
       "      <td>1.16</td>\n",
       "    </tr>\n",
       "    <tr>\n",
       "      <th>9</th>\n",
       "      <td>Tags_Already a student</td>\n",
       "      <td>1.09</td>\n",
       "    </tr>\n",
       "    <tr>\n",
       "      <th>13</th>\n",
       "      <td>Tags_Lost to EINS</td>\n",
       "      <td>1.06</td>\n",
       "    </tr>\n",
       "    <tr>\n",
       "      <th>17</th>\n",
       "      <td>Tags_switched off</td>\n",
       "      <td>1.06</td>\n",
       "    </tr>\n",
       "    <tr>\n",
       "      <th>10</th>\n",
       "      <td>Tags_Busy</td>\n",
       "      <td>1.06</td>\n",
       "    </tr>\n",
       "  </tbody>\n",
       "</table>\n",
       "</div>"
      ],
      "text/plain": [
       "                                    Features   VIF\n",
       "19            Last_Notable_Activity_SMS Sent  6.44\n",
       "7                     Last_Activity_SMS Sent  6.30\n",
       "18            Last_Notable_Activity_Modified  2.61\n",
       "2                  Lead_Origin_Lead Add Form  1.83\n",
       "0                               Do Not Email  1.79\n",
       "5                Last_Activity_Email Bounced  1.77\n",
       "3                     Lead_Source_Olark Chat  1.73\n",
       "16  Tags_Will revert after reading the email  1.68\n",
       "6      Last_Activity_Olark Chat Conversation  1.65\n",
       "8                   Occupation_not specified  1.61\n",
       "1                Total Time Spent on Website  1.40\n",
       "11                   Tags_Closed by Horizzon  1.32\n",
       "4               Lead_Source_Welingak Website  1.31\n",
       "12          Tags_Interested in other courses  1.16\n",
       "14                           Tags_Other Tags  1.16\n",
       "15                              Tags_Ringing  1.16\n",
       "9                     Tags_Already a student  1.09\n",
       "13                         Tags_Lost to EINS  1.06\n",
       "17                         Tags_switched off  1.06\n",
       "10                                 Tags_Busy  1.06"
      ]
     },
     "execution_count": 96,
     "metadata": {},
     "output_type": "execute_result"
    }
   ],
   "source": [
    "# Create a dataframe that will contain the names of all the feature variables and their respective VIFs\n",
    "vif = pd.DataFrame()\n",
    "vif['Features'] = X_train[cols].columns\n",
    "vif['VIF'] = [variance_inflation_factor(X_train[cols].values, i) for i in range(X_train[cols].shape[1])]\n",
    "vif['VIF'] = round(vif['VIF'], 2)\n",
    "vif = vif.sort_values(by = \"VIF\", ascending = False)\n",
    "vif"
   ]
  },
  {
   "cell_type": "code",
   "execution_count": 97,
   "id": "7410b669",
   "metadata": {},
   "outputs": [
    {
     "data": {
      "text/plain": [
       "Index(['Do Not Email', 'Total Time Spent on Website',\n",
       "       'Lead_Origin_Lead Add Form', 'Lead_Source_Olark Chat',\n",
       "       'Lead_Source_Welingak Website', 'Last_Activity_Email Bounced',\n",
       "       'Last_Activity_Olark Chat Conversation', 'Last_Activity_SMS Sent',\n",
       "       'Occupation_not specified', 'Tags_Already a student', 'Tags_Busy',\n",
       "       'Tags_Closed by Horizzon', 'Tags_Interested in other courses',\n",
       "       'Tags_Lost to EINS', 'Tags_Other Tags', 'Tags_Ringing',\n",
       "       'Tags_Will revert after reading the email', 'Tags_switched off',\n",
       "       'Last_Notable_Activity_Modified'],\n",
       "      dtype='object')"
      ]
     },
     "execution_count": 97,
     "metadata": {},
     "output_type": "execute_result"
    }
   ],
   "source": [
    "#Last_Notable_Activity_SMS Sent shows high vif so we are droping it\n",
    "cols = cols.drop('Last_Notable_Activity_SMS Sent')\n",
    "cols"
   ]
  },
  {
   "cell_type": "markdown",
   "id": "c42e1b9d",
   "metadata": {},
   "source": [
    "### 3rd Model"
   ]
  },
  {
   "cell_type": "code",
   "execution_count": 98,
   "id": "8091ce1a",
   "metadata": {},
   "outputs": [
    {
     "data": {
      "text/html": [
       "<table class=\"simpletable\">\n",
       "<caption>Generalized Linear Model Regression Results</caption>\n",
       "<tr>\n",
       "  <th>Dep. Variable:</th>       <td>Converted</td>    <th>  No. Observations:  </th>  <td>  6363</td> \n",
       "</tr>\n",
       "<tr>\n",
       "  <th>Model:</th>                  <td>GLM</td>       <th>  Df Residuals:      </th>  <td>  6343</td> \n",
       "</tr>\n",
       "<tr>\n",
       "  <th>Model Family:</th>        <td>Binomial</td>     <th>  Df Model:          </th>  <td>    19</td> \n",
       "</tr>\n",
       "<tr>\n",
       "  <th>Link Function:</th>         <td>Logit</td>      <th>  Scale:             </th> <td>  1.0000</td>\n",
       "</tr>\n",
       "<tr>\n",
       "  <th>Method:</th>                <td>IRLS</td>       <th>  Log-Likelihood:    </th> <td> -1084.6</td>\n",
       "</tr>\n",
       "<tr>\n",
       "  <th>Date:</th>            <td>Sun, 22 Jan 2023</td> <th>  Deviance:          </th> <td>  2169.1</td>\n",
       "</tr>\n",
       "<tr>\n",
       "  <th>Time:</th>                <td>23:22:55</td>     <th>  Pearson chi2:      </th> <td>1.12e+04</td>\n",
       "</tr>\n",
       "<tr>\n",
       "  <th>No. Iterations:</th>          <td>8</td>        <th>  Pseudo R-squ. (CS):</th>  <td>0.6280</td> \n",
       "</tr>\n",
       "<tr>\n",
       "  <th>Covariance Type:</th>     <td>nonrobust</td>    <th>                     </th>     <td> </td>   \n",
       "</tr>\n",
       "</table>\n",
       "<table class=\"simpletable\">\n",
       "<tr>\n",
       "                      <td></td>                        <th>coef</th>     <th>std err</th>      <th>z</th>      <th>P>|z|</th>  <th>[0.025</th>    <th>0.975]</th>  \n",
       "</tr>\n",
       "<tr>\n",
       "  <th>const</th>                                    <td>    0.1725</td> <td>    0.148</td> <td>    1.166</td> <td> 0.244</td> <td>   -0.117</td> <td>    0.462</td>\n",
       "</tr>\n",
       "<tr>\n",
       "  <th>Do Not Email</th>                             <td>   -0.7929</td> <td>    0.282</td> <td>   -2.807</td> <td> 0.005</td> <td>   -1.347</td> <td>   -0.239</td>\n",
       "</tr>\n",
       "<tr>\n",
       "  <th>Total Time Spent on Website</th>              <td>    1.0437</td> <td>    0.064</td> <td>   16.237</td> <td> 0.000</td> <td>    0.918</td> <td>    1.170</td>\n",
       "</tr>\n",
       "<tr>\n",
       "  <th>Lead_Origin_Lead Add Form</th>                <td>    1.3025</td> <td>    0.355</td> <td>    3.674</td> <td> 0.000</td> <td>    0.608</td> <td>    1.997</td>\n",
       "</tr>\n",
       "<tr>\n",
       "  <th>Lead_Source_Olark Chat</th>                   <td>    1.0407</td> <td>    0.165</td> <td>    6.307</td> <td> 0.000</td> <td>    0.717</td> <td>    1.364</td>\n",
       "</tr>\n",
       "<tr>\n",
       "  <th>Lead_Source_Welingak Website</th>             <td>    3.2720</td> <td>    1.084</td> <td>    3.019</td> <td> 0.003</td> <td>    1.147</td> <td>    5.397</td>\n",
       "</tr>\n",
       "<tr>\n",
       "  <th>Last_Activity_Email Bounced</th>              <td>   -1.1921</td> <td>    0.525</td> <td>   -2.272</td> <td> 0.023</td> <td>   -2.221</td> <td>   -0.164</td>\n",
       "</tr>\n",
       "<tr>\n",
       "  <th>Last_Activity_Olark Chat Conversation</th>    <td>   -0.6767</td> <td>    0.255</td> <td>   -2.656</td> <td> 0.008</td> <td>   -1.176</td> <td>   -0.177</td>\n",
       "</tr>\n",
       "<tr>\n",
       "  <th>Last_Activity_SMS Sent</th>                   <td>    2.0443</td> <td>    0.133</td> <td>   15.370</td> <td> 0.000</td> <td>    1.784</td> <td>    2.305</td>\n",
       "</tr>\n",
       "<tr>\n",
       "  <th>Occupation_not specified</th>                 <td>   -2.6345</td> <td>    0.161</td> <td>  -16.363</td> <td> 0.000</td> <td>   -2.950</td> <td>   -2.319</td>\n",
       "</tr>\n",
       "<tr>\n",
       "  <th>Tags_Already a student</th>                   <td>   -4.8964</td> <td>    0.610</td> <td>   -8.025</td> <td> 0.000</td> <td>   -6.092</td> <td>   -3.700</td>\n",
       "</tr>\n",
       "<tr>\n",
       "  <th>Tags_Busy</th>                                <td>   -1.3400</td> <td>    0.262</td> <td>   -5.115</td> <td> 0.000</td> <td>   -1.853</td> <td>   -0.827</td>\n",
       "</tr>\n",
       "<tr>\n",
       "  <th>Tags_Closed by Horizzon</th>                  <td>    4.8851</td> <td>    0.744</td> <td>    6.568</td> <td> 0.000</td> <td>    3.427</td> <td>    6.343</td>\n",
       "</tr>\n",
       "<tr>\n",
       "  <th>Tags_Interested in other courses</th>         <td>   -3.9751</td> <td>    0.438</td> <td>   -9.079</td> <td> 0.000</td> <td>   -4.833</td> <td>   -3.117</td>\n",
       "</tr>\n",
       "<tr>\n",
       "  <th>Tags_Lost to EINS</th>                        <td>    6.2105</td> <td>    0.781</td> <td>    7.950</td> <td> 0.000</td> <td>    4.679</td> <td>    7.742</td>\n",
       "</tr>\n",
       "<tr>\n",
       "  <th>Tags_Other Tags</th>                          <td>   -3.6623</td> <td>    0.290</td> <td>  -12.620</td> <td> 0.000</td> <td>   -4.231</td> <td>   -3.094</td>\n",
       "</tr>\n",
       "<tr>\n",
       "  <th>Tags_Ringing</th>                             <td>   -5.0575</td> <td>    0.268</td> <td>  -18.872</td> <td> 0.000</td> <td>   -5.583</td> <td>   -4.532</td>\n",
       "</tr>\n",
       "<tr>\n",
       "  <th>Tags_Will revert after reading the email</th> <td>    2.5423</td> <td>    0.207</td> <td>   12.272</td> <td> 0.000</td> <td>    2.136</td> <td>    2.948</td>\n",
       "</tr>\n",
       "<tr>\n",
       "  <th>Tags_switched off</th>                        <td>   -6.1535</td> <td>    0.747</td> <td>   -8.240</td> <td> 0.000</td> <td>   -7.617</td> <td>   -4.690</td>\n",
       "</tr>\n",
       "<tr>\n",
       "  <th>Last_Notable_Activity_Modified</th>           <td>   -1.3603</td> <td>    0.138</td> <td>   -9.871</td> <td> 0.000</td> <td>   -1.630</td> <td>   -1.090</td>\n",
       "</tr>\n",
       "</table>"
      ],
      "text/plain": [
       "<class 'statsmodels.iolib.summary.Summary'>\n",
       "\"\"\"\n",
       "                 Generalized Linear Model Regression Results                  \n",
       "==============================================================================\n",
       "Dep. Variable:              Converted   No. Observations:                 6363\n",
       "Model:                            GLM   Df Residuals:                     6343\n",
       "Model Family:                Binomial   Df Model:                           19\n",
       "Link Function:                  Logit   Scale:                          1.0000\n",
       "Method:                          IRLS   Log-Likelihood:                -1084.6\n",
       "Date:                Sun, 22 Jan 2023   Deviance:                       2169.1\n",
       "Time:                        23:22:55   Pearson chi2:                 1.12e+04\n",
       "No. Iterations:                     8   Pseudo R-squ. (CS):             0.6280\n",
       "Covariance Type:            nonrobust                                         \n",
       "============================================================================================================\n",
       "                                               coef    std err          z      P>|z|      [0.025      0.975]\n",
       "------------------------------------------------------------------------------------------------------------\n",
       "const                                        0.1725      0.148      1.166      0.244      -0.117       0.462\n",
       "Do Not Email                                -0.7929      0.282     -2.807      0.005      -1.347      -0.239\n",
       "Total Time Spent on Website                  1.0437      0.064     16.237      0.000       0.918       1.170\n",
       "Lead_Origin_Lead Add Form                    1.3025      0.355      3.674      0.000       0.608       1.997\n",
       "Lead_Source_Olark Chat                       1.0407      0.165      6.307      0.000       0.717       1.364\n",
       "Lead_Source_Welingak Website                 3.2720      1.084      3.019      0.003       1.147       5.397\n",
       "Last_Activity_Email Bounced                 -1.1921      0.525     -2.272      0.023      -2.221      -0.164\n",
       "Last_Activity_Olark Chat Conversation       -0.6767      0.255     -2.656      0.008      -1.176      -0.177\n",
       "Last_Activity_SMS Sent                       2.0443      0.133     15.370      0.000       1.784       2.305\n",
       "Occupation_not specified                    -2.6345      0.161    -16.363      0.000      -2.950      -2.319\n",
       "Tags_Already a student                      -4.8964      0.610     -8.025      0.000      -6.092      -3.700\n",
       "Tags_Busy                                   -1.3400      0.262     -5.115      0.000      -1.853      -0.827\n",
       "Tags_Closed by Horizzon                      4.8851      0.744      6.568      0.000       3.427       6.343\n",
       "Tags_Interested in other courses            -3.9751      0.438     -9.079      0.000      -4.833      -3.117\n",
       "Tags_Lost to EINS                            6.2105      0.781      7.950      0.000       4.679       7.742\n",
       "Tags_Other Tags                             -3.6623      0.290    -12.620      0.000      -4.231      -3.094\n",
       "Tags_Ringing                                -5.0575      0.268    -18.872      0.000      -5.583      -4.532\n",
       "Tags_Will revert after reading the email     2.5423      0.207     12.272      0.000       2.136       2.948\n",
       "Tags_switched off                           -6.1535      0.747     -8.240      0.000      -7.617      -4.690\n",
       "Last_Notable_Activity_Modified              -1.3603      0.138     -9.871      0.000      -1.630      -1.090\n",
       "============================================================================================================\n",
       "\"\"\""
      ]
     },
     "execution_count": 98,
     "metadata": {},
     "output_type": "execute_result"
    }
   ],
   "source": [
    "#lets re run the model using statsmodels\n",
    "X_train_sm = sm.add_constant(X_train[cols])\n",
    "lgrm3 = sm.GLM(y_train,X_train_sm, family = sm.families.Binomial())\n",
    "result = lgrm3.fit()\n",
    "result.summary()"
   ]
  },
  {
   "cell_type": "code",
   "execution_count": 99,
   "id": "86c06e24",
   "metadata": {},
   "outputs": [
    {
     "data": {
      "text/plain": [
       "Index(['Do Not Email', 'Total Time Spent on Website',\n",
       "       'Lead_Origin_Lead Add Form', 'Lead_Source_Olark Chat',\n",
       "       'Lead_Source_Welingak Website', 'Last_Activity_Olark Chat Conversation',\n",
       "       'Last_Activity_SMS Sent', 'Occupation_not specified',\n",
       "       'Tags_Already a student', 'Tags_Busy', 'Tags_Closed by Horizzon',\n",
       "       'Tags_Interested in other courses', 'Tags_Lost to EINS',\n",
       "       'Tags_Other Tags', 'Tags_Ringing',\n",
       "       'Tags_Will revert after reading the email', 'Tags_switched off',\n",
       "       'Last_Notable_Activity_Modified'],\n",
       "      dtype='object')"
      ]
     },
     "execution_count": 99,
     "metadata": {},
     "output_type": "execute_result"
    }
   ],
   "source": [
    "#droping last activity email bounced since it has high p-value\n",
    "cols = cols.drop('Last_Activity_Email Bounced')\n",
    "cols"
   ]
  },
  {
   "cell_type": "code",
   "execution_count": 100,
   "id": "a6fbb3b0",
   "metadata": {},
   "outputs": [
    {
     "data": {
      "text/html": [
       "<table class=\"simpletable\">\n",
       "<caption>Generalized Linear Model Regression Results</caption>\n",
       "<tr>\n",
       "  <th>Dep. Variable:</th>       <td>Converted</td>    <th>  No. Observations:  </th>  <td>  6363</td> \n",
       "</tr>\n",
       "<tr>\n",
       "  <th>Model:</th>                  <td>GLM</td>       <th>  Df Residuals:      </th>  <td>  6344</td> \n",
       "</tr>\n",
       "<tr>\n",
       "  <th>Model Family:</th>        <td>Binomial</td>     <th>  Df Model:          </th>  <td>    18</td> \n",
       "</tr>\n",
       "<tr>\n",
       "  <th>Link Function:</th>         <td>Logit</td>      <th>  Scale:             </th> <td>  1.0000</td>\n",
       "</tr>\n",
       "<tr>\n",
       "  <th>Method:</th>                <td>IRLS</td>       <th>  Log-Likelihood:    </th> <td> -1087.3</td>\n",
       "</tr>\n",
       "<tr>\n",
       "  <th>Date:</th>            <td>Sun, 22 Jan 2023</td> <th>  Deviance:          </th> <td>  2174.5</td>\n",
       "</tr>\n",
       "<tr>\n",
       "  <th>Time:</th>                <td>23:22:55</td>     <th>  Pearson chi2:      </th> <td>1.07e+04</td>\n",
       "</tr>\n",
       "<tr>\n",
       "  <th>No. Iterations:</th>          <td>8</td>        <th>  Pseudo R-squ. (CS):</th>  <td>0.6276</td> \n",
       "</tr>\n",
       "<tr>\n",
       "  <th>Covariance Type:</th>     <td>nonrobust</td>    <th>                     </th>     <td> </td>   \n",
       "</tr>\n",
       "</table>\n",
       "<table class=\"simpletable\">\n",
       "<tr>\n",
       "                      <td></td>                        <th>coef</th>     <th>std err</th>      <th>z</th>      <th>P>|z|</th>  <th>[0.025</th>    <th>0.975]</th>  \n",
       "</tr>\n",
       "<tr>\n",
       "  <th>const</th>                                    <td>    0.1468</td> <td>    0.147</td> <td>    0.998</td> <td> 0.318</td> <td>   -0.142</td> <td>    0.435</td>\n",
       "</tr>\n",
       "<tr>\n",
       "  <th>Do Not Email</th>                             <td>   -1.1174</td> <td>    0.251</td> <td>   -4.454</td> <td> 0.000</td> <td>   -1.609</td> <td>   -0.626</td>\n",
       "</tr>\n",
       "<tr>\n",
       "  <th>Total Time Spent on Website</th>              <td>    1.0375</td> <td>    0.064</td> <td>   16.161</td> <td> 0.000</td> <td>    0.912</td> <td>    1.163</td>\n",
       "</tr>\n",
       "<tr>\n",
       "  <th>Lead_Origin_Lead Add Form</th>                <td>    1.3105</td> <td>    0.353</td> <td>    3.713</td> <td> 0.000</td> <td>    0.619</td> <td>    2.002</td>\n",
       "</tr>\n",
       "<tr>\n",
       "  <th>Lead_Source_Olark Chat</th>                   <td>    1.0341</td> <td>    0.165</td> <td>    6.279</td> <td> 0.000</td> <td>    0.711</td> <td>    1.357</td>\n",
       "</tr>\n",
       "<tr>\n",
       "  <th>Lead_Source_Welingak Website</th>             <td>    3.2366</td> <td>    1.077</td> <td>    3.005</td> <td> 0.003</td> <td>    1.126</td> <td>    5.348</td>\n",
       "</tr>\n",
       "<tr>\n",
       "  <th>Last_Activity_Olark Chat Conversation</th>    <td>   -0.6323</td> <td>    0.253</td> <td>   -2.496</td> <td> 0.013</td> <td>   -1.129</td> <td>   -0.136</td>\n",
       "</tr>\n",
       "<tr>\n",
       "  <th>Last_Activity_SMS Sent</th>                   <td>    2.0869</td> <td>    0.132</td> <td>   15.810</td> <td> 0.000</td> <td>    1.828</td> <td>    2.346</td>\n",
       "</tr>\n",
       "<tr>\n",
       "  <th>Occupation_not specified</th>                 <td>   -2.6131</td> <td>    0.160</td> <td>  -16.309</td> <td> 0.000</td> <td>   -2.927</td> <td>   -2.299</td>\n",
       "</tr>\n",
       "<tr>\n",
       "  <th>Tags_Already a student</th>                   <td>   -4.8700</td> <td>    0.610</td> <td>   -7.990</td> <td> 0.000</td> <td>   -6.065</td> <td>   -3.675</td>\n",
       "</tr>\n",
       "<tr>\n",
       "  <th>Tags_Busy</th>                                <td>   -1.3118</td> <td>    0.262</td> <td>   -5.004</td> <td> 0.000</td> <td>   -1.826</td> <td>   -0.798</td>\n",
       "</tr>\n",
       "<tr>\n",
       "  <th>Tags_Closed by Horizzon</th>                  <td>    4.8882</td> <td>    0.744</td> <td>    6.574</td> <td> 0.000</td> <td>    3.431</td> <td>    6.346</td>\n",
       "</tr>\n",
       "<tr>\n",
       "  <th>Tags_Interested in other courses</th>         <td>   -3.9481</td> <td>    0.438</td> <td>   -9.014</td> <td> 0.000</td> <td>   -4.807</td> <td>   -3.090</td>\n",
       "</tr>\n",
       "<tr>\n",
       "  <th>Tags_Lost to EINS</th>                        <td>    6.0775</td> <td>    0.758</td> <td>    8.023</td> <td> 0.000</td> <td>    4.593</td> <td>    7.562</td>\n",
       "</tr>\n",
       "<tr>\n",
       "  <th>Tags_Other Tags</th>                          <td>   -3.6251</td> <td>    0.289</td> <td>  -12.541</td> <td> 0.000</td> <td>   -4.192</td> <td>   -3.059</td>\n",
       "</tr>\n",
       "<tr>\n",
       "  <th>Tags_Ringing</th>                             <td>   -5.0517</td> <td>    0.268</td> <td>  -18.841</td> <td> 0.000</td> <td>   -5.577</td> <td>   -4.526</td>\n",
       "</tr>\n",
       "<tr>\n",
       "  <th>Tags_Will revert after reading the email</th> <td>    2.5574</td> <td>    0.206</td> <td>   12.414</td> <td> 0.000</td> <td>    2.154</td> <td>    2.961</td>\n",
       "</tr>\n",
       "<tr>\n",
       "  <th>Tags_switched off</th>                        <td>   -6.1184</td> <td>    0.747</td> <td>   -8.194</td> <td> 0.000</td> <td>   -7.582</td> <td>   -4.655</td>\n",
       "</tr>\n",
       "<tr>\n",
       "  <th>Last_Notable_Activity_Modified</th>           <td>   -1.3965</td> <td>    0.137</td> <td>  -10.196</td> <td> 0.000</td> <td>   -1.665</td> <td>   -1.128</td>\n",
       "</tr>\n",
       "</table>"
      ],
      "text/plain": [
       "<class 'statsmodels.iolib.summary.Summary'>\n",
       "\"\"\"\n",
       "                 Generalized Linear Model Regression Results                  \n",
       "==============================================================================\n",
       "Dep. Variable:              Converted   No. Observations:                 6363\n",
       "Model:                            GLM   Df Residuals:                     6344\n",
       "Model Family:                Binomial   Df Model:                           18\n",
       "Link Function:                  Logit   Scale:                          1.0000\n",
       "Method:                          IRLS   Log-Likelihood:                -1087.3\n",
       "Date:                Sun, 22 Jan 2023   Deviance:                       2174.5\n",
       "Time:                        23:22:55   Pearson chi2:                 1.07e+04\n",
       "No. Iterations:                     8   Pseudo R-squ. (CS):             0.6276\n",
       "Covariance Type:            nonrobust                                         \n",
       "============================================================================================================\n",
       "                                               coef    std err          z      P>|z|      [0.025      0.975]\n",
       "------------------------------------------------------------------------------------------------------------\n",
       "const                                        0.1468      0.147      0.998      0.318      -0.142       0.435\n",
       "Do Not Email                                -1.1174      0.251     -4.454      0.000      -1.609      -0.626\n",
       "Total Time Spent on Website                  1.0375      0.064     16.161      0.000       0.912       1.163\n",
       "Lead_Origin_Lead Add Form                    1.3105      0.353      3.713      0.000       0.619       2.002\n",
       "Lead_Source_Olark Chat                       1.0341      0.165      6.279      0.000       0.711       1.357\n",
       "Lead_Source_Welingak Website                 3.2366      1.077      3.005      0.003       1.126       5.348\n",
       "Last_Activity_Olark Chat Conversation       -0.6323      0.253     -2.496      0.013      -1.129      -0.136\n",
       "Last_Activity_SMS Sent                       2.0869      0.132     15.810      0.000       1.828       2.346\n",
       "Occupation_not specified                    -2.6131      0.160    -16.309      0.000      -2.927      -2.299\n",
       "Tags_Already a student                      -4.8700      0.610     -7.990      0.000      -6.065      -3.675\n",
       "Tags_Busy                                   -1.3118      0.262     -5.004      0.000      -1.826      -0.798\n",
       "Tags_Closed by Horizzon                      4.8882      0.744      6.574      0.000       3.431       6.346\n",
       "Tags_Interested in other courses            -3.9481      0.438     -9.014      0.000      -4.807      -3.090\n",
       "Tags_Lost to EINS                            6.0775      0.758      8.023      0.000       4.593       7.562\n",
       "Tags_Other Tags                             -3.6251      0.289    -12.541      0.000      -4.192      -3.059\n",
       "Tags_Ringing                                -5.0517      0.268    -18.841      0.000      -5.577      -4.526\n",
       "Tags_Will revert after reading the email     2.5574      0.206     12.414      0.000       2.154       2.961\n",
       "Tags_switched off                           -6.1184      0.747     -8.194      0.000      -7.582      -4.655\n",
       "Last_Notable_Activity_Modified              -1.3965      0.137    -10.196      0.000      -1.665      -1.128\n",
       "============================================================================================================\n",
       "\"\"\""
      ]
     },
     "execution_count": 100,
     "metadata": {},
     "output_type": "execute_result"
    }
   ],
   "source": [
    "#lets re run the model using statsmodels\n",
    "X_train_sm = sm.add_constant(X_train[cols])\n",
    "lgrm4 = sm.GLM(y_train,X_train_sm, family = sm.families.Binomial())\n",
    "result = lgrm4.fit()\n",
    "result.summary()"
   ]
  },
  {
   "cell_type": "code",
   "execution_count": 101,
   "id": "f717d1a6",
   "metadata": {},
   "outputs": [
    {
     "data": {
      "text/html": [
       "<div>\n",
       "<style scoped>\n",
       "    .dataframe tbody tr th:only-of-type {\n",
       "        vertical-align: middle;\n",
       "    }\n",
       "\n",
       "    .dataframe tbody tr th {\n",
       "        vertical-align: top;\n",
       "    }\n",
       "\n",
       "    .dataframe thead th {\n",
       "        text-align: right;\n",
       "    }\n",
       "</style>\n",
       "<table border=\"1\" class=\"dataframe\">\n",
       "  <thead>\n",
       "    <tr style=\"text-align: right;\">\n",
       "      <th></th>\n",
       "      <th>Features</th>\n",
       "      <th>VIF</th>\n",
       "    </tr>\n",
       "  </thead>\n",
       "  <tbody>\n",
       "    <tr>\n",
       "      <th>17</th>\n",
       "      <td>Last_Notable_Activity_Modified</td>\n",
       "      <td>2.01</td>\n",
       "    </tr>\n",
       "    <tr>\n",
       "      <th>2</th>\n",
       "      <td>Lead_Origin_Lead Add Form</td>\n",
       "      <td>1.83</td>\n",
       "    </tr>\n",
       "    <tr>\n",
       "      <th>3</th>\n",
       "      <td>Lead_Source_Olark Chat</td>\n",
       "      <td>1.73</td>\n",
       "    </tr>\n",
       "    <tr>\n",
       "      <th>15</th>\n",
       "      <td>Tags_Will revert after reading the email</td>\n",
       "      <td>1.62</td>\n",
       "    </tr>\n",
       "    <tr>\n",
       "      <th>7</th>\n",
       "      <td>Occupation_not specified</td>\n",
       "      <td>1.61</td>\n",
       "    </tr>\n",
       "    <tr>\n",
       "      <th>6</th>\n",
       "      <td>Last_Activity_SMS Sent</td>\n",
       "      <td>1.60</td>\n",
       "    </tr>\n",
       "    <tr>\n",
       "      <th>5</th>\n",
       "      <td>Last_Activity_Olark Chat Conversation</td>\n",
       "      <td>1.58</td>\n",
       "    </tr>\n",
       "    <tr>\n",
       "      <th>1</th>\n",
       "      <td>Total Time Spent on Website</td>\n",
       "      <td>1.39</td>\n",
       "    </tr>\n",
       "    <tr>\n",
       "      <th>10</th>\n",
       "      <td>Tags_Closed by Horizzon</td>\n",
       "      <td>1.32</td>\n",
       "    </tr>\n",
       "    <tr>\n",
       "      <th>4</th>\n",
       "      <td>Lead_Source_Welingak Website</td>\n",
       "      <td>1.31</td>\n",
       "    </tr>\n",
       "    <tr>\n",
       "      <th>13</th>\n",
       "      <td>Tags_Other Tags</td>\n",
       "      <td>1.14</td>\n",
       "    </tr>\n",
       "    <tr>\n",
       "      <th>0</th>\n",
       "      <td>Do Not Email</td>\n",
       "      <td>1.14</td>\n",
       "    </tr>\n",
       "    <tr>\n",
       "      <th>11</th>\n",
       "      <td>Tags_Interested in other courses</td>\n",
       "      <td>1.14</td>\n",
       "    </tr>\n",
       "    <tr>\n",
       "      <th>14</th>\n",
       "      <td>Tags_Ringing</td>\n",
       "      <td>1.13</td>\n",
       "    </tr>\n",
       "    <tr>\n",
       "      <th>8</th>\n",
       "      <td>Tags_Already a student</td>\n",
       "      <td>1.09</td>\n",
       "    </tr>\n",
       "    <tr>\n",
       "      <th>12</th>\n",
       "      <td>Tags_Lost to EINS</td>\n",
       "      <td>1.06</td>\n",
       "    </tr>\n",
       "    <tr>\n",
       "      <th>9</th>\n",
       "      <td>Tags_Busy</td>\n",
       "      <td>1.05</td>\n",
       "    </tr>\n",
       "    <tr>\n",
       "      <th>16</th>\n",
       "      <td>Tags_switched off</td>\n",
       "      <td>1.04</td>\n",
       "    </tr>\n",
       "  </tbody>\n",
       "</table>\n",
       "</div>"
      ],
      "text/plain": [
       "                                    Features   VIF\n",
       "17            Last_Notable_Activity_Modified  2.01\n",
       "2                  Lead_Origin_Lead Add Form  1.83\n",
       "3                     Lead_Source_Olark Chat  1.73\n",
       "15  Tags_Will revert after reading the email  1.62\n",
       "7                   Occupation_not specified  1.61\n",
       "6                     Last_Activity_SMS Sent  1.60\n",
       "5      Last_Activity_Olark Chat Conversation  1.58\n",
       "1                Total Time Spent on Website  1.39\n",
       "10                   Tags_Closed by Horizzon  1.32\n",
       "4               Lead_Source_Welingak Website  1.31\n",
       "13                           Tags_Other Tags  1.14\n",
       "0                               Do Not Email  1.14\n",
       "11          Tags_Interested in other courses  1.14\n",
       "14                              Tags_Ringing  1.13\n",
       "8                     Tags_Already a student  1.09\n",
       "12                         Tags_Lost to EINS  1.06\n",
       "9                                  Tags_Busy  1.05\n",
       "16                         Tags_switched off  1.04"
      ]
     },
     "execution_count": 101,
     "metadata": {},
     "output_type": "execute_result"
    }
   ],
   "source": [
    "vif = pd.DataFrame()\n",
    "vif['Features'] = X_train[cols].columns\n",
    "vif['VIF'] = [variance_inflation_factor(X_train[cols].values, i) for i in range(X_train[cols].shape[1])]\n",
    "vif['VIF'] = round(vif['VIF'], 2)\n",
    "vif = vif.sort_values(by = \"VIF\", ascending = False)\n",
    "vif"
   ]
  },
  {
   "cell_type": "markdown",
   "id": "c9f8b761",
   "metadata": {},
   "source": [
    "▪ Since VIF and p-value are good we can start predicting with our Model in trainset."
   ]
  },
  {
   "cell_type": "code",
   "execution_count": 102,
   "id": "60ce01f7",
   "metadata": {},
   "outputs": [],
   "source": [
    "#Prediction on trainset\n",
    "y_train_pred = result.predict(X_train_sm).values.reshape(-1)"
   ]
  },
  {
   "cell_type": "code",
   "execution_count": 103,
   "id": "9fb6dc13",
   "metadata": {},
   "outputs": [
    {
     "data": {
      "text/plain": [
       "array([0.05161254, 0.0076406 , 0.53015239, 0.01497778, 0.99673851,\n",
       "       0.03475729, 0.00130729, 0.01072418, 0.99645464, 0.04906556])"
      ]
     },
     "execution_count": 103,
     "metadata": {},
     "output_type": "execute_result"
    }
   ],
   "source": [
    "#Viewing the first 10 elements\n",
    "y_train_pred[:10]"
   ]
  },
  {
   "cell_type": "code",
   "execution_count": 104,
   "id": "e641f1a4",
   "metadata": {},
   "outputs": [
    {
     "data": {
      "text/html": [
       "<div>\n",
       "<style scoped>\n",
       "    .dataframe tbody tr th:only-of-type {\n",
       "        vertical-align: middle;\n",
       "    }\n",
       "\n",
       "    .dataframe tbody tr th {\n",
       "        vertical-align: top;\n",
       "    }\n",
       "\n",
       "    .dataframe thead th {\n",
       "        text-align: right;\n",
       "    }\n",
       "</style>\n",
       "<table border=\"1\" class=\"dataframe\">\n",
       "  <thead>\n",
       "    <tr style=\"text-align: right;\">\n",
       "      <th></th>\n",
       "      <th>Converted</th>\n",
       "      <th>Converted_prob</th>\n",
       "      <th>Prospect ID</th>\n",
       "    </tr>\n",
       "  </thead>\n",
       "  <tbody>\n",
       "    <tr>\n",
       "      <th>0</th>\n",
       "      <td>0</td>\n",
       "      <td>0.051613</td>\n",
       "      <td>302</td>\n",
       "    </tr>\n",
       "    <tr>\n",
       "      <th>1</th>\n",
       "      <td>0</td>\n",
       "      <td>0.007641</td>\n",
       "      <td>6087</td>\n",
       "    </tr>\n",
       "    <tr>\n",
       "      <th>2</th>\n",
       "      <td>0</td>\n",
       "      <td>0.530152</td>\n",
       "      <td>1033</td>\n",
       "    </tr>\n",
       "    <tr>\n",
       "      <th>3</th>\n",
       "      <td>0</td>\n",
       "      <td>0.014978</td>\n",
       "      <td>7656</td>\n",
       "    </tr>\n",
       "    <tr>\n",
       "      <th>4</th>\n",
       "      <td>1</td>\n",
       "      <td>0.996739</td>\n",
       "      <td>3241</td>\n",
       "    </tr>\n",
       "  </tbody>\n",
       "</table>\n",
       "</div>"
      ],
      "text/plain": [
       "   Converted  Converted_prob  Prospect ID\n",
       "0          0        0.051613          302\n",
       "1          0        0.007641         6087\n",
       "2          0        0.530152         1033\n",
       "3          0        0.014978         7656\n",
       "4          1        0.996739         3241"
      ]
     },
     "execution_count": 104,
     "metadata": {},
     "output_type": "execute_result"
    }
   ],
   "source": [
    "#Creating a dataframe with actual Converted and converted probability\n",
    "y_train_pred_final = pd.DataFrame({'Converted':y_train.values, 'Converted_prob':y_train_pred})\n",
    "y_train_pred_final['Prospect ID'] = y_train.index\n",
    "y_train_pred_final.head()"
   ]
  },
  {
   "cell_type": "code",
   "execution_count": 105,
   "id": "b5686e28",
   "metadata": {},
   "outputs": [],
   "source": [
    "# Creating new column 'predicted' with 1 if Churn_Prob > 0.5 else 0\n",
    "y_train_pred_final['Predicted'] = y_train_pred_final.Converted_prob.map(lambda x: 1 if x > 0.5 else 0)"
   ]
  },
  {
   "cell_type": "code",
   "execution_count": 106,
   "id": "34918d7e",
   "metadata": {},
   "outputs": [
    {
     "data": {
      "text/plain": [
       "array([[3767,  168],\n",
       "       [ 226, 2202]], dtype=int64)"
      ]
     },
     "execution_count": 106,
     "metadata": {},
     "output_type": "execute_result"
    }
   ],
   "source": [
    "#creating a confussion matrix\n",
    "confusion = metrics.confusion_matrix(y_train_pred_final.Converted,y_train_pred_final.Predicted)\n",
    "confusion"
   ]
  },
  {
   "cell_type": "code",
   "execution_count": 107,
   "id": "41434b77",
   "metadata": {},
   "outputs": [
    {
     "data": {
      "text/html": [
       "<div>\n",
       "<style scoped>\n",
       "    .dataframe tbody tr th:only-of-type {\n",
       "        vertical-align: middle;\n",
       "    }\n",
       "\n",
       "    .dataframe tbody tr th {\n",
       "        vertical-align: top;\n",
       "    }\n",
       "\n",
       "    .dataframe thead th {\n",
       "        text-align: right;\n",
       "    }\n",
       "</style>\n",
       "<table border=\"1\" class=\"dataframe\">\n",
       "  <thead>\n",
       "    <tr style=\"text-align: right;\">\n",
       "      <th></th>\n",
       "      <th>Converted</th>\n",
       "      <th>Converted_prob</th>\n",
       "      <th>Prospect ID</th>\n",
       "      <th>Predicted</th>\n",
       "    </tr>\n",
       "  </thead>\n",
       "  <tbody>\n",
       "    <tr>\n",
       "      <th>0</th>\n",
       "      <td>0</td>\n",
       "      <td>0.051613</td>\n",
       "      <td>302</td>\n",
       "      <td>0</td>\n",
       "    </tr>\n",
       "    <tr>\n",
       "      <th>1</th>\n",
       "      <td>0</td>\n",
       "      <td>0.007641</td>\n",
       "      <td>6087</td>\n",
       "      <td>0</td>\n",
       "    </tr>\n",
       "    <tr>\n",
       "      <th>2</th>\n",
       "      <td>0</td>\n",
       "      <td>0.530152</td>\n",
       "      <td>1033</td>\n",
       "      <td>1</td>\n",
       "    </tr>\n",
       "    <tr>\n",
       "      <th>3</th>\n",
       "      <td>0</td>\n",
       "      <td>0.014978</td>\n",
       "      <td>7656</td>\n",
       "      <td>0</td>\n",
       "    </tr>\n",
       "    <tr>\n",
       "      <th>4</th>\n",
       "      <td>1</td>\n",
       "      <td>0.996739</td>\n",
       "      <td>3241</td>\n",
       "      <td>1</td>\n",
       "    </tr>\n",
       "  </tbody>\n",
       "</table>\n",
       "</div>"
      ],
      "text/plain": [
       "   Converted  Converted_prob  Prospect ID  Predicted\n",
       "0          0        0.051613          302          0\n",
       "1          0        0.007641         6087          0\n",
       "2          0        0.530152         1033          1\n",
       "3          0        0.014978         7656          0\n",
       "4          1        0.996739         3241          1"
      ]
     },
     "execution_count": 107,
     "metadata": {},
     "output_type": "execute_result"
    }
   ],
   "source": [
    "y_train_pred_final.head()"
   ]
  },
  {
   "cell_type": "code",
   "execution_count": 108,
   "id": "eae840bc",
   "metadata": {},
   "outputs": [
    {
     "name": "stdout",
     "output_type": "stream",
     "text": [
      "0.9380795222379381\n"
     ]
    }
   ],
   "source": [
    "#Checking overall acuuray of our model\n",
    "print(metrics.accuracy_score(y_train_pred_final.Converted,y_train_pred_final.Predicted))"
   ]
  },
  {
   "cell_type": "markdown",
   "id": "27a3e772",
   "metadata": {},
   "source": [
    "## Metrics Beyond simple accuracy"
   ]
  },
  {
   "cell_type": "code",
   "execution_count": 109,
   "id": "f8b93ada",
   "metadata": {},
   "outputs": [],
   "source": [
    "TP = confusion[1,1] # true positive \n",
    "TN = confusion[0,0] # true negatives\n",
    "FP = confusion[0,1] # false positives\n",
    "FN = confusion[1,0] # false negatives"
   ]
  },
  {
   "cell_type": "code",
   "execution_count": 110,
   "id": "f5304e5f",
   "metadata": {},
   "outputs": [
    {
     "data": {
      "text/plain": [
       "0.9573062261753494"
      ]
     },
     "execution_count": 110,
     "metadata": {},
     "output_type": "execute_result"
    }
   ],
   "source": [
    "#checking specificity of our model\n",
    "TN / float(TN+FP)"
   ]
  },
  {
   "cell_type": "code",
   "execution_count": 111,
   "id": "24522112",
   "metadata": {},
   "outputs": [
    {
     "data": {
      "text/plain": [
       "0.9069192751235585"
      ]
     },
     "execution_count": 111,
     "metadata": {},
     "output_type": "execute_result"
    }
   ],
   "source": [
    "#checking sensitivity of our model\n",
    "TP / float(TP+FN)"
   ]
  },
  {
   "cell_type": "code",
   "execution_count": 112,
   "id": "209ec01f",
   "metadata": {},
   "outputs": [
    {
     "name": "stdout",
     "output_type": "stream",
     "text": [
      "0.042693773824650574\n"
     ]
    }
   ],
   "source": [
    "#checking false poitive rate of our model\n",
    "print(FP/ float(TN+FP))"
   ]
  },
  {
   "cell_type": "code",
   "execution_count": 113,
   "id": "2c5e449e",
   "metadata": {},
   "outputs": [
    {
     "name": "stdout",
     "output_type": "stream",
     "text": [
      "0.9291139240506329\n"
     ]
    }
   ],
   "source": [
    "#positive predictive value\n",
    "print (TP / float(TP+FP))"
   ]
  },
  {
   "cell_type": "code",
   "execution_count": 114,
   "id": "62678be3",
   "metadata": {},
   "outputs": [
    {
     "name": "stdout",
     "output_type": "stream",
     "text": [
      "0.9434009516654145\n"
     ]
    }
   ],
   "source": [
    "#negative predictive vlue\n",
    "print (TN / float(TN+ FN))"
   ]
  },
  {
   "cell_type": "markdown",
   "id": "10306824",
   "metadata": {},
   "source": [
    "## Ploting an ROC curve"
   ]
  },
  {
   "cell_type": "code",
   "execution_count": 115,
   "id": "a16cade0",
   "metadata": {},
   "outputs": [],
   "source": [
    "def draw_roc( actual, probs ):\n",
    "    fpr, tpr, thresholds = metrics.roc_curve( actual, probs,\n",
    "                                              drop_intermediate = False )\n",
    "    auc_score = metrics.roc_auc_score( actual, probs )\n",
    "    plt.figure(figsize=(5, 5))\n",
    "    plt.plot( fpr, tpr, label='ROC curve (area = %0.2f)' % auc_score )\n",
    "    plt.plot([0, 1], [0, 1], 'k--')\n",
    "    plt.xlim([0.0, 1.0])\n",
    "    plt.ylim([0.0, 1.05])\n",
    "    plt.xlabel('False Positive Rate or [1 - True Negative Rate]')\n",
    "    plt.ylabel('True Positive Rate')\n",
    "    plt.title('Receiver operating characteristic example')\n",
    "    plt.legend(loc=\"lower right\")\n",
    "    plt.show()\n",
    "\n",
    "    return None"
   ]
  },
  {
   "cell_type": "code",
   "execution_count": 116,
   "id": "53d1bd97",
   "metadata": {},
   "outputs": [],
   "source": [
    "fpr, tpr, thresholds = metrics.roc_curve( y_train_pred_final.Converted, y_train_pred_final.Converted_prob, \n",
    "                                         drop_intermediate = False )"
   ]
  },
  {
   "cell_type": "code",
   "execution_count": 117,
   "id": "12fb9e46",
   "metadata": {},
   "outputs": [
    {
     "data": {
      "image/png": "[encoded data removed]",
      "text/plain": [
       "<Figure size 360x360 with 1 Axes>"
      ]
     },
     "metadata": {
      "needs_background": "light"
     },
     "output_type": "display_data"
    }
   ],
   "source": [
    "draw_roc(y_train_pred_final.Converted, y_train_pred_final.Converted_prob)"
   ]
  },
  {
   "cell_type": "markdown",
   "id": "a554c12d",
   "metadata": {},
   "source": [
    "🔹 We are getting good ROC curve value i.e. 0.98 indicating a good model."
   ]
  },
  {
   "cell_type": "markdown",
   "id": "a9271bba",
   "metadata": {},
   "source": [
    "## Finding a optimal cut off point"
   ]
  },
  {
   "cell_type": "markdown",
   "id": "d9a6ea4b",
   "metadata": {},
   "source": [
    "▪ Optimal cutoff probability is that prob where we get balanced sensitivity and specificity."
   ]
  },
  {
   "cell_type": "code",
   "execution_count": 118,
   "id": "eeea5970",
   "metadata": {},
   "outputs": [
    {
     "data": {
      "text/html": [
       "<div>\n",
       "<style scoped>\n",
       "    .dataframe tbody tr th:only-of-type {\n",
       "        vertical-align: middle;\n",
       "    }\n",
       "\n",
       "    .dataframe tbody tr th {\n",
       "        vertical-align: top;\n",
       "    }\n",
       "\n",
       "    .dataframe thead th {\n",
       "        text-align: right;\n",
       "    }\n",
       "</style>\n",
       "<table border=\"1\" class=\"dataframe\">\n",
       "  <thead>\n",
       "    <tr style=\"text-align: right;\">\n",
       "      <th></th>\n",
       "      <th>Converted</th>\n",
       "      <th>Converted_prob</th>\n",
       "      <th>Prospect ID</th>\n",
       "      <th>Predicted</th>\n",
       "      <th>0.0</th>\n",
       "      <th>0.1</th>\n",
       "      <th>0.2</th>\n",
       "      <th>0.3</th>\n",
       "      <th>0.4</th>\n",
       "      <th>0.5</th>\n",
       "      <th>0.6</th>\n",
       "      <th>0.7</th>\n",
       "      <th>0.8</th>\n",
       "      <th>0.9</th>\n",
       "    </tr>\n",
       "  </thead>\n",
       "  <tbody>\n",
       "    <tr>\n",
       "      <th>0</th>\n",
       "      <td>0</td>\n",
       "      <td>0.051613</td>\n",
       "      <td>302</td>\n",
       "      <td>0</td>\n",
       "      <td>1</td>\n",
       "      <td>0</td>\n",
       "      <td>0</td>\n",
       "      <td>0</td>\n",
       "      <td>0</td>\n",
       "      <td>0</td>\n",
       "      <td>0</td>\n",
       "      <td>0</td>\n",
       "      <td>0</td>\n",
       "      <td>0</td>\n",
       "    </tr>\n",
       "    <tr>\n",
       "      <th>1</th>\n",
       "      <td>0</td>\n",
       "      <td>0.007641</td>\n",
       "      <td>6087</td>\n",
       "      <td>0</td>\n",
       "      <td>1</td>\n",
       "      <td>0</td>\n",
       "      <td>0</td>\n",
       "      <td>0</td>\n",
       "      <td>0</td>\n",
       "      <td>0</td>\n",
       "      <td>0</td>\n",
       "      <td>0</td>\n",
       "      <td>0</td>\n",
       "      <td>0</td>\n",
       "    </tr>\n",
       "    <tr>\n",
       "      <th>2</th>\n",
       "      <td>0</td>\n",
       "      <td>0.530152</td>\n",
       "      <td>1033</td>\n",
       "      <td>1</td>\n",
       "      <td>1</td>\n",
       "      <td>1</td>\n",
       "      <td>1</td>\n",
       "      <td>1</td>\n",
       "      <td>1</td>\n",
       "      <td>1</td>\n",
       "      <td>0</td>\n",
       "      <td>0</td>\n",
       "      <td>0</td>\n",
       "      <td>0</td>\n",
       "    </tr>\n",
       "    <tr>\n",
       "      <th>3</th>\n",
       "      <td>0</td>\n",
       "      <td>0.014978</td>\n",
       "      <td>7656</td>\n",
       "      <td>0</td>\n",
       "      <td>1</td>\n",
       "      <td>0</td>\n",
       "      <td>0</td>\n",
       "      <td>0</td>\n",
       "      <td>0</td>\n",
       "      <td>0</td>\n",
       "      <td>0</td>\n",
       "      <td>0</td>\n",
       "      <td>0</td>\n",
       "      <td>0</td>\n",
       "    </tr>\n",
       "    <tr>\n",
       "      <th>4</th>\n",
       "      <td>1</td>\n",
       "      <td>0.996739</td>\n",
       "      <td>3241</td>\n",
       "      <td>1</td>\n",
       "      <td>1</td>\n",
       "      <td>1</td>\n",
       "      <td>1</td>\n",
       "      <td>1</td>\n",
       "      <td>1</td>\n",
       "      <td>1</td>\n",
       "      <td>1</td>\n",
       "      <td>1</td>\n",
       "      <td>1</td>\n",
       "      <td>1</td>\n",
       "    </tr>\n",
       "  </tbody>\n",
       "</table>\n",
       "</div>"
      ],
      "text/plain": [
       "   Converted  Converted_prob  Prospect ID  Predicted  0.0  0.1  0.2  0.3  0.4  \\\n",
       "0          0        0.051613          302          0    1    0    0    0    0   \n",
       "1          0        0.007641         6087          0    1    0    0    0    0   \n",
       "2          0        0.530152         1033          1    1    1    1    1    1   \n",
       "3          0        0.014978         7656          0    1    0    0    0    0   \n",
       "4          1        0.996739         3241          1    1    1    1    1    1   \n",
       "\n",
       "   0.5  0.6  0.7  0.8  0.9  \n",
       "0    0    0    0    0    0  \n",
       "1    0    0    0    0    0  \n",
       "2    1    0    0    0    0  \n",
       "3    0    0    0    0    0  \n",
       "4    1    1    1    1    1  "
      ]
     },
     "execution_count": 118,
     "metadata": {},
     "output_type": "execute_result"
    }
   ],
   "source": [
    "# Lets create columns with different probability cutoffs \n",
    "numbers = [float(x)/10 for x in range(10)]\n",
    "for i in numbers:\n",
    "    y_train_pred_final[i]= y_train_pred_final.Converted_prob.map(lambda x: 1 if x > i else 0)\n",
    "y_train_pred_final.head()"
   ]
  },
  {
   "cell_type": "code",
   "execution_count": 119,
   "id": "6cc6c6b2",
   "metadata": {},
   "outputs": [
    {
     "name": "stdout",
     "output_type": "stream",
     "text": [
      "     prob  accuracy     sensi     speci\n",
      "0.0   0.0  0.381581  1.000000  0.000000\n",
      "0.1   0.1  0.891246  0.969934  0.842694\n",
      "0.2   0.2  0.920163  0.955107  0.898602\n",
      "0.3   0.3  0.932893  0.941104  0.927827\n",
      "0.4   0.4  0.939494  0.927100  0.947141\n",
      "0.5   0.5  0.938080  0.906919  0.957306\n",
      "0.6   0.6  0.932265  0.873970  0.968234\n",
      "0.7   0.7  0.926921  0.846787  0.976366\n",
      "0.8   0.8  0.920635  0.818781  0.983482\n",
      "0.9   0.9  0.900204  0.755354  0.989581\n"
     ]
    }
   ],
   "source": [
    "# Now let's calculate accuracy sensitivity and specificity for various probability cutoffs.\n",
    "cutoff_df = pd.DataFrame( columns = ['prob','accuracy','sensi','speci'])\n",
    "from sklearn.metrics import confusion_matrix\n",
    "\n",
    "# TP = confusion[1,1] # true positive \n",
    "# TN = confusion[0,0] # true negatives\n",
    "# FP = confusion[0,1] # false positives\n",
    "# FN = confusion[1,0] # false negatives\n",
    "\n",
    "num = [0.0,0.1,0.2,0.3,0.4,0.5,0.6,0.7,0.8,0.9]\n",
    "for i in num:\n",
    "    cm1 = metrics.confusion_matrix(y_train_pred_final.Converted, y_train_pred_final[i] )\n",
    "    total1=sum(sum(cm1))\n",
    "    accuracy = (cm1[0,0]+cm1[1,1])/total1\n",
    "    \n",
    "    speci = cm1[0,0]/(cm1[0,0]+cm1[0,1])\n",
    "    sensi = cm1[1,1]/(cm1[1,0]+cm1[1,1])\n",
    "    cutoff_df.loc[i] =[ i ,accuracy,sensi,speci]\n",
    "print(cutoff_df)"
   ]
  },
  {
   "cell_type": "code",
   "execution_count": 120,
   "id": "fad5a123",
   "metadata": {},
   "outputs": [
    {
     "data": {
      "image/png": "[encoded data removed]",
      "text/plain": [
       "<Figure size 432x288 with 1 Axes>"
      ]
     },
     "metadata": {
      "needs_background": "light"
     },
     "output_type": "display_data"
    }
   ],
   "source": [
    "# Lets plot accuracy sensitivity and specificity for various probabilities.\n",
    "cutoff_df.plot.line(x='prob', y=['accuracy','sensi','speci'])\n",
    "plt.show()"
   ]
  },
  {
   "cell_type": "markdown",
   "id": "cde218cd",
   "metadata": {},
   "source": [
    "▪ From the plot above we can see that optimal cutoff point will be 0.30"
   ]
  },
  {
   "cell_type": "code",
   "execution_count": 121,
   "id": "aac5f927",
   "metadata": {},
   "outputs": [
    {
     "data": {
      "text/html": [
       "<div>\n",
       "<style scoped>\n",
       "    .dataframe tbody tr th:only-of-type {\n",
       "        vertical-align: middle;\n",
       "    }\n",
       "\n",
       "    .dataframe tbody tr th {\n",
       "        vertical-align: top;\n",
       "    }\n",
       "\n",
       "    .dataframe thead th {\n",
       "        text-align: right;\n",
       "    }\n",
       "</style>\n",
       "<table border=\"1\" class=\"dataframe\">\n",
       "  <thead>\n",
       "    <tr style=\"text-align: right;\">\n",
       "      <th></th>\n",
       "      <th>Converted</th>\n",
       "      <th>Converted_prob</th>\n",
       "      <th>Prospect ID</th>\n",
       "      <th>Predicted</th>\n",
       "      <th>0.0</th>\n",
       "      <th>0.1</th>\n",
       "      <th>0.2</th>\n",
       "      <th>0.3</th>\n",
       "      <th>0.4</th>\n",
       "      <th>0.5</th>\n",
       "      <th>0.6</th>\n",
       "      <th>0.7</th>\n",
       "      <th>0.8</th>\n",
       "      <th>0.9</th>\n",
       "      <th>Final_Predicted</th>\n",
       "    </tr>\n",
       "  </thead>\n",
       "  <tbody>\n",
       "    <tr>\n",
       "      <th>0</th>\n",
       "      <td>0</td>\n",
       "      <td>0.051613</td>\n",
       "      <td>302</td>\n",
       "      <td>0</td>\n",
       "      <td>1</td>\n",
       "      <td>0</td>\n",
       "      <td>0</td>\n",
       "      <td>0</td>\n",
       "      <td>0</td>\n",
       "      <td>0</td>\n",
       "      <td>0</td>\n",
       "      <td>0</td>\n",
       "      <td>0</td>\n",
       "      <td>0</td>\n",
       "      <td>0</td>\n",
       "    </tr>\n",
       "    <tr>\n",
       "      <th>1</th>\n",
       "      <td>0</td>\n",
       "      <td>0.007641</td>\n",
       "      <td>6087</td>\n",
       "      <td>0</td>\n",
       "      <td>1</td>\n",
       "      <td>0</td>\n",
       "      <td>0</td>\n",
       "      <td>0</td>\n",
       "      <td>0</td>\n",
       "      <td>0</td>\n",
       "      <td>0</td>\n",
       "      <td>0</td>\n",
       "      <td>0</td>\n",
       "      <td>0</td>\n",
       "      <td>0</td>\n",
       "    </tr>\n",
       "    <tr>\n",
       "      <th>2</th>\n",
       "      <td>0</td>\n",
       "      <td>0.530152</td>\n",
       "      <td>1033</td>\n",
       "      <td>1</td>\n",
       "      <td>1</td>\n",
       "      <td>1</td>\n",
       "      <td>1</td>\n",
       "      <td>1</td>\n",
       "      <td>1</td>\n",
       "      <td>1</td>\n",
       "      <td>0</td>\n",
       "      <td>0</td>\n",
       "      <td>0</td>\n",
       "      <td>0</td>\n",
       "      <td>1</td>\n",
       "    </tr>\n",
       "    <tr>\n",
       "      <th>3</th>\n",
       "      <td>0</td>\n",
       "      <td>0.014978</td>\n",
       "      <td>7656</td>\n",
       "      <td>0</td>\n",
       "      <td>1</td>\n",
       "      <td>0</td>\n",
       "      <td>0</td>\n",
       "      <td>0</td>\n",
       "      <td>0</td>\n",
       "      <td>0</td>\n",
       "      <td>0</td>\n",
       "      <td>0</td>\n",
       "      <td>0</td>\n",
       "      <td>0</td>\n",
       "      <td>0</td>\n",
       "    </tr>\n",
       "    <tr>\n",
       "      <th>4</th>\n",
       "      <td>1</td>\n",
       "      <td>0.996739</td>\n",
       "      <td>3241</td>\n",
       "      <td>1</td>\n",
       "      <td>1</td>\n",
       "      <td>1</td>\n",
       "      <td>1</td>\n",
       "      <td>1</td>\n",
       "      <td>1</td>\n",
       "      <td>1</td>\n",
       "      <td>1</td>\n",
       "      <td>1</td>\n",
       "      <td>1</td>\n",
       "      <td>1</td>\n",
       "      <td>1</td>\n",
       "    </tr>\n",
       "  </tbody>\n",
       "</table>\n",
       "</div>"
      ],
      "text/plain": [
       "   Converted  Converted_prob  Prospect ID  Predicted  0.0  0.1  0.2  0.3  0.4  \\\n",
       "0          0        0.051613          302          0    1    0    0    0    0   \n",
       "1          0        0.007641         6087          0    1    0    0    0    0   \n",
       "2          0        0.530152         1033          1    1    1    1    1    1   \n",
       "3          0        0.014978         7656          0    1    0    0    0    0   \n",
       "4          1        0.996739         3241          1    1    1    1    1    1   \n",
       "\n",
       "   0.5  0.6  0.7  0.8  0.9  Final_Predicted  \n",
       "0    0    0    0    0    0                0  \n",
       "1    0    0    0    0    0                0  \n",
       "2    1    0    0    0    0                1  \n",
       "3    0    0    0    0    0                0  \n",
       "4    1    1    1    1    1                1  "
      ]
     },
     "execution_count": 121,
     "metadata": {},
     "output_type": "execute_result"
    }
   ],
   "source": [
    "y_train_pred_final['Final_Predicted'] = y_train_pred_final.Converted_prob.map(lambda x: 1 if x > 0.3 else 0)\n",
    "y_train_pred_final.head()"
   ]
  },
  {
   "cell_type": "code",
   "execution_count": 122,
   "id": "3237b515",
   "metadata": {},
   "outputs": [
    {
     "data": {
      "text/plain": [
       "0.9328932893289329"
      ]
     },
     "execution_count": 122,
     "metadata": {},
     "output_type": "execute_result"
    }
   ],
   "source": [
    "# Let's check the overall accuracy.\n",
    "metrics.accuracy_score(y_train_pred_final.Converted, y_train_pred_final.Final_Predicted)"
   ]
  },
  {
   "cell_type": "code",
   "execution_count": 123,
   "id": "b4733171",
   "metadata": {},
   "outputs": [
    {
     "data": {
      "text/plain": [
       "array([[3651,  284],\n",
       "       [ 143, 2285]], dtype=int64)"
      ]
     },
     "execution_count": 123,
     "metadata": {},
     "output_type": "execute_result"
    }
   ],
   "source": [
    "#Now we will create confussion matrix again for the new cut-off.\n",
    "confusion2 = metrics.confusion_matrix(y_train_pred_final.Converted,y_train_pred_final.Final_Predicted)\n",
    "confusion2"
   ]
  },
  {
   "cell_type": "code",
   "execution_count": 124,
   "id": "0220c10a",
   "metadata": {},
   "outputs": [],
   "source": [
    "TP = confusion2[1,1] # true positive \n",
    "TN = confusion2[0,0] # true negatives\n",
    "FP = confusion2[0,1] # false positives\n",
    "FN = confusion2[1,0] # false negatives"
   ]
  },
  {
   "cell_type": "code",
   "execution_count": 125,
   "id": "cefacfbd",
   "metadata": {},
   "outputs": [
    {
     "data": {
      "text/plain": [
       "0.9278271918678526"
      ]
     },
     "execution_count": 125,
     "metadata": {},
     "output_type": "execute_result"
    }
   ],
   "source": [
    "#checking specificity of our model\n",
    "TN / float(TN+FP)"
   ]
  },
  {
   "cell_type": "code",
   "execution_count": 126,
   "id": "46bb5c76",
   "metadata": {},
   "outputs": [
    {
     "data": {
      "text/plain": [
       "0.9411037891268533"
      ]
     },
     "execution_count": 126,
     "metadata": {},
     "output_type": "execute_result"
    }
   ],
   "source": [
    "#checking sensitivity of our model\n",
    "TP / float(TP+FN)"
   ]
  },
  {
   "cell_type": "code",
   "execution_count": 127,
   "id": "36f58922",
   "metadata": {},
   "outputs": [
    {
     "name": "stdout",
     "output_type": "stream",
     "text": [
      "0.0721728081321474\n"
     ]
    }
   ],
   "source": [
    "#checking false poitive rate of our model\n",
    "print(FP/ float(TN+FP))"
   ]
  },
  {
   "cell_type": "code",
   "execution_count": 128,
   "id": "f3122983",
   "metadata": {},
   "outputs": [
    {
     "name": "stdout",
     "output_type": "stream",
     "text": [
      "0.8894511483067341\n"
     ]
    }
   ],
   "source": [
    "#positive predictive value\n",
    "print (TP / float(TP+FP))"
   ]
  },
  {
   "cell_type": "code",
   "execution_count": 129,
   "id": "55658038",
   "metadata": {},
   "outputs": [
    {
     "name": "stdout",
     "output_type": "stream",
     "text": [
      "0.9623089088033737\n"
     ]
    }
   ],
   "source": [
    "# Negative predictive value\n",
    "print (TN / float(TN+ FN))"
   ]
  },
  {
   "cell_type": "markdown",
   "id": "71dc06a8",
   "metadata": {},
   "source": [
    "## Precision and Recall Score"
   ]
  },
  {
   "cell_type": "code",
   "execution_count": 130,
   "id": "a588cf6a",
   "metadata": {},
   "outputs": [
    {
     "data": {
      "text/plain": [
       "0.8894511483067341"
      ]
     },
     "execution_count": 130,
     "metadata": {},
     "output_type": "execute_result"
    }
   ],
   "source": [
    "#Precison Score\n",
    "precision_score(y_train_pred_final.Converted,y_train_pred_final.Final_Predicted)"
   ]
  },
  {
   "cell_type": "code",
   "execution_count": 131,
   "id": "82bd28bf",
   "metadata": {},
   "outputs": [
    {
     "data": {
      "text/plain": [
       "0.9411037891268533"
      ]
     },
     "execution_count": 131,
     "metadata": {},
     "output_type": "execute_result"
    }
   ],
   "source": [
    "#Recall Score\n",
    "recall_score(y_train_pred_final.Converted,y_train_pred_final.Final_Predicted)"
   ]
  },
  {
   "cell_type": "markdown",
   "id": "16145072",
   "metadata": {},
   "source": [
    "## Precision and Recall tradeoff"
   ]
  },
  {
   "cell_type": "code",
   "execution_count": 132,
   "id": "eb2aad12",
   "metadata": {},
   "outputs": [],
   "source": [
    "p, r, thresholds = precision_recall_curve(y_train_pred_final.Converted, y_train_pred_final.Converted_prob)"
   ]
  },
  {
   "cell_type": "code",
   "execution_count": 133,
   "id": "b6e1e01f",
   "metadata": {},
   "outputs": [
    {
     "data": {
      "image/png": "[encoded data removed]",
      "text/plain": [
       "<Figure size 432x288 with 1 Axes>"
      ]
     },
     "metadata": {
      "needs_background": "light"
     },
     "output_type": "display_data"
    }
   ],
   "source": [
    "plt.plot(thresholds, p[:-1], \"g-\")\n",
    "plt.plot(thresholds, r[:-1], \"r-\")\n",
    "plt.show()"
   ]
  },
  {
   "cell_type": "markdown",
   "id": "9b28f7f7",
   "metadata": {},
   "source": [
    "## Predicting in test sets"
   ]
  },
  {
   "cell_type": "code",
   "execution_count": 134,
   "id": "41df3581",
   "metadata": {},
   "outputs": [
    {
     "data": {
      "text/html": [
       "<div>\n",
       "<style scoped>\n",
       "    .dataframe tbody tr th:only-of-type {\n",
       "        vertical-align: middle;\n",
       "    }\n",
       "\n",
       "    .dataframe tbody tr th {\n",
       "        vertical-align: top;\n",
       "    }\n",
       "\n",
       "    .dataframe thead th {\n",
       "        text-align: right;\n",
       "    }\n",
       "</style>\n",
       "<table border=\"1\" class=\"dataframe\">\n",
       "  <thead>\n",
       "    <tr style=\"text-align: right;\">\n",
       "      <th></th>\n",
       "      <th>Do Not Email</th>\n",
       "      <th>TotalVisits</th>\n",
       "      <th>Total Time Spent on Website</th>\n",
       "      <th>Page Views Per Visit</th>\n",
       "      <th>A free copy of Mastering The Interview</th>\n",
       "      <th>Lead_Origin_API</th>\n",
       "      <th>Lead_Origin_Landing Page Submission</th>\n",
       "      <th>Lead_Origin_Lead Add Form</th>\n",
       "      <th>Lead_Origin_Lead Import</th>\n",
       "      <th>Lead_Origin_Quick Add Form</th>\n",
       "      <th>...</th>\n",
       "      <th>Tags_Interested in other courses</th>\n",
       "      <th>Tags_Lost to EINS</th>\n",
       "      <th>Tags_Other Tags</th>\n",
       "      <th>Tags_Ringing</th>\n",
       "      <th>Tags_Will revert after reading the email</th>\n",
       "      <th>Tags_switched off</th>\n",
       "      <th>Last_Notable_Activity_Email Opened</th>\n",
       "      <th>Last_Notable_Activity_Modified</th>\n",
       "      <th>Last_Notable_Activity_Page Visited on Website</th>\n",
       "      <th>Last_Notable_Activity_SMS Sent</th>\n",
       "    </tr>\n",
       "  </thead>\n",
       "  <tbody>\n",
       "    <tr>\n",
       "      <th>6906</th>\n",
       "      <td>0</td>\n",
       "      <td>4.0</td>\n",
       "      <td>1530</td>\n",
       "      <td>2.0</td>\n",
       "      <td>0</td>\n",
       "      <td>0</td>\n",
       "      <td>1</td>\n",
       "      <td>0</td>\n",
       "      <td>0</td>\n",
       "      <td>0</td>\n",
       "      <td>...</td>\n",
       "      <td>0</td>\n",
       "      <td>0</td>\n",
       "      <td>0</td>\n",
       "      <td>0</td>\n",
       "      <td>1</td>\n",
       "      <td>0</td>\n",
       "      <td>0</td>\n",
       "      <td>0</td>\n",
       "      <td>0</td>\n",
       "      <td>1</td>\n",
       "    </tr>\n",
       "    <tr>\n",
       "      <th>1873</th>\n",
       "      <td>0</td>\n",
       "      <td>2.0</td>\n",
       "      <td>186</td>\n",
       "      <td>2.0</td>\n",
       "      <td>0</td>\n",
       "      <td>0</td>\n",
       "      <td>1</td>\n",
       "      <td>0</td>\n",
       "      <td>0</td>\n",
       "      <td>0</td>\n",
       "      <td>...</td>\n",
       "      <td>1</td>\n",
       "      <td>0</td>\n",
       "      <td>0</td>\n",
       "      <td>0</td>\n",
       "      <td>0</td>\n",
       "      <td>0</td>\n",
       "      <td>0</td>\n",
       "      <td>1</td>\n",
       "      <td>0</td>\n",
       "      <td>0</td>\n",
       "    </tr>\n",
       "    <tr>\n",
       "      <th>771</th>\n",
       "      <td>0</td>\n",
       "      <td>7.0</td>\n",
       "      <td>49</td>\n",
       "      <td>7.0</td>\n",
       "      <td>0</td>\n",
       "      <td>1</td>\n",
       "      <td>0</td>\n",
       "      <td>0</td>\n",
       "      <td>0</td>\n",
       "      <td>0</td>\n",
       "      <td>...</td>\n",
       "      <td>0</td>\n",
       "      <td>0</td>\n",
       "      <td>0</td>\n",
       "      <td>1</td>\n",
       "      <td>0</td>\n",
       "      <td>0</td>\n",
       "      <td>1</td>\n",
       "      <td>0</td>\n",
       "      <td>0</td>\n",
       "      <td>0</td>\n",
       "    </tr>\n",
       "    <tr>\n",
       "      <th>4495</th>\n",
       "      <td>0</td>\n",
       "      <td>4.0</td>\n",
       "      <td>144</td>\n",
       "      <td>4.0</td>\n",
       "      <td>1</td>\n",
       "      <td>0</td>\n",
       "      <td>1</td>\n",
       "      <td>0</td>\n",
       "      <td>0</td>\n",
       "      <td>0</td>\n",
       "      <td>...</td>\n",
       "      <td>0</td>\n",
       "      <td>0</td>\n",
       "      <td>0</td>\n",
       "      <td>1</td>\n",
       "      <td>0</td>\n",
       "      <td>0</td>\n",
       "      <td>1</td>\n",
       "      <td>0</td>\n",
       "      <td>0</td>\n",
       "      <td>0</td>\n",
       "    </tr>\n",
       "    <tr>\n",
       "      <th>9061</th>\n",
       "      <td>0</td>\n",
       "      <td>2.0</td>\n",
       "      <td>1788</td>\n",
       "      <td>2.0</td>\n",
       "      <td>1</td>\n",
       "      <td>0</td>\n",
       "      <td>1</td>\n",
       "      <td>0</td>\n",
       "      <td>0</td>\n",
       "      <td>0</td>\n",
       "      <td>...</td>\n",
       "      <td>0</td>\n",
       "      <td>1</td>\n",
       "      <td>0</td>\n",
       "      <td>0</td>\n",
       "      <td>0</td>\n",
       "      <td>0</td>\n",
       "      <td>0</td>\n",
       "      <td>1</td>\n",
       "      <td>0</td>\n",
       "      <td>0</td>\n",
       "    </tr>\n",
       "  </tbody>\n",
       "</table>\n",
       "<p>5 rows × 52 columns</p>\n",
       "</div>"
      ],
      "text/plain": [
       "      Do Not Email  TotalVisits  Total Time Spent on Website  \\\n",
       "6906             0          4.0                         1530   \n",
       "1873             0          2.0                          186   \n",
       "771              0          7.0                           49   \n",
       "4495             0          4.0                          144   \n",
       "9061             0          2.0                         1788   \n",
       "\n",
       "      Page Views Per Visit  A free copy of Mastering The Interview  \\\n",
       "6906                   2.0                                       0   \n",
       "1873                   2.0                                       0   \n",
       "771                    7.0                                       0   \n",
       "4495                   4.0                                       1   \n",
       "9061                   2.0                                       1   \n",
       "\n",
       "      Lead_Origin_API  Lead_Origin_Landing Page Submission  \\\n",
       "6906                0                                    1   \n",
       "1873                0                                    1   \n",
       "771                 1                                    0   \n",
       "4495                0                                    1   \n",
       "9061                0                                    1   \n",
       "\n",
       "      Lead_Origin_Lead Add Form  Lead_Origin_Lead Import  \\\n",
       "6906                          0                        0   \n",
       "1873                          0                        0   \n",
       "771                           0                        0   \n",
       "4495                          0                        0   \n",
       "9061                          0                        0   \n",
       "\n",
       "      Lead_Origin_Quick Add Form  ...  Tags_Interested in other courses  \\\n",
       "6906                           0  ...                                 0   \n",
       "1873                           0  ...                                 1   \n",
       "771                            0  ...                                 0   \n",
       "4495                           0  ...                                 0   \n",
       "9061                           0  ...                                 0   \n",
       "\n",
       "      Tags_Lost to EINS  Tags_Other Tags  Tags_Ringing  \\\n",
       "6906                  0                0             0   \n",
       "1873                  0                0             0   \n",
       "771                   0                0             1   \n",
       "4495                  0                0             1   \n",
       "9061                  1                0             0   \n",
       "\n",
       "      Tags_Will revert after reading the email  Tags_switched off  \\\n",
       "6906                                         1                  0   \n",
       "1873                                         0                  0   \n",
       "771                                          0                  0   \n",
       "4495                                         0                  0   \n",
       "9061                                         0                  0   \n",
       "\n",
       "      Last_Notable_Activity_Email Opened  Last_Notable_Activity_Modified  \\\n",
       "6906                                   0                               0   \n",
       "1873                                   0                               1   \n",
       "771                                    1                               0   \n",
       "4495                                   1                               0   \n",
       "9061                                   0                               1   \n",
       "\n",
       "      Last_Notable_Activity_Page Visited on Website  \\\n",
       "6906                                              0   \n",
       "1873                                              0   \n",
       "771                                               0   \n",
       "4495                                              0   \n",
       "9061                                              0   \n",
       "\n",
       "      Last_Notable_Activity_SMS Sent  \n",
       "6906                               1  \n",
       "1873                               0  \n",
       "771                                0  \n",
       "4495                               0  \n",
       "9061                               0  \n",
       "\n",
       "[5 rows x 52 columns]"
      ]
     },
     "execution_count": 134,
     "metadata": {},
     "output_type": "execute_result"
    }
   ],
   "source": [
    "X_test.head()"
   ]
  },
  {
   "cell_type": "code",
   "execution_count": 135,
   "id": "6f91294f",
   "metadata": {},
   "outputs": [],
   "source": [
    "##Scaling numeric column for test dataset\n",
    "X_test[numeric_cols] = scaler.transform(X_test[numeric_cols])"
   ]
  },
  {
   "cell_type": "code",
   "execution_count": 136,
   "id": "2bc45b9d",
   "metadata": {},
   "outputs": [],
   "source": [
    "X_test = X_test[cols]"
   ]
  },
  {
   "cell_type": "code",
   "execution_count": 137,
   "id": "8128abe8",
   "metadata": {},
   "outputs": [
    {
     "data": {
      "text/html": [
       "<div>\n",
       "<style scoped>\n",
       "    .dataframe tbody tr th:only-of-type {\n",
       "        vertical-align: middle;\n",
       "    }\n",
       "\n",
       "    .dataframe tbody tr th {\n",
       "        vertical-align: top;\n",
       "    }\n",
       "\n",
       "    .dataframe thead th {\n",
       "        text-align: right;\n",
       "    }\n",
       "</style>\n",
       "<table border=\"1\" class=\"dataframe\">\n",
       "  <thead>\n",
       "    <tr style=\"text-align: right;\">\n",
       "      <th></th>\n",
       "      <th>Do Not Email</th>\n",
       "      <th>Total Time Spent on Website</th>\n",
       "      <th>Lead_Origin_Lead Add Form</th>\n",
       "      <th>Lead_Source_Olark Chat</th>\n",
       "      <th>Lead_Source_Welingak Website</th>\n",
       "      <th>Last_Activity_Olark Chat Conversation</th>\n",
       "      <th>Last_Activity_SMS Sent</th>\n",
       "      <th>Occupation_not specified</th>\n",
       "      <th>Tags_Already a student</th>\n",
       "      <th>Tags_Busy</th>\n",
       "      <th>Tags_Closed by Horizzon</th>\n",
       "      <th>Tags_Interested in other courses</th>\n",
       "      <th>Tags_Lost to EINS</th>\n",
       "      <th>Tags_Other Tags</th>\n",
       "      <th>Tags_Ringing</th>\n",
       "      <th>Tags_Will revert after reading the email</th>\n",
       "      <th>Tags_switched off</th>\n",
       "      <th>Last_Notable_Activity_Modified</th>\n",
       "    </tr>\n",
       "  </thead>\n",
       "  <tbody>\n",
       "    <tr>\n",
       "      <th>6906</th>\n",
       "      <td>0</td>\n",
       "      <td>1.919395</td>\n",
       "      <td>0</td>\n",
       "      <td>0</td>\n",
       "      <td>0</td>\n",
       "      <td>0</td>\n",
       "      <td>1</td>\n",
       "      <td>0</td>\n",
       "      <td>0</td>\n",
       "      <td>0</td>\n",
       "      <td>0</td>\n",
       "      <td>0</td>\n",
       "      <td>0</td>\n",
       "      <td>0</td>\n",
       "      <td>0</td>\n",
       "      <td>1</td>\n",
       "      <td>0</td>\n",
       "      <td>0</td>\n",
       "    </tr>\n",
       "    <tr>\n",
       "      <th>1873</th>\n",
       "      <td>0</td>\n",
       "      <td>-0.546142</td>\n",
       "      <td>0</td>\n",
       "      <td>0</td>\n",
       "      <td>0</td>\n",
       "      <td>0</td>\n",
       "      <td>1</td>\n",
       "      <td>0</td>\n",
       "      <td>0</td>\n",
       "      <td>0</td>\n",
       "      <td>0</td>\n",
       "      <td>1</td>\n",
       "      <td>0</td>\n",
       "      <td>0</td>\n",
       "      <td>0</td>\n",
       "      <td>0</td>\n",
       "      <td>0</td>\n",
       "      <td>1</td>\n",
       "    </tr>\n",
       "    <tr>\n",
       "      <th>771</th>\n",
       "      <td>0</td>\n",
       "      <td>-0.797465</td>\n",
       "      <td>0</td>\n",
       "      <td>0</td>\n",
       "      <td>0</td>\n",
       "      <td>0</td>\n",
       "      <td>0</td>\n",
       "      <td>0</td>\n",
       "      <td>0</td>\n",
       "      <td>0</td>\n",
       "      <td>0</td>\n",
       "      <td>0</td>\n",
       "      <td>0</td>\n",
       "      <td>0</td>\n",
       "      <td>1</td>\n",
       "      <td>0</td>\n",
       "      <td>0</td>\n",
       "      <td>0</td>\n",
       "    </tr>\n",
       "    <tr>\n",
       "      <th>4495</th>\n",
       "      <td>0</td>\n",
       "      <td>-0.623190</td>\n",
       "      <td>0</td>\n",
       "      <td>0</td>\n",
       "      <td>0</td>\n",
       "      <td>0</td>\n",
       "      <td>0</td>\n",
       "      <td>0</td>\n",
       "      <td>0</td>\n",
       "      <td>0</td>\n",
       "      <td>0</td>\n",
       "      <td>0</td>\n",
       "      <td>0</td>\n",
       "      <td>0</td>\n",
       "      <td>1</td>\n",
       "      <td>0</td>\n",
       "      <td>0</td>\n",
       "      <td>0</td>\n",
       "    </tr>\n",
       "    <tr>\n",
       "      <th>9061</th>\n",
       "      <td>0</td>\n",
       "      <td>2.392690</td>\n",
       "      <td>0</td>\n",
       "      <td>0</td>\n",
       "      <td>0</td>\n",
       "      <td>0</td>\n",
       "      <td>0</td>\n",
       "      <td>1</td>\n",
       "      <td>0</td>\n",
       "      <td>0</td>\n",
       "      <td>0</td>\n",
       "      <td>0</td>\n",
       "      <td>1</td>\n",
       "      <td>0</td>\n",
       "      <td>0</td>\n",
       "      <td>0</td>\n",
       "      <td>0</td>\n",
       "      <td>1</td>\n",
       "    </tr>\n",
       "  </tbody>\n",
       "</table>\n",
       "</div>"
      ],
      "text/plain": [
       "      Do Not Email  Total Time Spent on Website  Lead_Origin_Lead Add Form  \\\n",
       "6906             0                     1.919395                          0   \n",
       "1873             0                    -0.546142                          0   \n",
       "771              0                    -0.797465                          0   \n",
       "4495             0                    -0.623190                          0   \n",
       "9061             0                     2.392690                          0   \n",
       "\n",
       "      Lead_Source_Olark Chat  Lead_Source_Welingak Website  \\\n",
       "6906                       0                             0   \n",
       "1873                       0                             0   \n",
       "771                        0                             0   \n",
       "4495                       0                             0   \n",
       "9061                       0                             0   \n",
       "\n",
       "      Last_Activity_Olark Chat Conversation  Last_Activity_SMS Sent  \\\n",
       "6906                                      0                       1   \n",
       "1873                                      0                       1   \n",
       "771                                       0                       0   \n",
       "4495                                      0                       0   \n",
       "9061                                      0                       0   \n",
       "\n",
       "      Occupation_not specified  Tags_Already a student  Tags_Busy  \\\n",
       "6906                         0                       0          0   \n",
       "1873                         0                       0          0   \n",
       "771                          0                       0          0   \n",
       "4495                         0                       0          0   \n",
       "9061                         1                       0          0   \n",
       "\n",
       "      Tags_Closed by Horizzon  Tags_Interested in other courses  \\\n",
       "6906                        0                                 0   \n",
       "1873                        0                                 1   \n",
       "771                         0                                 0   \n",
       "4495                        0                                 0   \n",
       "9061                        0                                 0   \n",
       "\n",
       "      Tags_Lost to EINS  Tags_Other Tags  Tags_Ringing  \\\n",
       "6906                  0                0             0   \n",
       "1873                  0                0             0   \n",
       "771                   0                0             1   \n",
       "4495                  0                0             1   \n",
       "9061                  1                0             0   \n",
       "\n",
       "      Tags_Will revert after reading the email  Tags_switched off  \\\n",
       "6906                                         1                  0   \n",
       "1873                                         0                  0   \n",
       "771                                          0                  0   \n",
       "4495                                         0                  0   \n",
       "9061                                         0                  0   \n",
       "\n",
       "      Last_Notable_Activity_Modified  \n",
       "6906                               0  \n",
       "1873                               1  \n",
       "771                                0  \n",
       "4495                               0  \n",
       "9061                               1  "
      ]
     },
     "execution_count": 137,
     "metadata": {},
     "output_type": "execute_result"
    }
   ],
   "source": [
    "X_test.head()"
   ]
  },
  {
   "cell_type": "markdown",
   "id": "2c364e2f",
   "metadata": {},
   "source": [
    "#### Since now scaling is done we can add constant and predict using our model."
   ]
  },
  {
   "cell_type": "code",
   "execution_count": 138,
   "id": "af08f8cd",
   "metadata": {},
   "outputs": [],
   "source": [
    "#Adding constant\n",
    "X_test_sm = sm.add_constant(X_test)"
   ]
  },
  {
   "cell_type": "code",
   "execution_count": 139,
   "id": "e092e6e3",
   "metadata": {},
   "outputs": [
    {
     "data": {
      "text/plain": [
       "6906    0.998868\n",
       "1873    0.024663\n",
       "771     0.003229\n",
       "4495    0.003867\n",
       "9061    0.990961\n",
       "4929    0.204856\n",
       "2308    0.016486\n",
       "1034    0.030607\n",
       "9033    0.003205\n",
       "7008    0.987432\n",
       "dtype: float64"
      ]
     },
     "execution_count": 139,
     "metadata": {},
     "output_type": "execute_result"
    }
   ],
   "source": [
    "#Prediction\n",
    "y_test_pred = result.predict(X_test_sm)\n",
    "y_test_pred[:10]"
   ]
  },
  {
   "cell_type": "code",
   "execution_count": 140,
   "id": "652b7991",
   "metadata": {},
   "outputs": [],
   "source": [
    "# Converting y_pred to a dataframe which is an array\n",
    "y_pred_1 = pd.DataFrame(y_test_pred)"
   ]
  },
  {
   "cell_type": "code",
   "execution_count": 141,
   "id": "6133b7ce",
   "metadata": {},
   "outputs": [
    {
     "data": {
      "text/html": [
       "<div>\n",
       "<style scoped>\n",
       "    .dataframe tbody tr th:only-of-type {\n",
       "        vertical-align: middle;\n",
       "    }\n",
       "\n",
       "    .dataframe tbody tr th {\n",
       "        vertical-align: top;\n",
       "    }\n",
       "\n",
       "    .dataframe thead th {\n",
       "        text-align: right;\n",
       "    }\n",
       "</style>\n",
       "<table border=\"1\" class=\"dataframe\">\n",
       "  <thead>\n",
       "    <tr style=\"text-align: right;\">\n",
       "      <th></th>\n",
       "      <th>0</th>\n",
       "    </tr>\n",
       "  </thead>\n",
       "  <tbody>\n",
       "    <tr>\n",
       "      <th>6906</th>\n",
       "      <td>0.998868</td>\n",
       "    </tr>\n",
       "    <tr>\n",
       "      <th>1873</th>\n",
       "      <td>0.024663</td>\n",
       "    </tr>\n",
       "    <tr>\n",
       "      <th>771</th>\n",
       "      <td>0.003229</td>\n",
       "    </tr>\n",
       "    <tr>\n",
       "      <th>4495</th>\n",
       "      <td>0.003867</td>\n",
       "    </tr>\n",
       "    <tr>\n",
       "      <th>9061</th>\n",
       "      <td>0.990961</td>\n",
       "    </tr>\n",
       "  </tbody>\n",
       "</table>\n",
       "</div>"
      ],
      "text/plain": [
       "             0\n",
       "6906  0.998868\n",
       "1873  0.024663\n",
       "771   0.003229\n",
       "4495  0.003867\n",
       "9061  0.990961"
      ]
     },
     "execution_count": 141,
     "metadata": {},
     "output_type": "execute_result"
    }
   ],
   "source": [
    "y_pred_1.head()"
   ]
  },
  {
   "cell_type": "code",
   "execution_count": 142,
   "id": "3076ca27",
   "metadata": {},
   "outputs": [],
   "source": [
    "# Converting y_test to dataframe\n",
    "y_test_df = pd.DataFrame(y_test)"
   ]
  },
  {
   "cell_type": "code",
   "execution_count": 143,
   "id": "b699a988",
   "metadata": {},
   "outputs": [
    {
     "data": {
      "text/html": [
       "<div>\n",
       "<style scoped>\n",
       "    .dataframe tbody tr th:only-of-type {\n",
       "        vertical-align: middle;\n",
       "    }\n",
       "\n",
       "    .dataframe tbody tr th {\n",
       "        vertical-align: top;\n",
       "    }\n",
       "\n",
       "    .dataframe thead th {\n",
       "        text-align: right;\n",
       "    }\n",
       "</style>\n",
       "<table border=\"1\" class=\"dataframe\">\n",
       "  <thead>\n",
       "    <tr style=\"text-align: right;\">\n",
       "      <th></th>\n",
       "      <th>Converted</th>\n",
       "    </tr>\n",
       "  </thead>\n",
       "  <tbody>\n",
       "    <tr>\n",
       "      <th>6906</th>\n",
       "      <td>1</td>\n",
       "    </tr>\n",
       "    <tr>\n",
       "      <th>1873</th>\n",
       "      <td>0</td>\n",
       "    </tr>\n",
       "    <tr>\n",
       "      <th>771</th>\n",
       "      <td>0</td>\n",
       "    </tr>\n",
       "    <tr>\n",
       "      <th>4495</th>\n",
       "      <td>0</td>\n",
       "    </tr>\n",
       "    <tr>\n",
       "      <th>9061</th>\n",
       "      <td>1</td>\n",
       "    </tr>\n",
       "  </tbody>\n",
       "</table>\n",
       "</div>"
      ],
      "text/plain": [
       "      Converted\n",
       "6906          1\n",
       "1873          0\n",
       "771           0\n",
       "4495          0\n",
       "9061          1"
      ]
     },
     "execution_count": 143,
     "metadata": {},
     "output_type": "execute_result"
    }
   ],
   "source": [
    "y_test_df.head()"
   ]
  },
  {
   "cell_type": "code",
   "execution_count": 144,
   "id": "74a79b3c",
   "metadata": {},
   "outputs": [],
   "source": [
    "#Using Prospect ID as index\n",
    "y_test_df['Prospect ID'] = y_test_df.index"
   ]
  },
  {
   "cell_type": "code",
   "execution_count": 145,
   "id": "235e7602",
   "metadata": {},
   "outputs": [],
   "source": [
    "y_pred_1.reset_index(drop=True,inplace=True)\n",
    "y_test_df.reset_index(drop=True,inplace=True)"
   ]
  },
  {
   "cell_type": "code",
   "execution_count": 146,
   "id": "27362c54",
   "metadata": {},
   "outputs": [],
   "source": [
    "#Concatinating both the data frames\n",
    "y_pred_final = pd.concat([y_test_df, y_pred_1], axis = 1)"
   ]
  },
  {
   "cell_type": "code",
   "execution_count": 147,
   "id": "a23120fa",
   "metadata": {},
   "outputs": [
    {
     "data": {
      "text/html": [
       "<div>\n",
       "<style scoped>\n",
       "    .dataframe tbody tr th:only-of-type {\n",
       "        vertical-align: middle;\n",
       "    }\n",
       "\n",
       "    .dataframe tbody tr th {\n",
       "        vertical-align: top;\n",
       "    }\n",
       "\n",
       "    .dataframe thead th {\n",
       "        text-align: right;\n",
       "    }\n",
       "</style>\n",
       "<table border=\"1\" class=\"dataframe\">\n",
       "  <thead>\n",
       "    <tr style=\"text-align: right;\">\n",
       "      <th></th>\n",
       "      <th>Converted</th>\n",
       "      <th>Prospect ID</th>\n",
       "      <th>0</th>\n",
       "    </tr>\n",
       "  </thead>\n",
       "  <tbody>\n",
       "    <tr>\n",
       "      <th>0</th>\n",
       "      <td>1</td>\n",
       "      <td>6906</td>\n",
       "      <td>0.998868</td>\n",
       "    </tr>\n",
       "    <tr>\n",
       "      <th>1</th>\n",
       "      <td>0</td>\n",
       "      <td>1873</td>\n",
       "      <td>0.024663</td>\n",
       "    </tr>\n",
       "    <tr>\n",
       "      <th>2</th>\n",
       "      <td>0</td>\n",
       "      <td>771</td>\n",
       "      <td>0.003229</td>\n",
       "    </tr>\n",
       "    <tr>\n",
       "      <th>3</th>\n",
       "      <td>0</td>\n",
       "      <td>4495</td>\n",
       "      <td>0.003867</td>\n",
       "    </tr>\n",
       "    <tr>\n",
       "      <th>4</th>\n",
       "      <td>1</td>\n",
       "      <td>9061</td>\n",
       "      <td>0.990961</td>\n",
       "    </tr>\n",
       "  </tbody>\n",
       "</table>\n",
       "</div>"
      ],
      "text/plain": [
       "   Converted  Prospect ID         0\n",
       "0          1         6906  0.998868\n",
       "1          0         1873  0.024663\n",
       "2          0          771  0.003229\n",
       "3          0         4495  0.003867\n",
       "4          1         9061  0.990961"
      ]
     },
     "execution_count": 147,
     "metadata": {},
     "output_type": "execute_result"
    }
   ],
   "source": [
    "#Viewing new datafrmae\n",
    "y_pred_final.head()"
   ]
  },
  {
   "cell_type": "code",
   "execution_count": 148,
   "id": "bd3646d3",
   "metadata": {},
   "outputs": [],
   "source": [
    "#renaming the column name\n",
    "y_pred_final= y_pred_final.rename(columns={ 0 : 'Converted_Prob'})"
   ]
  },
  {
   "cell_type": "code",
   "execution_count": 149,
   "id": "63909ff1",
   "metadata": {},
   "outputs": [],
   "source": [
    "#Using optimal cutoff point in our test dataset\n",
    "y_pred_final['Final_Predicted'] = y_pred_final.Converted_Prob.map(lambda x: 1 if x > 0.3 else 0)"
   ]
  },
  {
   "cell_type": "code",
   "execution_count": 150,
   "id": "2ddc6636",
   "metadata": {},
   "outputs": [
    {
     "data": {
      "text/html": [
       "<div>\n",
       "<style scoped>\n",
       "    .dataframe tbody tr th:only-of-type {\n",
       "        vertical-align: middle;\n",
       "    }\n",
       "\n",
       "    .dataframe tbody tr th {\n",
       "        vertical-align: top;\n",
       "    }\n",
       "\n",
       "    .dataframe thead th {\n",
       "        text-align: right;\n",
       "    }\n",
       "</style>\n",
       "<table border=\"1\" class=\"dataframe\">\n",
       "  <thead>\n",
       "    <tr style=\"text-align: right;\">\n",
       "      <th></th>\n",
       "      <th>Converted</th>\n",
       "      <th>Prospect ID</th>\n",
       "      <th>Converted_Prob</th>\n",
       "      <th>Final_Predicted</th>\n",
       "    </tr>\n",
       "  </thead>\n",
       "  <tbody>\n",
       "    <tr>\n",
       "      <th>0</th>\n",
       "      <td>1</td>\n",
       "      <td>6906</td>\n",
       "      <td>0.998868</td>\n",
       "      <td>1</td>\n",
       "    </tr>\n",
       "    <tr>\n",
       "      <th>1</th>\n",
       "      <td>0</td>\n",
       "      <td>1873</td>\n",
       "      <td>0.024663</td>\n",
       "      <td>0</td>\n",
       "    </tr>\n",
       "    <tr>\n",
       "      <th>2</th>\n",
       "      <td>0</td>\n",
       "      <td>771</td>\n",
       "      <td>0.003229</td>\n",
       "      <td>0</td>\n",
       "    </tr>\n",
       "    <tr>\n",
       "      <th>3</th>\n",
       "      <td>0</td>\n",
       "      <td>4495</td>\n",
       "      <td>0.003867</td>\n",
       "      <td>0</td>\n",
       "    </tr>\n",
       "    <tr>\n",
       "      <th>4</th>\n",
       "      <td>1</td>\n",
       "      <td>9061</td>\n",
       "      <td>0.990961</td>\n",
       "      <td>1</td>\n",
       "    </tr>\n",
       "  </tbody>\n",
       "</table>\n",
       "</div>"
      ],
      "text/plain": [
       "   Converted  Prospect ID  Converted_Prob  Final_Predicted\n",
       "0          1         6906        0.998868                1\n",
       "1          0         1873        0.024663                0\n",
       "2          0          771        0.003229                0\n",
       "3          0         4495        0.003867                0\n",
       "4          1         9061        0.990961                1"
      ]
     },
     "execution_count": 150,
     "metadata": {},
     "output_type": "execute_result"
    }
   ],
   "source": [
    "y_pred_final.head()"
   ]
  },
  {
   "cell_type": "code",
   "execution_count": 151,
   "id": "74340b04",
   "metadata": {},
   "outputs": [
    {
     "data": {
      "text/plain": [
       "0.9365603226989365"
      ]
     },
     "execution_count": 151,
     "metadata": {},
     "output_type": "execute_result"
    }
   ],
   "source": [
    "# Let's check the overall accuracy.\n",
    "metrics.accuracy_score(y_pred_final.Converted, y_pred_final.Final_Predicted)"
   ]
  },
  {
   "cell_type": "markdown",
   "id": "c68fc793",
   "metadata": {},
   "source": [
    "## Metrics Beyond Accuracy for test set"
   ]
  },
  {
   "cell_type": "code",
   "execution_count": 152,
   "id": "4a6ab3ac",
   "metadata": {},
   "outputs": [
    {
     "data": {
      "text/plain": [
       "array([[1558,  102],\n",
       "       [  71,  996]], dtype=int64)"
      ]
     },
     "execution_count": 152,
     "metadata": {},
     "output_type": "execute_result"
    }
   ],
   "source": [
    "#Creating confussiion matrix for test data set\n",
    "confusion3 = metrics.confusion_matrix(y_pred_final.Converted,y_pred_final.Final_Predicted)\n",
    "confusion3"
   ]
  },
  {
   "cell_type": "code",
   "execution_count": 153,
   "id": "7899aa0a",
   "metadata": {},
   "outputs": [],
   "source": [
    "TP = confusion3[1,1] # true positive \n",
    "TN = confusion3[0,0] # true negatives\n",
    "FP = confusion3[0,1] # false positives\n",
    "FN = confusion3[1,0] # false negatives"
   ]
  },
  {
   "cell_type": "code",
   "execution_count": 154,
   "id": "178489a9",
   "metadata": {},
   "outputs": [
    {
     "data": {
      "text/plain": [
       "0.9334582942830365"
      ]
     },
     "execution_count": 154,
     "metadata": {},
     "output_type": "execute_result"
    }
   ],
   "source": [
    "# Let's see the sensitivity of our logistic regression model\n",
    "TP / float(TP+FN)"
   ]
  },
  {
   "cell_type": "code",
   "execution_count": 155,
   "id": "a66ede20",
   "metadata": {},
   "outputs": [
    {
     "data": {
      "text/plain": [
       "0.9385542168674699"
      ]
     },
     "execution_count": 155,
     "metadata": {},
     "output_type": "execute_result"
    }
   ],
   "source": [
    "# Let us calculate specificity\n",
    "TN / float(TN+FP)"
   ]
  },
  {
   "cell_type": "code",
   "execution_count": 156,
   "id": "1d1985f5",
   "metadata": {},
   "outputs": [
    {
     "name": "stdout",
     "output_type": "stream",
     "text": [
      "0.06144578313253012\n"
     ]
    }
   ],
   "source": [
    "#checking false poitive rate of our model\n",
    "print(FP/ float(TN+FP))"
   ]
  },
  {
   "cell_type": "code",
   "execution_count": 157,
   "id": "0fe83922",
   "metadata": {},
   "outputs": [
    {
     "name": "stdout",
     "output_type": "stream",
     "text": [
      "0.907103825136612\n"
     ]
    }
   ],
   "source": [
    "#positive predictive value\n",
    "print (TP / float(TP+FP))"
   ]
  },
  {
   "cell_type": "code",
   "execution_count": 158,
   "id": "029482fa",
   "metadata": {},
   "outputs": [
    {
     "name": "stdout",
     "output_type": "stream",
     "text": [
      "0.956414978514426\n"
     ]
    }
   ],
   "source": [
    "# Negative predictive value\n",
    "print(TN / float(TN+ FN))"
   ]
  },
  {
   "cell_type": "markdown",
   "id": "5dc0c47c",
   "metadata": {},
   "source": [
    "### Assigning the lead score to test data and drawing out the hot leads "
   ]
  },
  {
   "cell_type": "code",
   "execution_count": 159,
   "id": "66f7c8ab",
   "metadata": {},
   "outputs": [],
   "source": [
    "y_pred_final['lead score'] = y_pred_final.Converted_Prob.map(lambda x : round(x*100))"
   ]
  },
  {
   "cell_type": "code",
   "execution_count": 160,
   "id": "3cd631c1",
   "metadata": {},
   "outputs": [
    {
     "data": {
      "text/html": [
       "<div>\n",
       "<style scoped>\n",
       "    .dataframe tbody tr th:only-of-type {\n",
       "        vertical-align: middle;\n",
       "    }\n",
       "\n",
       "    .dataframe tbody tr th {\n",
       "        vertical-align: top;\n",
       "    }\n",
       "\n",
       "    .dataframe thead th {\n",
       "        text-align: right;\n",
       "    }\n",
       "</style>\n",
       "<table border=\"1\" class=\"dataframe\">\n",
       "  <thead>\n",
       "    <tr style=\"text-align: right;\">\n",
       "      <th></th>\n",
       "      <th>Converted</th>\n",
       "      <th>Prospect ID</th>\n",
       "      <th>Converted_Prob</th>\n",
       "      <th>Final_Predicted</th>\n",
       "      <th>lead score</th>\n",
       "    </tr>\n",
       "  </thead>\n",
       "  <tbody>\n",
       "    <tr>\n",
       "      <th>0</th>\n",
       "      <td>1</td>\n",
       "      <td>6906</td>\n",
       "      <td>0.998868</td>\n",
       "      <td>1</td>\n",
       "      <td>100</td>\n",
       "    </tr>\n",
       "    <tr>\n",
       "      <th>1</th>\n",
       "      <td>0</td>\n",
       "      <td>1873</td>\n",
       "      <td>0.024663</td>\n",
       "      <td>0</td>\n",
       "      <td>2</td>\n",
       "    </tr>\n",
       "    <tr>\n",
       "      <th>2</th>\n",
       "      <td>0</td>\n",
       "      <td>771</td>\n",
       "      <td>0.003229</td>\n",
       "      <td>0</td>\n",
       "      <td>0</td>\n",
       "    </tr>\n",
       "    <tr>\n",
       "      <th>3</th>\n",
       "      <td>0</td>\n",
       "      <td>4495</td>\n",
       "      <td>0.003867</td>\n",
       "      <td>0</td>\n",
       "      <td>0</td>\n",
       "    </tr>\n",
       "    <tr>\n",
       "      <th>4</th>\n",
       "      <td>1</td>\n",
       "      <td>9061</td>\n",
       "      <td>0.990961</td>\n",
       "      <td>1</td>\n",
       "      <td>99</td>\n",
       "    </tr>\n",
       "  </tbody>\n",
       "</table>\n",
       "</div>"
      ],
      "text/plain": [
       "   Converted  Prospect ID  Converted_Prob  Final_Predicted  lead score\n",
       "0          1         6906        0.998868                1         100\n",
       "1          0         1873        0.024663                0           2\n",
       "2          0          771        0.003229                0           0\n",
       "3          0         4495        0.003867                0           0\n",
       "4          1         9061        0.990961                1          99"
      ]
     },
     "execution_count": 160,
     "metadata": {},
     "output_type": "execute_result"
    }
   ],
   "source": [
    "y_pred_final.head()"
   ]
  },
  {
   "cell_type": "code",
   "execution_count": 161,
   "id": "25f18abe",
   "metadata": {},
   "outputs": [],
   "source": [
    "###customers with lead score of more than or equal to 85 can be termed as hot leads\n",
    "Hot_leads = y_pred_final.loc[y_pred_final['lead score']>=85]"
   ]
  },
  {
   "cell_type": "code",
   "execution_count": 164,
   "id": "119f83f2",
   "metadata": {},
   "outputs": [
    {
     "data": {
      "text/html": [
       "<div>\n",
       "<style scoped>\n",
       "    .dataframe tbody tr th:only-of-type {\n",
       "        vertical-align: middle;\n",
       "    }\n",
       "\n",
       "    .dataframe tbody tr th {\n",
       "        vertical-align: top;\n",
       "    }\n",
       "\n",
       "    .dataframe thead th {\n",
       "        text-align: right;\n",
       "    }\n",
       "</style>\n",
       "<table border=\"1\" class=\"dataframe\">\n",
       "  <thead>\n",
       "    <tr style=\"text-align: right;\">\n",
       "      <th></th>\n",
       "      <th>Converted</th>\n",
       "      <th>Prospect ID</th>\n",
       "      <th>Converted_Prob</th>\n",
       "      <th>Final_Predicted</th>\n",
       "      <th>lead score</th>\n",
       "    </tr>\n",
       "  </thead>\n",
       "  <tbody>\n",
       "    <tr>\n",
       "      <th>0</th>\n",
       "      <td>1</td>\n",
       "      <td>6906</td>\n",
       "      <td>0.998868</td>\n",
       "      <td>1</td>\n",
       "      <td>100</td>\n",
       "    </tr>\n",
       "    <tr>\n",
       "      <th>4</th>\n",
       "      <td>1</td>\n",
       "      <td>9061</td>\n",
       "      <td>0.990961</td>\n",
       "      <td>1</td>\n",
       "      <td>99</td>\n",
       "    </tr>\n",
       "    <tr>\n",
       "      <th>9</th>\n",
       "      <td>1</td>\n",
       "      <td>7008</td>\n",
       "      <td>0.987432</td>\n",
       "      <td>1</td>\n",
       "      <td>99</td>\n",
       "    </tr>\n",
       "    <tr>\n",
       "      <th>11</th>\n",
       "      <td>1</td>\n",
       "      <td>3074</td>\n",
       "      <td>0.995583</td>\n",
       "      <td>1</td>\n",
       "      <td>100</td>\n",
       "    </tr>\n",
       "    <tr>\n",
       "      <th>13</th>\n",
       "      <td>1</td>\n",
       "      <td>6163</td>\n",
       "      <td>0.974306</td>\n",
       "      <td>1</td>\n",
       "      <td>97</td>\n",
       "    </tr>\n",
       "  </tbody>\n",
       "</table>\n",
       "</div>"
      ],
      "text/plain": [
       "    Converted  Prospect ID  Converted_Prob  Final_Predicted  lead score\n",
       "0           1         6906        0.998868                1         100\n",
       "4           1         9061        0.990961                1          99\n",
       "9           1         7008        0.987432                1          99\n",
       "11          1         3074        0.995583                1         100\n",
       "13          1         6163        0.974306                1          97"
      ]
     },
     "execution_count": 164,
     "metadata": {},
     "output_type": "execute_result"
    }
   ],
   "source": [
    "Hot_leads.head()"
   ]
  },
  {
   "cell_type": "code",
   "execution_count": 163,
   "id": "3546d1f3",
   "metadata": {},
   "outputs": [
    {
     "data": {
      "text/plain": [
       "(863, 5)"
      ]
     },
     "execution_count": 163,
     "metadata": {},
     "output_type": "execute_result"
    }
   ],
   "source": [
    "Hot_leads.shape"
   ]
  },
  {
   "cell_type": "markdown",
   "id": "e0dc0b54",
   "metadata": {},
   "source": [
    "* There are 863 hot leads whose chances of conversion is high."
   ]
  },
  {
   "cell_type": "code",
   "execution_count": 165,
   "id": "67470a85",
   "metadata": {},
   "outputs": [],
   "source": [
    "Hot_leads_ID = Hot_leads['Prospect ID'].values "
   ]
  },
  {
   "cell_type": "code",
   "execution_count": 169,
   "id": "3e45a1a9",
   "metadata": {},
   "outputs": [
    {
     "data": {
      "text/plain": [
       "array([6906, 9061, 7008, 3074, 6163, 6482,  962, 2241, 1860, 1167, 4872,\n",
       "       4407, 2380, 3615, 1710, 1200,  662, 2198, 7963,  223,  449,  746,\n",
       "       4250, 7911, 6243,  353, 4812, 3028, 7263, 2952,  676, 4049, 7098,\n",
       "       5752, 8107, 8989, 8664, 4849,  675, 2050, 8118, 9210, 3952, 9203,\n",
       "       2095, 2709, 4748, 4291, 4879, 3535, 1581, 3437, 4892, 8452, 5687,\n",
       "       6912, 7316, 5617, 6484, 4523,  331, 4803, 2940, 3543, 8960, 7452,\n",
       "       8673, 5354, 2161, 5540,   76, 4480, 1731, 6299, 2338, 3496, 4607,\n",
       "       5591, 8556, 7033, 6819, 3350, 7102, 3822, 2655, 4779, 7733, 7652,\n",
       "       6438, 3465, 8588, 5343, 4131, 6240, 3977, 2001, 2734, 1289, 2126,\n",
       "        784], dtype=int64)"
      ]
     },
     "execution_count": 169,
     "metadata": {},
     "output_type": "execute_result"
    }
   ],
   "source": [
    "#Prospect ID of hot leads that need to be contacted are in Hot_leads_ID variable.\n",
    "\n",
    "Hot_leads_ID[:100]  # first 100 Hot_leads_ID observations"
   ]
  },
  {
   "cell_type": "markdown",
   "id": "ca9a2c2d",
   "metadata": {},
   "source": [
    "## Observations:-\n",
    "\n",
    "\n",
    "#### Following are the accuracy metrics concluded from train datset :-\n",
    "\n",
    "* Accuracy    : 93.28 %\n",
    "\n",
    "* Specificity : 92.78 %\n",
    "\n",
    "* Sensitivity : 94.11 %"
   ]
  },
  {
   "cell_type": "markdown",
   "id": "81e76c33",
   "metadata": {},
   "source": [
    "#### Following are the accuracy metrics concluded from test dataset:-\n",
    "\n",
    "* Accuracy    : 93.65 % \n",
    "* Specificity : 93.85 %\n",
    "* Sensitivity : 93.34 %"
   ]
  },
  {
   "cell_type": "markdown",
   "id": "47b2ff22",
   "metadata": {},
   "source": [
    "#### Top three Variables contributed Most to our Model are :\n",
    "* Tags_lost to EINS\n",
    "* Tags_Closed by Horizzon\n",
    "* Lead_Source_Welingak Website"
   ]
  },
  {
   "cell_type": "code",
   "execution_count": null,
   "id": "8fcb0001",
   "metadata": {},
   "outputs": [],
   "source": []
  }
 ],
 "metadata": {
  "kernelspec": {
   "display_name": "Python 3 (ipykernel)",
   "language": "python",
   "name": "python3"
  },
  "language_info": {
   "codemirror_mode": {
    "name": "ipython",
    "version": 3
   },
   "file_extension": ".py",
   "mimetype": "text/x-python",
   "name": "python",
   "nbconvert_exporter": "python",
   "pygments_lexer": "ipython3",
   "version": "3.9.12"
  }
 },
 "nbformat": 4,
 "nbformat_minor": 5
}
